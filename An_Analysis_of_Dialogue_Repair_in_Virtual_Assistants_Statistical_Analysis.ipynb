{
  "nbformat": 4,
  "nbformat_minor": 0,
  "metadata": {
    "colab": {
      "provenance": [],
      "collapsed_sections": [
        "IOdlvzd8soDL",
        "MnCW7eDV89WL"
      ],
      "include_colab_link": true
    },
    "kernelspec": {
      "name": "ir",
      "display_name": "R"
    },
    "language_info": {
      "name": "R"
    }
  },
  "cells": [
    {
      "cell_type": "markdown",
      "metadata": {
        "id": "view-in-github",
        "colab_type": "text"
      },
      "source": [
        "<a href=\"https://colab.research.google.com/github/MatthewCGalbraith/FrontiersData/blob/main/An_Analysis_of_Dialogue_Repair_in_Virtual_Assistants_Statistical_Analysis.ipynb\" target=\"_parent\"><img src=\"https://colab.research.google.com/assets/colab-badge.svg\" alt=\"Open In Colab\"/></a>"
      ]
    },
    {
      "cell_type": "markdown",
      "source": [
        "# 1. **Task A & B - Testing effect of Task, Assistant, and Language on Occurence of Strategy**"
      ],
      "metadata": {
        "id": "IOdlvzd8soDL"
      }
    },
    {
      "cell_type": "markdown",
      "source": [
        "## Install Packages"
      ],
      "metadata": {
        "id": "JkgYA2KvfHZe"
      }
    },
    {
      "cell_type": "code",
      "source": [
        "install.packages(\"BayesFactor\")"
      ],
      "metadata": {
        "colab": {
          "base_uri": "https://localhost:8080/"
        },
        "id": "IR4CLZ_NfKnJ",
        "outputId": "b16a3cfa-a2a0-4a16-df5d-42e058bcad16"
      },
      "execution_count": 5,
      "outputs": [
        {
          "output_type": "stream",
          "name": "stderr",
          "text": [
            "Installing package into ‘/usr/local/lib/R/site-library’\n",
            "(as ‘lib’ is unspecified)\n",
            "\n",
            "also installing the dependencies ‘elliptic’, ‘contfrac’, ‘deSolve’, ‘coda’, ‘pbapply’, ‘mvtnorm’, ‘MatrixModels’, ‘Rcpp’, ‘hypergeo’, ‘RcppEigen’\n",
            "\n",
            "\n"
          ]
        }
      ]
    },
    {
      "cell_type": "markdown",
      "source": [
        "## Task A"
      ],
      "metadata": {
        "id": "raOV4H1Iffbn"
      }
    },
    {
      "cell_type": "markdown",
      "source": [
        "### Load Data"
      ],
      "metadata": {
        "id": "jkDP1lkgfrU0"
      }
    },
    {
      "cell_type": "code",
      "source": [
        "#This is the data that shows Task, Assistant, and Language and the COUNTS of the occurences of the strategies\n",
        "\n",
        "# Full Data\n",
        "# data <- read.csv(\"https://raw.githubusercontent.com/MatthewCGalbraith/FrontiersData/main/mss.csv\")\n",
        "\n",
        "# Just Task A\n",
        "data <- read.csv(\"https://raw.githubusercontent.com/MatthewCGalbraith/FrontiersData/main/mssA.csv\")\n",
        "\n",
        "# Just Task B\n",
        "# data <- read.csv(\"https://raw.githubusercontent.com/MatthewCGalbraith/FrontiersData/main/mssB.csv\")\n"
      ],
      "metadata": {
        "id": "yUTVww3tftJh"
      },
      "execution_count": 13,
      "outputs": []
    },
    {
      "cell_type": "markdown",
      "source": [
        "### Assistant"
      ],
      "metadata": {
        "id": "h5QZ3YIgfiYJ"
      }
    },
    {
      "cell_type": "code",
      "source": [
        "# Create a contingency table\n",
        "cont_table <- table(data$Assistant, data$Strategy)\n",
        "\n",
        "# Calculate row totals\n",
        "row_totals <- rowSums(cont_table)\n",
        "\n",
        "# Calculate percentages\n",
        "percentage_table <- round(100 * cont_table / row_totals, 2) # shows the percentage out of the ROW\n",
        "\n",
        "# Add row and column names for clarity\n",
        "row.names(percentage_table) <- row.names(cont_table)\n",
        "colnames(percentage_table) <- colnames(cont_table)\n",
        "\n",
        "# Add a row for total percentages\n",
        "total_percentage <- colSums(cont_table) / sum(cont_table) * 100\n",
        "percentage_table <- rbind(percentage_table, total_percentage) # Shows the percentage of the column out of the WHOLE TABLE\n",
        "\n",
        "# Round values to 2 decimal places\n",
        "percentage_table <- round(percentage_table, 2)\n",
        "\n",
        "# Print the percentage table\n",
        "percentage_table\n",
        "\n",
        "cont_table"
      ],
      "metadata": {
        "colab": {
          "base_uri": "https://localhost:8080/",
          "height": 230
        },
        "id": "TcaLfqemgDIk",
        "outputId": "8433b8f0-4d2b-4941-e709-e4e643c4e1a9"
      },
      "execution_count": 14,
      "outputs": [
        {
          "output_type": "display_data",
          "data": {
            "text/html": [
              "<table class=\"dataframe\">\n",
              "<caption>A matrix: 3 × 10 of type dbl</caption>\n",
              "<thead>\n",
              "\t<tr><th></th><th scope=col>1</th><th scope=col>2</th><th scope=col>3</th><th scope=col>4</th><th scope=col>5</th><th scope=col>6</th><th scope=col>7</th><th scope=col>8</th><th scope=col>9</th><th scope=col>10</th></tr>\n",
              "</thead>\n",
              "<tbody>\n",
              "\t<tr><th scope=row>Google</th><td> 3.33</td><td>13.33</td><td>10.00</td><td>3.33</td><td>13.33</td><td>20.00</td><td>16.67</td><td>10</td><td>6.67</td><td>3.33</td></tr>\n",
              "\t<tr><th scope=row>Siri</th><td>10.00</td><td>33.33</td><td> 6.67</td><td>0.00</td><td>10.00</td><td>16.67</td><td> 3.33</td><td>20</td><td>0.00</td><td>0.00</td></tr>\n",
              "\t<tr><th scope=row>total_percentage</th><td> 6.67</td><td>23.33</td><td> 8.33</td><td>1.67</td><td>11.67</td><td>18.33</td><td>10.00</td><td>15</td><td>3.33</td><td>1.67</td></tr>\n",
              "</tbody>\n",
              "</table>\n"
            ],
            "text/markdown": "\nA matrix: 3 × 10 of type dbl\n\n| <!--/--> | 1 | 2 | 3 | 4 | 5 | 6 | 7 | 8 | 9 | 10 |\n|---|---|---|---|---|---|---|---|---|---|---|\n| Google |  3.33 | 13.33 | 10.00 | 3.33 | 13.33 | 20.00 | 16.67 | 10 | 6.67 | 3.33 |\n| Siri | 10.00 | 33.33 |  6.67 | 0.00 | 10.00 | 16.67 |  3.33 | 20 | 0.00 | 0.00 |\n| total_percentage |  6.67 | 23.33 |  8.33 | 1.67 | 11.67 | 18.33 | 10.00 | 15 | 3.33 | 1.67 |\n\n",
            "text/latex": "A matrix: 3 × 10 of type dbl\n\\begin{tabular}{r|llllllllll}\n  & 1 & 2 & 3 & 4 & 5 & 6 & 7 & 8 & 9 & 10\\\\\n\\hline\n\tGoogle &  3.33 & 13.33 & 10.00 & 3.33 & 13.33 & 20.00 & 16.67 & 10 & 6.67 & 3.33\\\\\n\tSiri & 10.00 & 33.33 &  6.67 & 0.00 & 10.00 & 16.67 &  3.33 & 20 & 0.00 & 0.00\\\\\n\ttotal\\_percentage &  6.67 & 23.33 &  8.33 & 1.67 & 11.67 & 18.33 & 10.00 & 15 & 3.33 & 1.67\\\\\n\\end{tabular}\n",
            "text/plain": [
              "                 1     2     3     4    5     6     7     8  9    10  \n",
              "Google            3.33 13.33 10.00 3.33 13.33 20.00 16.67 10 6.67 3.33\n",
              "Siri             10.00 33.33  6.67 0.00 10.00 16.67  3.33 20 0.00 0.00\n",
              "total_percentage  6.67 23.33  8.33 1.67 11.67 18.33 10.00 15 3.33 1.67"
            ]
          },
          "metadata": {}
        },
        {
          "output_type": "display_data",
          "data": {
            "text/plain": [
              "        \n",
              "          1  2  3  4  5  6  7  8  9 10\n",
              "  Google  1  4  3  1  4  6  5  3  2  1\n",
              "  Siri    3 10  2  0  3  5  1  6  0  0"
            ]
          },
          "metadata": {}
        }
      ]
    },
    {
      "cell_type": "code",
      "source": [
        "library(BayesFactor)\n",
        "\n",
        "# Create a contingency table for assistant\n",
        "cont_table_ass <- table(data$Assistant, data$Strategy)\n",
        "\n",
        "# Perform the Bayesian analysis with joint multinomial sampling\n",
        "result_ass <- contingencyTableBF(cont_table_ass, sampleType = \"jointMulti\")\n",
        "\n",
        "print(\"Bayesian analysis for Assistant:\")\n",
        "# Examine the results\n",
        "summary(result_ass)"
      ],
      "metadata": {
        "colab": {
          "base_uri": "https://localhost:8080/"
        },
        "id": "hmVInNySgbWS",
        "outputId": "7ffe9e7d-ffcb-414b-91d0-9a99a8de391f"
      },
      "execution_count": 15,
      "outputs": [
        {
          "output_type": "stream",
          "name": "stdout",
          "text": [
            "[1] \"Bayesian analysis for Assistant:\"\n",
            "Bayes factor analysis\n",
            "--------------\n",
            "[1] Non-indep. (a=1) : 1.41759 ±0%\n",
            "\n",
            "Against denominator:\n",
            "  Null, independence, a = 1 \n",
            "---\n",
            "Bayes factor type: BFcontingencyTable, joint multinomial\n",
            "\n"
          ]
        }
      ]
    },
    {
      "cell_type": "markdown",
      "source": [
        "### Language"
      ],
      "metadata": {
        "id": "ZT4cX6Pgfk8b"
      }
    },
    {
      "cell_type": "code",
      "source": [
        "# Create a contingency table\n",
        "cont_table <- table(data$Language, data$Strategy)\n",
        "\n",
        "# Calculate row totals\n",
        "row_totals <- rowSums(cont_table)\n",
        "\n",
        "# Calculate percentages\n",
        "percentage_table <- round(100 * cont_table / row_totals, 2) # shows the percentage out of the ROW\n",
        "\n",
        "# Add row and column names for clarity\n",
        "row.names(percentage_table) <- row.names(cont_table)\n",
        "colnames(percentage_table) <- colnames(cont_table)\n",
        "\n",
        "# Add a row for total percentages\n",
        "total_percentage <- colSums(cont_table) / sum(cont_table) * 100\n",
        "percentage_table <- rbind(percentage_table, total_percentage) # Shows the percentage of the column out of the WHOLE TABLE\n",
        "\n",
        "# Round values to 2 decimal places\n",
        "percentage_table <- round(percentage_table, 2)\n",
        "\n",
        "# Print the percentage table\n",
        "percentage_table\n",
        "\n",
        "cont_table"
      ],
      "metadata": {
        "colab": {
          "base_uri": "https://localhost:8080/",
          "height": 230
        },
        "id": "9KgJEUFrfmnz",
        "outputId": "9230a127-0796-478f-eaa8-3337a3ec14bc"
      },
      "execution_count": 16,
      "outputs": [
        {
          "output_type": "display_data",
          "data": {
            "text/html": [
              "<table class=\"dataframe\">\n",
              "<caption>A matrix: 3 × 10 of type dbl</caption>\n",
              "<thead>\n",
              "\t<tr><th></th><th scope=col>1</th><th scope=col>2</th><th scope=col>3</th><th scope=col>4</th><th scope=col>5</th><th scope=col>6</th><th scope=col>7</th><th scope=col>8</th><th scope=col>9</th><th scope=col>10</th></tr>\n",
              "</thead>\n",
              "<tbody>\n",
              "\t<tr><th scope=row>English</th><td>6.67</td><td>23.33</td><td> 3.33</td><td>3.33</td><td>16.67</td><td>16.67</td><td>13.33</td><td>13.33</td><td>3.33</td><td>0.00</td></tr>\n",
              "\t<tr><th scope=row>Spanish</th><td>6.67</td><td>23.33</td><td>13.33</td><td>0.00</td><td> 6.67</td><td>20.00</td><td> 6.67</td><td>16.67</td><td>3.33</td><td>3.33</td></tr>\n",
              "\t<tr><th scope=row>total_percentage</th><td>6.67</td><td>23.33</td><td> 8.33</td><td>1.67</td><td>11.67</td><td>18.33</td><td>10.00</td><td>15.00</td><td>3.33</td><td>1.67</td></tr>\n",
              "</tbody>\n",
              "</table>\n"
            ],
            "text/markdown": "\nA matrix: 3 × 10 of type dbl\n\n| <!--/--> | 1 | 2 | 3 | 4 | 5 | 6 | 7 | 8 | 9 | 10 |\n|---|---|---|---|---|---|---|---|---|---|---|\n| English | 6.67 | 23.33 |  3.33 | 3.33 | 16.67 | 16.67 | 13.33 | 13.33 | 3.33 | 0.00 |\n| Spanish | 6.67 | 23.33 | 13.33 | 0.00 |  6.67 | 20.00 |  6.67 | 16.67 | 3.33 | 3.33 |\n| total_percentage | 6.67 | 23.33 |  8.33 | 1.67 | 11.67 | 18.33 | 10.00 | 15.00 | 3.33 | 1.67 |\n\n",
            "text/latex": "A matrix: 3 × 10 of type dbl\n\\begin{tabular}{r|llllllllll}\n  & 1 & 2 & 3 & 4 & 5 & 6 & 7 & 8 & 9 & 10\\\\\n\\hline\n\tEnglish & 6.67 & 23.33 &  3.33 & 3.33 & 16.67 & 16.67 & 13.33 & 13.33 & 3.33 & 0.00\\\\\n\tSpanish & 6.67 & 23.33 & 13.33 & 0.00 &  6.67 & 20.00 &  6.67 & 16.67 & 3.33 & 3.33\\\\\n\ttotal\\_percentage & 6.67 & 23.33 &  8.33 & 1.67 & 11.67 & 18.33 & 10.00 & 15.00 & 3.33 & 1.67\\\\\n\\end{tabular}\n",
            "text/plain": [
              "                 1    2     3     4    5     6     7     8     9    10  \n",
              "English          6.67 23.33  3.33 3.33 16.67 16.67 13.33 13.33 3.33 0.00\n",
              "Spanish          6.67 23.33 13.33 0.00  6.67 20.00  6.67 16.67 3.33 3.33\n",
              "total_percentage 6.67 23.33  8.33 1.67 11.67 18.33 10.00 15.00 3.33 1.67"
            ]
          },
          "metadata": {}
        },
        {
          "output_type": "display_data",
          "data": {
            "text/plain": [
              "         \n",
              "          1 2 3 4 5 6 7 8 9 10\n",
              "  English 2 7 1 1 5 5 4 4 1  0\n",
              "  Spanish 2 7 4 0 2 6 2 5 1  1"
            ]
          },
          "metadata": {}
        }
      ]
    },
    {
      "cell_type": "code",
      "source": [
        "library(BayesFactor)\n",
        "\n",
        "# Create a contingency table for assistant\n",
        "cont_table_lang <- table(data$Language, data$Strategy)\n",
        "\n",
        "# Perform the Bayesian analysis with joint multinomial sampling\n",
        "result_lang <- contingencyTableBF(cont_table_lang, sampleType = \"jointMulti\")\n",
        "\n",
        "print(\"Bayesian analysis for Language:\")\n",
        "# Examine the results\n",
        "summary(result_lang)"
      ],
      "metadata": {
        "colab": {
          "base_uri": "https://localhost:8080/"
        },
        "id": "flA7fLssiRLw",
        "outputId": "61b468b5-f74f-4805-ef08-429a1bbc5f53"
      },
      "execution_count": 17,
      "outputs": [
        {
          "output_type": "stream",
          "name": "stdout",
          "text": [
            "[1] \"Bayesian analysis for Language:\"\n",
            "Bayes factor analysis\n",
            "--------------\n",
            "[1] Non-indep. (a=1) : 0.1225078 ±0%\n",
            "\n",
            "Against denominator:\n",
            "  Null, independence, a = 1 \n",
            "---\n",
            "Bayes factor type: BFcontingencyTable, joint multinomial\n",
            "\n"
          ]
        }
      ]
    },
    {
      "cell_type": "markdown",
      "source": [
        "## Task B"
      ],
      "metadata": {
        "id": "6xsGZxqdjNHi"
      }
    },
    {
      "cell_type": "markdown",
      "source": [
        "### Load Data"
      ],
      "metadata": {
        "id": "YIIZDt0-jNHp"
      }
    },
    {
      "cell_type": "code",
      "source": [
        "#This is the data that shows Task, Assistant, and Language and the COUNTS of the occurences of the strategies\n",
        "\n",
        "# Full Data\n",
        "# data <- read.csv(\"https://raw.githubusercontent.com/MatthewCGalbraith/FrontiersData/main/mss.csv\")\n",
        "\n",
        "# Just Task A\n",
        "# data <- read.csv(\"https://raw.githubusercontent.com/MatthewCGalbraith/FrontiersData/main/mssA.csv\")\n",
        "\n",
        "# Just Task B\n",
        "data <- read.csv(\"https://raw.githubusercontent.com/MatthewCGalbraith/FrontiersData/main/mssB.csv\")\n"
      ],
      "metadata": {
        "id": "Dqf8VLORjNHp"
      },
      "execution_count": 18,
      "outputs": []
    },
    {
      "cell_type": "markdown",
      "source": [
        "### Assistant"
      ],
      "metadata": {
        "id": "icKBIkUbjNHq"
      }
    },
    {
      "cell_type": "code",
      "source": [
        "# Create a contingency table\n",
        "cont_table <- table(data$Assistant, data$Strategy)\n",
        "\n",
        "# Calculate row totals\n",
        "row_totals <- rowSums(cont_table)\n",
        "\n",
        "# Calculate percentages\n",
        "percentage_table <- round(100 * cont_table / row_totals, 2) # shows the percentage out of the ROW\n",
        "\n",
        "# Add row and column names for clarity\n",
        "row.names(percentage_table) <- row.names(cont_table)\n",
        "colnames(percentage_table) <- colnames(cont_table)\n",
        "\n",
        "# Add a row for total percentages\n",
        "total_percentage <- colSums(cont_table) / sum(cont_table) * 100\n",
        "percentage_table <- rbind(percentage_table, total_percentage) # Shows the percentage of the column out of the WHOLE TABLE\n",
        "\n",
        "# Round values to 2 decimal places\n",
        "percentage_table <- round(percentage_table, 2)\n",
        "\n",
        "# Print the percentage table\n",
        "percentage_table\n",
        "\n",
        "cont_table"
      ],
      "metadata": {
        "colab": {
          "base_uri": "https://localhost:8080/",
          "height": 230
        },
        "outputId": "f92e4e22-8b79-4d0a-8920-17182d5f3a59",
        "id": "1SpwQpOBjNHq"
      },
      "execution_count": 19,
      "outputs": [
        {
          "output_type": "display_data",
          "data": {
            "text/html": [
              "<table class=\"dataframe\">\n",
              "<caption>A matrix: 3 × 5 of type dbl</caption>\n",
              "<thead>\n",
              "\t<tr><th></th><th scope=col>2</th><th scope=col>4</th><th scope=col>5</th><th scope=col>8</th><th scope=col>9</th></tr>\n",
              "</thead>\n",
              "<tbody>\n",
              "\t<tr><th scope=row>Google</th><td>0.0</td><td>90.0</td><td> 7.5</td><td> 0.00</td><td> 2.50</td></tr>\n",
              "\t<tr><th scope=row>Siri</th><td>5.0</td><td> 5.0</td><td>42.5</td><td>17.50</td><td>30.00</td></tr>\n",
              "\t<tr><th scope=row>total_percentage</th><td>2.5</td><td>47.5</td><td>25.0</td><td> 8.75</td><td>16.25</td></tr>\n",
              "</tbody>\n",
              "</table>\n"
            ],
            "text/markdown": "\nA matrix: 3 × 5 of type dbl\n\n| <!--/--> | 2 | 4 | 5 | 8 | 9 |\n|---|---|---|---|---|---|\n| Google | 0.0 | 90.0 |  7.5 |  0.00 |  2.50 |\n| Siri | 5.0 |  5.0 | 42.5 | 17.50 | 30.00 |\n| total_percentage | 2.5 | 47.5 | 25.0 |  8.75 | 16.25 |\n\n",
            "text/latex": "A matrix: 3 × 5 of type dbl\n\\begin{tabular}{r|lllll}\n  & 2 & 4 & 5 & 8 & 9\\\\\n\\hline\n\tGoogle & 0.0 & 90.0 &  7.5 &  0.00 &  2.50\\\\\n\tSiri & 5.0 &  5.0 & 42.5 & 17.50 & 30.00\\\\\n\ttotal\\_percentage & 2.5 & 47.5 & 25.0 &  8.75 & 16.25\\\\\n\\end{tabular}\n",
            "text/plain": [
              "                 2   4    5    8     9    \n",
              "Google           0.0 90.0  7.5  0.00  2.50\n",
              "Siri             5.0  5.0 42.5 17.50 30.00\n",
              "total_percentage 2.5 47.5 25.0  8.75 16.25"
            ]
          },
          "metadata": {}
        },
        {
          "output_type": "display_data",
          "data": {
            "text/plain": [
              "        \n",
              "          2  4  5  8  9\n",
              "  Google  0 36  3  0  1\n",
              "  Siri    2  2 17  7 12"
            ]
          },
          "metadata": {}
        }
      ]
    },
    {
      "cell_type": "code",
      "source": [
        "library(BayesFactor)\n",
        "\n",
        "# Create a contingency table for assistant\n",
        "cont_table_ass <- table(data$Assistant, data$Strategy)\n",
        "\n",
        "# Perform the Bayesian analysis with joint multinomial sampling\n",
        "result_ass <- contingencyTableBF(cont_table_ass, sampleType = \"jointMulti\")\n",
        "\n",
        "print(\"Bayesian analysis for Assistant:\")\n",
        "# Examine the results\n",
        "summary(result_ass)"
      ],
      "metadata": {
        "colab": {
          "base_uri": "https://localhost:8080/"
        },
        "outputId": "23191c09-e1a2-4cbc-a54d-974f3b836c95",
        "id": "YkW5v9VejNHq"
      },
      "execution_count": 20,
      "outputs": [
        {
          "output_type": "stream",
          "name": "stdout",
          "text": [
            "[1] \"Bayesian analysis for Assistant:\"\n",
            "Bayes factor analysis\n",
            "--------------\n",
            "[1] Non-indep. (a=1) : 2.53724e+12 ±0%\n",
            "\n",
            "Against denominator:\n",
            "  Null, independence, a = 1 \n",
            "---\n",
            "Bayes factor type: BFcontingencyTable, joint multinomial\n",
            "\n"
          ]
        }
      ]
    },
    {
      "cell_type": "markdown",
      "source": [
        "### Language"
      ],
      "metadata": {
        "id": "YPLjJ99GjNHq"
      }
    },
    {
      "cell_type": "code",
      "source": [
        "# Create a contingency table\n",
        "cont_table <- table(data$Language, data$Strategy)\n",
        "\n",
        "# Calculate row totals\n",
        "row_totals <- rowSums(cont_table)\n",
        "\n",
        "# Calculate percentages\n",
        "percentage_table <- round(100 * cont_table / row_totals, 2) # shows the percentage out of the ROW\n",
        "\n",
        "# Add row and column names for clarity\n",
        "row.names(percentage_table) <- row.names(cont_table)\n",
        "colnames(percentage_table) <- colnames(cont_table)\n",
        "\n",
        "# Add a row for total percentages\n",
        "total_percentage <- colSums(cont_table) / sum(cont_table) * 100\n",
        "percentage_table <- rbind(percentage_table, total_percentage) # Shows the percentage of the column out of the WHOLE TABLE\n",
        "\n",
        "# Round values to 2 decimal places\n",
        "percentage_table <- round(percentage_table, 2)\n",
        "\n",
        "# Print the percentage table\n",
        "percentage_table\n",
        "\n",
        "cont_table"
      ],
      "metadata": {
        "colab": {
          "base_uri": "https://localhost:8080/",
          "height": 230
        },
        "outputId": "efcac4de-9a7c-4e82-872c-56ed2581365e",
        "id": "kJgt-N89jNHq"
      },
      "execution_count": 21,
      "outputs": [
        {
          "output_type": "display_data",
          "data": {
            "text/html": [
              "<table class=\"dataframe\">\n",
              "<caption>A matrix: 3 × 5 of type dbl</caption>\n",
              "<thead>\n",
              "\t<tr><th></th><th scope=col>2</th><th scope=col>4</th><th scope=col>5</th><th scope=col>8</th><th scope=col>9</th></tr>\n",
              "</thead>\n",
              "<tbody>\n",
              "\t<tr><th scope=row>English</th><td>5.0</td><td>40.0</td><td>20</td><td> 2.50</td><td>32.50</td></tr>\n",
              "\t<tr><th scope=row>Spanish</th><td>0.0</td><td>55.0</td><td>30</td><td>15.00</td><td> 0.00</td></tr>\n",
              "\t<tr><th scope=row>total_percentage</th><td>2.5</td><td>47.5</td><td>25</td><td> 8.75</td><td>16.25</td></tr>\n",
              "</tbody>\n",
              "</table>\n"
            ],
            "text/markdown": "\nA matrix: 3 × 5 of type dbl\n\n| <!--/--> | 2 | 4 | 5 | 8 | 9 |\n|---|---|---|---|---|---|\n| English | 5.0 | 40.0 | 20 |  2.50 | 32.50 |\n| Spanish | 0.0 | 55.0 | 30 | 15.00 |  0.00 |\n| total_percentage | 2.5 | 47.5 | 25 |  8.75 | 16.25 |\n\n",
            "text/latex": "A matrix: 3 × 5 of type dbl\n\\begin{tabular}{r|lllll}\n  & 2 & 4 & 5 & 8 & 9\\\\\n\\hline\n\tEnglish & 5.0 & 40.0 & 20 &  2.50 & 32.50\\\\\n\tSpanish & 0.0 & 55.0 & 30 & 15.00 &  0.00\\\\\n\ttotal\\_percentage & 2.5 & 47.5 & 25 &  8.75 & 16.25\\\\\n\\end{tabular}\n",
            "text/plain": [
              "                 2   4    5  8     9    \n",
              "English          5.0 40.0 20  2.50 32.50\n",
              "Spanish          0.0 55.0 30 15.00  0.00\n",
              "total_percentage 2.5 47.5 25  8.75 16.25"
            ]
          },
          "metadata": {}
        },
        {
          "output_type": "display_data",
          "data": {
            "text/plain": [
              "         \n",
              "           2  4  5  8  9\n",
              "  English  2 16  8  1 13\n",
              "  Spanish  0 22 12  6  0"
            ]
          },
          "metadata": {}
        }
      ]
    },
    {
      "cell_type": "code",
      "source": [
        "library(BayesFactor)\n",
        "\n",
        "# Create a contingency table for assistant\n",
        "cont_table_lang <- table(data$Language, data$Strategy)\n",
        "\n",
        "# Perform the Bayesian analysis with joint multinomial sampling\n",
        "result_lang <- contingencyTableBF(cont_table_lang, sampleType = \"jointMulti\")\n",
        "\n",
        "print(\"Bayesian analysis for Language:\")\n",
        "# Examine the results\n",
        "summary(result_lang)"
      ],
      "metadata": {
        "colab": {
          "base_uri": "https://localhost:8080/"
        },
        "outputId": "86d7c73e-c1b6-45ee-d86d-576dad8cc0a0",
        "id": "r7ohrqMdjNHq"
      },
      "execution_count": 22,
      "outputs": [
        {
          "output_type": "stream",
          "name": "stdout",
          "text": [
            "[1] \"Bayesian analysis for Language:\"\n",
            "Bayes factor analysis\n",
            "--------------\n",
            "[1] Non-indep. (a=1) : 1347.925 ±0%\n",
            "\n",
            "Against denominator:\n",
            "  Null, independence, a = 1 \n",
            "---\n",
            "Bayes factor type: BFcontingencyTable, joint multinomial\n",
            "\n"
          ]
        }
      ]
    },
    {
      "cell_type": "markdown",
      "source": [
        "## Task A and B Combined"
      ],
      "metadata": {
        "id": "SA5o5OVEjWLy"
      }
    },
    {
      "cell_type": "markdown",
      "source": [
        "### Load Data"
      ],
      "metadata": {
        "id": "GQ4B-SpUjWL6"
      }
    },
    {
      "cell_type": "code",
      "source": [
        "#This is the data that shows Task, Assistant, and Language and the COUNTS of the occurences of the strategies\n",
        "\n",
        "# Full Data\n",
        "data <- read.csv(\"https://raw.githubusercontent.com/MatthewCGalbraith/FrontiersData/main/mss.csv\")\n",
        "\n",
        "# Just Task A\n",
        "# data <- read.csv(\"https://raw.githubusercontent.com/MatthewCGalbraith/FrontiersData/main/mssA.csv\")\n",
        "\n",
        "# Just Task B\n",
        "# data <- read.csv(\"https://raw.githubusercontent.com/MatthewCGalbraith/FrontiersData/main/mssB.csv\")\n"
      ],
      "metadata": {
        "id": "nz2sj7dojWL6"
      },
      "execution_count": 23,
      "outputs": []
    },
    {
      "cell_type": "markdown",
      "source": [
        "### Assistant"
      ],
      "metadata": {
        "id": "KkLdt8XzjWL6"
      }
    },
    {
      "cell_type": "code",
      "source": [
        "# Create a contingency table\n",
        "cont_table <- table(data$Assistant, data$Strategy)\n",
        "\n",
        "# Calculate row totals\n",
        "row_totals <- rowSums(cont_table)\n",
        "\n",
        "# Calculate percentages\n",
        "percentage_table <- round(100 * cont_table / row_totals, 2) # shows the percentage out of the ROW\n",
        "\n",
        "# Add row and column names for clarity\n",
        "row.names(percentage_table) <- row.names(cont_table)\n",
        "colnames(percentage_table) <- colnames(cont_table)\n",
        "\n",
        "# Add a row for total percentages\n",
        "total_percentage <- colSums(cont_table) / sum(cont_table) * 100\n",
        "percentage_table <- rbind(percentage_table, total_percentage) # Shows the percentage of the column out of the WHOLE TABLE\n",
        "\n",
        "# Round values to 2 decimal places\n",
        "percentage_table <- round(percentage_table, 2)\n",
        "\n",
        "# Print the percentage table\n",
        "percentage_table\n",
        "\n",
        "cont_table"
      ],
      "metadata": {
        "colab": {
          "base_uri": "https://localhost:8080/",
          "height": 230
        },
        "outputId": "ea0d7853-5caa-43ae-bfa3-170e19de05a6",
        "id": "2BxMwWpmjWL6"
      },
      "execution_count": 24,
      "outputs": [
        {
          "output_type": "display_data",
          "data": {
            "text/html": [
              "<table class=\"dataframe\">\n",
              "<caption>A matrix: 3 × 10 of type dbl</caption>\n",
              "<thead>\n",
              "\t<tr><th></th><th scope=col>1</th><th scope=col>2</th><th scope=col>3</th><th scope=col>4</th><th scope=col>5</th><th scope=col>6</th><th scope=col>7</th><th scope=col>8</th><th scope=col>9</th><th scope=col>10</th></tr>\n",
              "</thead>\n",
              "<tbody>\n",
              "\t<tr><th scope=row>Google</th><td>1.43</td><td> 5.71</td><td>4.29</td><td>52.86</td><td>10.00</td><td>8.57</td><td>7.14</td><td> 4.29</td><td> 4.29</td><td>1.43</td></tr>\n",
              "\t<tr><th scope=row>Siri</th><td>4.29</td><td>17.14</td><td>2.86</td><td> 2.86</td><td>28.57</td><td>7.14</td><td>1.43</td><td>18.57</td><td>17.14</td><td>0.00</td></tr>\n",
              "\t<tr><th scope=row>total_percentage</th><td>2.86</td><td>11.43</td><td>3.57</td><td>27.86</td><td>19.29</td><td>7.86</td><td>4.29</td><td>11.43</td><td>10.71</td><td>0.71</td></tr>\n",
              "</tbody>\n",
              "</table>\n"
            ],
            "text/markdown": "\nA matrix: 3 × 10 of type dbl\n\n| <!--/--> | 1 | 2 | 3 | 4 | 5 | 6 | 7 | 8 | 9 | 10 |\n|---|---|---|---|---|---|---|---|---|---|---|\n| Google | 1.43 |  5.71 | 4.29 | 52.86 | 10.00 | 8.57 | 7.14 |  4.29 |  4.29 | 1.43 |\n| Siri | 4.29 | 17.14 | 2.86 |  2.86 | 28.57 | 7.14 | 1.43 | 18.57 | 17.14 | 0.00 |\n| total_percentage | 2.86 | 11.43 | 3.57 | 27.86 | 19.29 | 7.86 | 4.29 | 11.43 | 10.71 | 0.71 |\n\n",
            "text/latex": "A matrix: 3 × 10 of type dbl\n\\begin{tabular}{r|llllllllll}\n  & 1 & 2 & 3 & 4 & 5 & 6 & 7 & 8 & 9 & 10\\\\\n\\hline\n\tGoogle & 1.43 &  5.71 & 4.29 & 52.86 & 10.00 & 8.57 & 7.14 &  4.29 &  4.29 & 1.43\\\\\n\tSiri & 4.29 & 17.14 & 2.86 &  2.86 & 28.57 & 7.14 & 1.43 & 18.57 & 17.14 & 0.00\\\\\n\ttotal\\_percentage & 2.86 & 11.43 & 3.57 & 27.86 & 19.29 & 7.86 & 4.29 & 11.43 & 10.71 & 0.71\\\\\n\\end{tabular}\n",
            "text/plain": [
              "                 1    2     3    4     5     6    7    8     9     10  \n",
              "Google           1.43  5.71 4.29 52.86 10.00 8.57 7.14  4.29  4.29 1.43\n",
              "Siri             4.29 17.14 2.86  2.86 28.57 7.14 1.43 18.57 17.14 0.00\n",
              "total_percentage 2.86 11.43 3.57 27.86 19.29 7.86 4.29 11.43 10.71 0.71"
            ]
          },
          "metadata": {}
        },
        {
          "output_type": "display_data",
          "data": {
            "text/plain": [
              "        \n",
              "          1  2  3  4  5  6  7  8  9 10\n",
              "  Google  1  4  3 37  7  6  5  3  3  1\n",
              "  Siri    3 12  2  2 20  5  1 13 12  0"
            ]
          },
          "metadata": {}
        }
      ]
    },
    {
      "cell_type": "code",
      "source": [
        "library(BayesFactor)\n",
        "\n",
        "# Create a contingency table for assistant\n",
        "cont_table_ass <- table(data$Assistant, data$Strategy)\n",
        "\n",
        "# Perform the Bayesian analysis with joint multinomial sampling\n",
        "result_ass <- contingencyTableBF(cont_table_ass, sampleType = \"jointMulti\")\n",
        "\n",
        "print(\"Bayesian analysis for Assistant:\")\n",
        "# Examine the results\n",
        "summary(result_ass)"
      ],
      "metadata": {
        "colab": {
          "base_uri": "https://localhost:8080/"
        },
        "outputId": "b3d4b767-487b-495f-c014-e007c5372aba",
        "id": "DXVxIiWRjWL6"
      },
      "execution_count": 25,
      "outputs": [
        {
          "output_type": "stream",
          "name": "stdout",
          "text": [
            "[1] \"Bayesian analysis for Assistant:\"\n",
            "Bayes factor analysis\n",
            "--------------\n",
            "[1] Non-indep. (a=1) : 16941296276 ±0%\n",
            "\n",
            "Against denominator:\n",
            "  Null, independence, a = 1 \n",
            "---\n",
            "Bayes factor type: BFcontingencyTable, joint multinomial\n",
            "\n"
          ]
        }
      ]
    },
    {
      "cell_type": "markdown",
      "source": [
        "### Language"
      ],
      "metadata": {
        "id": "FvDT5pJ1jWL6"
      }
    },
    {
      "cell_type": "code",
      "source": [
        "# Create a contingency table\n",
        "cont_table <- table(data$Language, data$Strategy)\n",
        "\n",
        "# Calculate row totals\n",
        "row_totals <- rowSums(cont_table)\n",
        "\n",
        "# Calculate percentages\n",
        "percentage_table <- round(100 * cont_table / row_totals, 2) # shows the percentage out of the ROW\n",
        "\n",
        "# Add row and column names for clarity\n",
        "row.names(percentage_table) <- row.names(cont_table)\n",
        "colnames(percentage_table) <- colnames(cont_table)\n",
        "\n",
        "# Add a row for total percentages\n",
        "total_percentage <- colSums(cont_table) / sum(cont_table) * 100\n",
        "percentage_table <- rbind(percentage_table, total_percentage) # Shows the percentage of the column out of the WHOLE TABLE\n",
        "\n",
        "# Round values to 2 decimal places\n",
        "percentage_table <- round(percentage_table, 2)\n",
        "\n",
        "# Print the percentage table\n",
        "percentage_table\n",
        "\n",
        "cont_table"
      ],
      "metadata": {
        "colab": {
          "base_uri": "https://localhost:8080/",
          "height": 230
        },
        "outputId": "e451ad87-eca8-4ad4-e41f-c95073a13c38",
        "id": "8CIWqUEfjWL6"
      },
      "execution_count": 26,
      "outputs": [
        {
          "output_type": "display_data",
          "data": {
            "text/html": [
              "<table class=\"dataframe\">\n",
              "<caption>A matrix: 3 × 10 of type dbl</caption>\n",
              "<thead>\n",
              "\t<tr><th></th><th scope=col>1</th><th scope=col>2</th><th scope=col>3</th><th scope=col>4</th><th scope=col>5</th><th scope=col>6</th><th scope=col>7</th><th scope=col>8</th><th scope=col>9</th><th scope=col>10</th></tr>\n",
              "</thead>\n",
              "<tbody>\n",
              "\t<tr><th scope=row>English</th><td>2.86</td><td>12.86</td><td>1.43</td><td>24.29</td><td>18.57</td><td>7.14</td><td>5.71</td><td> 7.14</td><td>20.00</td><td>0.00</td></tr>\n",
              "\t<tr><th scope=row>Spanish</th><td>2.86</td><td>10.00</td><td>5.71</td><td>31.43</td><td>20.00</td><td>8.57</td><td>2.86</td><td>15.71</td><td> 1.43</td><td>1.43</td></tr>\n",
              "\t<tr><th scope=row>total_percentage</th><td>2.86</td><td>11.43</td><td>3.57</td><td>27.86</td><td>19.29</td><td>7.86</td><td>4.29</td><td>11.43</td><td>10.71</td><td>0.71</td></tr>\n",
              "</tbody>\n",
              "</table>\n"
            ],
            "text/markdown": "\nA matrix: 3 × 10 of type dbl\n\n| <!--/--> | 1 | 2 | 3 | 4 | 5 | 6 | 7 | 8 | 9 | 10 |\n|---|---|---|---|---|---|---|---|---|---|---|\n| English | 2.86 | 12.86 | 1.43 | 24.29 | 18.57 | 7.14 | 5.71 |  7.14 | 20.00 | 0.00 |\n| Spanish | 2.86 | 10.00 | 5.71 | 31.43 | 20.00 | 8.57 | 2.86 | 15.71 |  1.43 | 1.43 |\n| total_percentage | 2.86 | 11.43 | 3.57 | 27.86 | 19.29 | 7.86 | 4.29 | 11.43 | 10.71 | 0.71 |\n\n",
            "text/latex": "A matrix: 3 × 10 of type dbl\n\\begin{tabular}{r|llllllllll}\n  & 1 & 2 & 3 & 4 & 5 & 6 & 7 & 8 & 9 & 10\\\\\n\\hline\n\tEnglish & 2.86 & 12.86 & 1.43 & 24.29 & 18.57 & 7.14 & 5.71 &  7.14 & 20.00 & 0.00\\\\\n\tSpanish & 2.86 & 10.00 & 5.71 & 31.43 & 20.00 & 8.57 & 2.86 & 15.71 &  1.43 & 1.43\\\\\n\ttotal\\_percentage & 2.86 & 11.43 & 3.57 & 27.86 & 19.29 & 7.86 & 4.29 & 11.43 & 10.71 & 0.71\\\\\n\\end{tabular}\n",
            "text/plain": [
              "                 1    2     3    4     5     6    7    8     9     10  \n",
              "English          2.86 12.86 1.43 24.29 18.57 7.14 5.71  7.14 20.00 0.00\n",
              "Spanish          2.86 10.00 5.71 31.43 20.00 8.57 2.86 15.71  1.43 1.43\n",
              "total_percentage 2.86 11.43 3.57 27.86 19.29 7.86 4.29 11.43 10.71 0.71"
            ]
          },
          "metadata": {}
        },
        {
          "output_type": "display_data",
          "data": {
            "text/plain": [
              "         \n",
              "           1  2  3  4  5  6  7  8  9 10\n",
              "  English  2  9  1 17 13  5  4  5 14  0\n",
              "  Spanish  2  7  4 22 14  6  2 11  1  1"
            ]
          },
          "metadata": {}
        }
      ]
    },
    {
      "cell_type": "code",
      "source": [
        "library(BayesFactor)\n",
        "\n",
        "# Create a contingency table for assistant\n",
        "cont_table_lang <- table(data$Language, data$Strategy)\n",
        "\n",
        "# Perform the Bayesian analysis with joint multinomial sampling\n",
        "result_lang <- contingencyTableBF(cont_table_lang, sampleType = \"jointMulti\")\n",
        "\n",
        "print(\"Bayesian analysis for Language:\")\n",
        "# Examine the results\n",
        "summary(result_lang)"
      ],
      "metadata": {
        "colab": {
          "base_uri": "https://localhost:8080/"
        },
        "outputId": "59532107-5fac-4dc9-af18-49fd5a3d0191",
        "id": "SKjUHQ6TjWL7"
      },
      "execution_count": 27,
      "outputs": [
        {
          "output_type": "stream",
          "name": "stdout",
          "text": [
            "[1] \"Bayesian analysis for Language:\"\n",
            "Bayes factor analysis\n",
            "--------------\n",
            "[1] Non-indep. (a=1) : 3.594331 ±0%\n",
            "\n",
            "Against denominator:\n",
            "  Null, independence, a = 1 \n",
            "---\n",
            "Bayes factor type: BFcontingencyTable, joint multinomial\n",
            "\n"
          ]
        }
      ]
    },
    {
      "cell_type": "markdown",
      "source": [
        "### Task"
      ],
      "metadata": {
        "id": "fz8xfvTMjnC6"
      }
    },
    {
      "cell_type": "code",
      "source": [
        "# Create a contingency table\n",
        "cont_table <- table(data$Task, data$Strategy)\n",
        "\n",
        "# Calculate row totals\n",
        "row_totals <- rowSums(cont_table)\n",
        "\n",
        "# Calculate percentages\n",
        "percentage_table <- round(100 * cont_table / row_totals, 2) # shows the percentage out of the ROW\n",
        "\n",
        "# Add row and column names for clarity\n",
        "row.names(percentage_table) <- row.names(cont_table)\n",
        "colnames(percentage_table) <- colnames(cont_table)\n",
        "\n",
        "# Add a row for total percentages\n",
        "total_percentage <- colSums(cont_table) / sum(cont_table) * 100\n",
        "percentage_table <- rbind(percentage_table, total_percentage) # Shows the percentage of the column out of the WHOLE TABLE\n",
        "\n",
        "# Round values to 2 decimal places\n",
        "percentage_table <- round(percentage_table, 2)\n",
        "\n",
        "# Print the percentage table\n",
        "percentage_table\n",
        "\n",
        "cont_table"
      ],
      "metadata": {
        "colab": {
          "base_uri": "https://localhost:8080/",
          "height": 230
        },
        "outputId": "64314aca-20f9-4936-e817-86eb121ba350",
        "id": "GvBBGwoujnDC"
      },
      "execution_count": 28,
      "outputs": [
        {
          "output_type": "display_data",
          "data": {
            "text/html": [
              "<table class=\"dataframe\">\n",
              "<caption>A matrix: 3 × 10 of type dbl</caption>\n",
              "<thead>\n",
              "\t<tr><th></th><th scope=col>1</th><th scope=col>2</th><th scope=col>3</th><th scope=col>4</th><th scope=col>5</th><th scope=col>6</th><th scope=col>7</th><th scope=col>8</th><th scope=col>9</th><th scope=col>10</th></tr>\n",
              "</thead>\n",
              "<tbody>\n",
              "\t<tr><th scope=row>A</th><td>6.67</td><td>23.33</td><td>8.33</td><td> 1.67</td><td>11.67</td><td>18.33</td><td>10.00</td><td>15.00</td><td> 3.33</td><td>1.67</td></tr>\n",
              "\t<tr><th scope=row>B</th><td>0.00</td><td> 2.50</td><td>0.00</td><td>47.50</td><td>25.00</td><td> 0.00</td><td> 0.00</td><td> 8.75</td><td>16.25</td><td>0.00</td></tr>\n",
              "\t<tr><th scope=row>total_percentage</th><td>2.86</td><td>11.43</td><td>3.57</td><td>27.86</td><td>19.29</td><td> 7.86</td><td> 4.29</td><td>11.43</td><td>10.71</td><td>0.71</td></tr>\n",
              "</tbody>\n",
              "</table>\n"
            ],
            "text/markdown": "\nA matrix: 3 × 10 of type dbl\n\n| <!--/--> | 1 | 2 | 3 | 4 | 5 | 6 | 7 | 8 | 9 | 10 |\n|---|---|---|---|---|---|---|---|---|---|---|\n| A | 6.67 | 23.33 | 8.33 |  1.67 | 11.67 | 18.33 | 10.00 | 15.00 |  3.33 | 1.67 |\n| B | 0.00 |  2.50 | 0.00 | 47.50 | 25.00 |  0.00 |  0.00 |  8.75 | 16.25 | 0.00 |\n| total_percentage | 2.86 | 11.43 | 3.57 | 27.86 | 19.29 |  7.86 |  4.29 | 11.43 | 10.71 | 0.71 |\n\n",
            "text/latex": "A matrix: 3 × 10 of type dbl\n\\begin{tabular}{r|llllllllll}\n  & 1 & 2 & 3 & 4 & 5 & 6 & 7 & 8 & 9 & 10\\\\\n\\hline\n\tA & 6.67 & 23.33 & 8.33 &  1.67 & 11.67 & 18.33 & 10.00 & 15.00 &  3.33 & 1.67\\\\\n\tB & 0.00 &  2.50 & 0.00 & 47.50 & 25.00 &  0.00 &  0.00 &  8.75 & 16.25 & 0.00\\\\\n\ttotal\\_percentage & 2.86 & 11.43 & 3.57 & 27.86 & 19.29 &  7.86 &  4.29 & 11.43 & 10.71 & 0.71\\\\\n\\end{tabular}\n",
            "text/plain": [
              "                 1    2     3    4     5     6     7     8     9     10  \n",
              "A                6.67 23.33 8.33  1.67 11.67 18.33 10.00 15.00  3.33 1.67\n",
              "B                0.00  2.50 0.00 47.50 25.00  0.00  0.00  8.75 16.25 0.00\n",
              "total_percentage 2.86 11.43 3.57 27.86 19.29  7.86  4.29 11.43 10.71 0.71"
            ]
          },
          "metadata": {}
        },
        {
          "output_type": "display_data",
          "data": {
            "text/plain": [
              "   \n",
              "     1  2  3  4  5  6  7  8  9 10\n",
              "  A  4 14  5  1  7 11  6  9  2  1\n",
              "  B  0  2  0 38 20  0  0  7 13  0"
            ]
          },
          "metadata": {}
        }
      ]
    },
    {
      "cell_type": "code",
      "source": [
        "library(BayesFactor)\n",
        "\n",
        "# Create a contingency table for assistant\n",
        "cont_table_task <- table(data$Task, data$Strategy)\n",
        "\n",
        "# Perform the Bayesian analysis with joint multinomial sampling\n",
        "result_task <- contingencyTableBF(cont_table_task, sampleType = \"jointMulti\")\n",
        "\n",
        "print(\"Bayesian analysis for Task:\")\n",
        "# Examine the results\n",
        "summary(result_task)"
      ],
      "metadata": {
        "colab": {
          "base_uri": "https://localhost:8080/"
        },
        "outputId": "547f2c53-13a8-41c6-cb67-5a143e95777b",
        "id": "wwHWxI6HjnDC"
      },
      "execution_count": 29,
      "outputs": [
        {
          "output_type": "stream",
          "name": "stdout",
          "text": [
            "[1] \"Bayesian analysis for Task:\"\n",
            "Bayes factor analysis\n",
            "--------------\n",
            "[1] Non-indep. (a=1) : 2.766529e+16 ±0%\n",
            "\n",
            "Against denominator:\n",
            "  Null, independence, a = 1 \n",
            "---\n",
            "Bayes factor type: BFcontingencyTable, joint multinomial\n",
            "\n"
          ]
        }
      ]
    },
    {
      "cell_type": "markdown",
      "source": [
        "# 2. **Task C - Testing effect of Task, Strategy, and Language on Likert Scores**"
      ],
      "metadata": {
        "id": "93-YT3gL-Vs5"
      }
    },
    {
      "cell_type": "markdown",
      "source": [
        "## Install Packages"
      ],
      "metadata": {
        "id": "pjLiJNVMnPPk"
      }
    },
    {
      "cell_type": "code",
      "source": [
        "#Install packages\n",
        "install.packages(c(\"ggplot2\", \"scales\", \"ordinal\",\"emmeans\",\"broom\",\"writexl\",\"readxl\", \"openxlsx\"))"
      ],
      "metadata": {
        "colab": {
          "base_uri": "https://localhost:8080/"
        },
        "id": "8ssbVjMGnOBd",
        "outputId": "b6ee9167-4137-43db-9d32-da239e486b65"
      },
      "execution_count": null,
      "outputs": [
        {
          "output_type": "stream",
          "name": "stderr",
          "text": [
            "Installing packages into ‘/usr/local/lib/R/site-library’\n",
            "(as ‘lib’ is unspecified)\n",
            "\n",
            "also installing the dependencies ‘ucminf’, ‘numDeriv’, ‘estimability’, ‘mvtnorm’, ‘Rcpp’\n",
            "\n",
            "\n"
          ]
        }
      ]
    },
    {
      "cell_type": "markdown",
      "source": [
        "## English and Spanish"
      ],
      "metadata": {
        "id": "S4VmG4dv1TAT"
      }
    },
    {
      "cell_type": "markdown",
      "source": [
        "### 2.0 Load Data"
      ],
      "metadata": {
        "id": "OhXBBdeM1TAa"
      }
    },
    {
      "cell_type": "code",
      "source": [
        "#This is the data that shows Language, Task, Strategy, and Likert Scores (acceptability judgements) for all tasks\n",
        "data <- read.csv(\"https://raw.githubusercontent.com/MatthewCGalbraith/FrontiersData/main/ajfullAB.csv\")\n",
        "\n",
        "#This is the data that shows Language, Task, Strategy, and Likert Scores (acceptability judgements) for all Task A and Task B for English ONLY\n",
        "# data <- read.csv(\"https://raw.githubusercontent.com/MatthewCGalbraith/FrontiersData/main/ajfullABEnglish.csv\")\n",
        "\n",
        "#This is the data that shows Language, Task, Strategy, and Likert Scores (acceptability judgements) for all Task A and Task B for Spanish ONLY\n",
        "# data <- read.csv(\"https://raw.githubusercontent.com/MatthewCGalbraith/FrontiersData/main/ajfullABSpanish.csv\")\n",
        "\n",
        "#This is the data that shows Language, Task, Strategy, and Likert Scores (acceptability judgements) for Task A for English ONLY\n",
        "# data <- read.csv(\"https://raw.githubusercontent.com/MatthewCGalbraith/FrontiersData/main/ajEnglishA.csv\")\n",
        "\n",
        "#This is the data that shows Language, Task, Strategy, and Likert Scores (acceptability judgements) for Task B for English ONLY\n",
        "# data <- read.csv(\"https://raw.githubusercontent.com/MatthewCGalbraith/FrontiersData/main/ajEnglishB.csv\")\n",
        "\n",
        "#This is the data that shows Language, Task, Strategy, and Likert Scores (acceptability judgements) for Task A for Spanish ONLY\n",
        "# data <- read.csv(\"https://raw.githubusercontent.com/MatthewCGalbraith/FrontiersData/main/ajSpanishA.csv\")\n",
        "\n",
        "#This is the data that shows Language, Task, Strategy, and Likert Scores (acceptability judgements) for Task B for Spanish ONLY\n",
        "# data <- read.csv(\"https://raw.githubusercontent.com/MatthewCGalbraith/FrontiersData/main/ajSpanishB.csv\")"
      ],
      "metadata": {
        "id": "gzD5MJP31TAa"
      },
      "execution_count": null,
      "outputs": []
    },
    {
      "cell_type": "code",
      "source": [
        "# Set excel path for the data to be written\n",
        "excel <- \"ajfullAB.xlsx\""
      ],
      "metadata": {
        "id": "nQVcN3ud1TAa"
      },
      "execution_count": null,
      "outputs": []
    },
    {
      "cell_type": "markdown",
      "source": [
        "### 2.1 Fit Ordinal Model"
      ],
      "metadata": {
        "id": "ug7ZaBh51TAb"
      }
    },
    {
      "cell_type": "code",
      "source": [
        "library(ordinal)\n",
        "\n",
        "# Convert Likert to factor\n",
        "data$Likert <- factor(data$Likert)\n",
        "\n",
        "# Fit the Ordinal Regression Model\n",
        "o <- clm(Likert ~ Strategy + Assistant + Task + Language, data = data)\n",
        "\n",
        "# Check summary of model\n",
        "summary(o)"
      ],
      "metadata": {
        "colab": {
          "base_uri": "https://localhost:8080/",
          "height": 520
        },
        "outputId": "7deedae7-91a7-41a3-e122-51d4b5fe370f",
        "id": "IitGFrP01TAb"
      },
      "execution_count": null,
      "outputs": [
        {
          "output_type": "display_data",
          "data": {
            "text/plain": [
              "formula: Likert ~ Strategy + Assistant + Task + Language\n",
              "data:    data\n",
              "\n",
              " link  threshold nobs logLik   AIC      niter max.grad cond.H \n",
              " logit flexible  4000 -5674.97 11381.93 5(0)  5.83e-13 3.7e+02\n",
              "\n",
              "Coefficients:\n",
              "                Estimate Std. Error z value Pr(>|z|)    \n",
              "StrategyStrat10 -0.41546    0.12631  -3.289 0.001005 ** \n",
              "StrategyStrat2  -0.02135    0.12915  -0.165 0.868670    \n",
              "StrategyStrat3   1.27578    0.13664   9.337  < 2e-16 ***\n",
              "StrategyStrat4  -0.27221    0.12621  -2.157 0.031026 *  \n",
              "StrategyStrat5   1.97296    0.14304  13.794  < 2e-16 ***\n",
              "StrategyStrat6  -1.25142    0.12729  -9.831  < 2e-16 ***\n",
              "StrategyStrat7  -0.45434    0.12827  -3.542 0.000397 ***\n",
              "StrategyStrat8   0.38143    0.12502   3.051 0.002282 ** \n",
              "StrategyStrat9  -0.74344    0.12547  -5.925 3.12e-09 ***\n",
              "AssistantSiri    0.25445    0.05809   4.380 1.19e-05 ***\n",
              "TaskB            0.49187    0.05832   8.434  < 2e-16 ***\n",
              "LanguageSpanish -0.57025    0.05852  -9.744  < 2e-16 ***\n",
              "---\n",
              "Signif. codes:  0 ‘***’ 0.001 ‘**’ 0.01 ‘*’ 0.05 ‘.’ 0.1 ‘ ’ 1\n",
              "\n",
              "Threshold coefficients:\n",
              "    Estimate Std. Error z value\n",
              "1|2  -2.1977     0.1120 -19.617\n",
              "2|3  -0.8878     0.1053  -8.432\n",
              "3|4  -0.2431     0.1043  -2.330\n",
              "4|5   1.1490     0.1062  10.817"
            ]
          },
          "metadata": {}
        }
      ]
    },
    {
      "cell_type": "code",
      "source": [
        "library(ordinal)\n",
        "library(broom)\n",
        "library(writexl)\n",
        "library(readxl)\n",
        "library(openxlsx)\n",
        "\n",
        "# Convert Likert to factor\n",
        "data$Likert <- factor(data$Likert)\n",
        "\n",
        "# Fit the Ordinal Regression Model\n",
        "o <- clm(Likert ~ Strategy + Assistant + Task + Language, data = data)\n",
        "\n",
        "# Extract coefficients and related information\n",
        "coefficients_df <- tidy(o)\n",
        "\n",
        "# Extract Odds Ratios and Confidence Intervals\n",
        "odds_ratio <- exp(coef(o))\n",
        "conf_intervals <- exp(confint.default(o))\n",
        "\n",
        "# Create a dataframe\n",
        "effect <- rownames(coefficients_df)\n",
        "coefficient <- coefficients_df$estimate\n",
        "std_error <- coefficients_df$std.error\n",
        "z_value <- coefficients_df$statistic\n",
        "p_value <- coefficients_df$p.value\n",
        "odds_ratio_val <- odds_ratio\n",
        "ci_lower <- conf_intervals[, \"2.5 %\"]\n",
        "ci_upper <- conf_intervals[, \"97.5 %\"]\n",
        "\n",
        "# Combine into a dataframe\n",
        "result_df <- data.frame(\n",
        "  Effect = effect,\n",
        "  Coefficient = round(coefficient, 2),\n",
        "  `Std. Error` = round(std_error, 2),\n",
        "  `Z Value` = round(z_value, 2),\n",
        "  `P Value` = ifelse(p_value < 0.001, \"<0.001***\", ifelse(p_value < 0.01, \"<0.01**\", ifelse(p_value < 0.05, \"<0.05*\", round(p_value, 2)))),\n",
        "  `Odds Ratio` = round(odds_ratio_val, 2),\n",
        "  `CI Lower` = round(ci_lower, 2),\n",
        "  `CI Upper` = round(ci_upper, 2)\n",
        ")\n",
        "\n",
        "# Extract main effects coefficients and related information\n",
        "main_effects <- coefficients_df[grepl(\"Strategy|Assistant|Task|Language\", coefficients_df$term) & !grepl(\":\", coefficients_df$term), ]\n",
        "\n",
        "# Extract main effects Odds Ratios and Confidence Intervals\n",
        "main_odds_ratio <- exp(coef(o)[grepl(\"Strategy|Assistant|Task|Language\", names(coef(o))) & !grepl(\":\", names(coef(o)))])\n",
        "main_conf_intervals <- exp(confint.default(o)[grepl(\"Strategy|Assistant|Task|Language\", names(coef(o))) & !grepl(\":\", names(coef(o))), ])\n",
        "\n",
        "# Create a dataframe for main effects\n",
        "main_effects_df <- data.frame(\n",
        "  Effect = main_effects$term,\n",
        "  Coefficient = round(main_effects$estimate, 2),\n",
        "  `Std. Error` = round(main_effects$std.error, 2),\n",
        "  `Z Value` = round(main_effects$statistic, 2),\n",
        "  `P Value` = ifelse(main_effects$p.value < 0.001, \"<0.001***\", ifelse(main_effects$p.value < 0.01, \"<0.01**\", ifelse(main_effects$p.value < 0.05, \"<0.05*\", round(main_effects$p.value, 2)))),\n",
        "  `Odds Ratio` = round(main_odds_ratio, 2),\n",
        "  `CI Lower` = round(main_conf_intervals[, \"2.5 %\"], 2),\n",
        "  `CI Upper` = round(main_conf_intervals[, \"97.5 %\"], 2)\n",
        ")\n",
        "\n",
        "# Modify Effect labels for Main Effects\n",
        "main_effects_df$Effect <- gsub(\"StrategyStrat\", \"Strategy \", main_effects_df$Effect)\n",
        "main_effects_df$Effect <- gsub(\"AssistantSiri\", \"Siri\", main_effects_df$Effect)\n",
        "\n",
        "# Add \"Strategy 1\" with a coefficient of 0 to main effects\n",
        "main_effects_df <- rbind(main_effects_df, data.frame(Effect = \"Strategy 1\", Coefficient = 0, `Std. Error` = NA, `Z Value` = NA, `P Value` = NA, `Odds Ratio` = NA, `CI Lower` = NA, `CI Upper` = NA))\n",
        "\n",
        "# Order main effects dataframe by Coefficient in descending order\n",
        "main_effects_df <- main_effects_df[order(-main_effects_df$Coefficient), ]\n",
        "\n",
        "# Print the modified main effects dataframe\n",
        "main_effects_df\n",
        "\n",
        "# Extract interaction effects coefficients and related information\n",
        "interaction_effects <- coefficients_df[grepl(\":\", coefficients_df$term), ]\n",
        "\n",
        "# Extract interaction effects Odds Ratios and Confidence Intervals\n",
        "interaction_odds_ratio <- exp(coef(o)[grepl(\":\", names(coef(o)))])\n",
        "interaction_conf_intervals <- exp(confint.default(o)[grepl(\":\", names(coef(o))), ])\n",
        "\n",
        "# Create a dataframe for interaction effects\n",
        "interaction_effects_df <- data.frame(\n",
        "  Effect = interaction_effects$term,\n",
        "  Coefficient = round(interaction_effects$estimate, 2),\n",
        "  `Std. Error` = round(interaction_effects$std.error, 2),\n",
        "  `Z Value` = round(interaction_effects$statistic, 2),\n",
        "  `P Value` = ifelse(interaction_effects$p.value < 0.001, \"<0.001***\", ifelse(interaction_effects$p.value < 0.01, \"<0.01**\", ifelse(interaction_effects$p.value < 0.05, \"<0.05*\", round(interaction_effects$p.value, 2)))),\n",
        "  `Odds Ratio` = round(interaction_odds_ratio, 2),\n",
        "  `CI Lower` = round(interaction_conf_intervals[, \"2.5 %\"], 2),\n",
        "  `CI Upper` = round(interaction_conf_intervals[, \"97.5 %\"], 2)\n",
        ")\n",
        "\n",
        "# Modify Effect labels for Interaction Effects\n",
        "interaction_effects_df$Effect <- gsub(\":AssistantSiri\", \" - Siri\", interaction_effects_df$Effect)\n",
        "interaction_effects_df$Effect <- gsub(\"StrategyStrat\", \"Strategy \", interaction_effects_df$Effect)\n",
        "interaction_effects_df$Effect <- gsub(\"AssistantSiri\", \"Siri\", interaction_effects_df$Effect)\n",
        "\n",
        "# Add \"Strategy 1 - Siri\" with a coefficient of 0 to interaction effects\n",
        "interaction_effects_df <- rbind(interaction_effects_df, data.frame(Effect = \"Strategy 1 - Siri\", Coefficient = 0, `Std. Error` = NA, `Z Value` = NA, `P Value` = NA, `Odds Ratio` = NA, `CI Lower` = NA, `CI Upper` = NA))\n",
        "\n",
        "# Order interaction effects dataframe by Coefficient in descending order\n",
        "interaction_effects_df <- interaction_effects_df[order(-interaction_effects_df$Coefficient), ]\n",
        "\n",
        "# Print the modified interaction effects dataframe\n",
        "interaction_effects_df\n",
        "\n",
        "# Create a workbook\n",
        "wb <- createWorkbook()\n",
        "\n",
        "# Add main_effects_df to the workbook\n",
        "addWorksheet(wb, \"Main Effects\")\n",
        "writeData(wb, \"Main Effects\", main_effects_df)\n",
        "\n",
        "# Add interaction_effects_df to the workbook\n",
        "addWorksheet(wb, \"Interaction Effects\")\n",
        "writeData(wb, \"Interaction Effects\", interaction_effects_df)\n",
        "\n",
        "# Save the workbook to Excel file\n",
        "saveWorkbook(wb, file = excel, overwrite = TRUE)\n",
        "\n",
        "# Confirm completion\n",
        "cat(\"Dataframes written to 'excel' successfully!\\n\")"
      ],
      "metadata": {
        "colab": {
          "base_uri": "https://localhost:8080/",
          "height": 635
        },
        "outputId": "a0f07272-e014-47bd-941c-cbfccc752f42",
        "id": "ECo0fT6p1TAb"
      },
      "execution_count": null,
      "outputs": [
        {
          "output_type": "display_data",
          "data": {
            "text/html": [
              "<table class=\"dataframe\">\n",
              "<caption>A data.frame: 13 × 8</caption>\n",
              "<thead>\n",
              "\t<tr><th></th><th scope=col>Effect</th><th scope=col>Coefficient</th><th scope=col>Std..Error</th><th scope=col>Z.Value</th><th scope=col>P.Value</th><th scope=col>Odds.Ratio</th><th scope=col>CI.Lower</th><th scope=col>CI.Upper</th></tr>\n",
              "\t<tr><th></th><th scope=col>&lt;chr&gt;</th><th scope=col>&lt;dbl&gt;</th><th scope=col>&lt;dbl&gt;</th><th scope=col>&lt;dbl&gt;</th><th scope=col>&lt;chr&gt;</th><th scope=col>&lt;dbl&gt;</th><th scope=col>&lt;dbl&gt;</th><th scope=col>&lt;dbl&gt;</th></tr>\n",
              "</thead>\n",
              "<tbody>\n",
              "\t<tr><th scope=row>StrategyStrat5</th><td><span style=white-space:pre-wrap>Strategy 5     </span></td><td> 1.97</td><td>0.14</td><td>13.79</td><td>&lt;0.001***</td><td>7.19</td><td>5.43</td><td>9.52</td></tr>\n",
              "\t<tr><th scope=row>StrategyStrat3</th><td><span style=white-space:pre-wrap>Strategy 3     </span></td><td> 1.28</td><td>0.14</td><td> 9.34</td><td>&lt;0.001***</td><td>3.58</td><td>2.74</td><td>4.68</td></tr>\n",
              "\t<tr><th scope=row>TaskB</th><td><span style=white-space:pre-wrap>TaskB          </span></td><td> 0.49</td><td>0.06</td><td> 8.43</td><td>&lt;0.001***</td><td>1.64</td><td>1.46</td><td>1.83</td></tr>\n",
              "\t<tr><th scope=row>StrategyStrat8</th><td><span style=white-space:pre-wrap>Strategy 8     </span></td><td> 0.38</td><td>0.13</td><td> 3.05</td><td><span style=white-space:pre-wrap>&lt;0.01**  </span></td><td>1.46</td><td>1.15</td><td>1.87</td></tr>\n",
              "\t<tr><th scope=row>AssistantSiri</th><td><span style=white-space:pre-wrap>Siri           </span></td><td> 0.25</td><td>0.06</td><td> 4.38</td><td>&lt;0.001***</td><td>1.29</td><td>1.15</td><td>1.45</td></tr>\n",
              "\t<tr><th scope=row>1</th><td>Strategy 1     </td><td> 0.00</td><td>  NA</td><td>   NA</td><td>NA       </td><td>  NA</td><td>  NA</td><td>  NA</td></tr>\n",
              "\t<tr><th scope=row>StrategyStrat2</th><td>Strategy 2     </td><td>-0.02</td><td>0.13</td><td>-0.17</td><td>0.87     </td><td>0.98</td><td>0.76</td><td>1.26</td></tr>\n",
              "\t<tr><th scope=row>StrategyStrat4</th><td><span style=white-space:pre-wrap>Strategy 4     </span></td><td>-0.27</td><td>0.13</td><td>-2.16</td><td><span style=white-space:pre-wrap>&lt;0.05*   </span></td><td>0.76</td><td>0.59</td><td>0.98</td></tr>\n",
              "\t<tr><th scope=row>StrategyStrat10</th><td><span style=white-space:pre-wrap>Strategy 10    </span></td><td>-0.42</td><td>0.13</td><td>-3.29</td><td><span style=white-space:pre-wrap>&lt;0.01**  </span></td><td>0.66</td><td>0.52</td><td>0.85</td></tr>\n",
              "\t<tr><th scope=row>StrategyStrat7</th><td><span style=white-space:pre-wrap>Strategy 7     </span></td><td>-0.45</td><td>0.13</td><td>-3.54</td><td>&lt;0.001***</td><td>0.63</td><td>0.49</td><td>0.82</td></tr>\n",
              "\t<tr><th scope=row>LanguageSpanish</th><td>LanguageSpanish</td><td>-0.57</td><td>0.06</td><td>-9.74</td><td>&lt;0.001***</td><td>0.57</td><td>0.50</td><td>0.63</td></tr>\n",
              "\t<tr><th scope=row>StrategyStrat9</th><td><span style=white-space:pre-wrap>Strategy 9     </span></td><td>-0.74</td><td>0.13</td><td>-5.93</td><td>&lt;0.001***</td><td>0.48</td><td>0.37</td><td>0.61</td></tr>\n",
              "\t<tr><th scope=row>StrategyStrat6</th><td><span style=white-space:pre-wrap>Strategy 6     </span></td><td>-1.25</td><td>0.13</td><td>-9.83</td><td>&lt;0.001***</td><td>0.29</td><td>0.22</td><td>0.37</td></tr>\n",
              "</tbody>\n",
              "</table>\n"
            ],
            "text/markdown": "\nA data.frame: 13 × 8\n\n| <!--/--> | Effect &lt;chr&gt; | Coefficient &lt;dbl&gt; | Std..Error &lt;dbl&gt; | Z.Value &lt;dbl&gt; | P.Value &lt;chr&gt; | Odds.Ratio &lt;dbl&gt; | CI.Lower &lt;dbl&gt; | CI.Upper &lt;dbl&gt; |\n|---|---|---|---|---|---|---|---|---|\n| StrategyStrat5 | Strategy 5      |  1.97 | 0.14 | 13.79 | &lt;0.001*** | 7.19 | 5.43 | 9.52 |\n| StrategyStrat3 | Strategy 3      |  1.28 | 0.14 |  9.34 | &lt;0.001*** | 3.58 | 2.74 | 4.68 |\n| TaskB | TaskB           |  0.49 | 0.06 |  8.43 | &lt;0.001*** | 1.64 | 1.46 | 1.83 |\n| StrategyStrat8 | Strategy 8      |  0.38 | 0.13 |  3.05 | &lt;0.01**   | 1.46 | 1.15 | 1.87 |\n| AssistantSiri | Siri            |  0.25 | 0.06 |  4.38 | &lt;0.001*** | 1.29 | 1.15 | 1.45 |\n| 1 | Strategy 1      |  0.00 |   NA |    NA | NA        |   NA |   NA |   NA |\n| StrategyStrat2 | Strategy 2      | -0.02 | 0.13 | -0.17 | 0.87      | 0.98 | 0.76 | 1.26 |\n| StrategyStrat4 | Strategy 4      | -0.27 | 0.13 | -2.16 | &lt;0.05*    | 0.76 | 0.59 | 0.98 |\n| StrategyStrat10 | Strategy 10     | -0.42 | 0.13 | -3.29 | &lt;0.01**   | 0.66 | 0.52 | 0.85 |\n| StrategyStrat7 | Strategy 7      | -0.45 | 0.13 | -3.54 | &lt;0.001*** | 0.63 | 0.49 | 0.82 |\n| LanguageSpanish | LanguageSpanish | -0.57 | 0.06 | -9.74 | &lt;0.001*** | 0.57 | 0.50 | 0.63 |\n| StrategyStrat9 | Strategy 9      | -0.74 | 0.13 | -5.93 | &lt;0.001*** | 0.48 | 0.37 | 0.61 |\n| StrategyStrat6 | Strategy 6      | -1.25 | 0.13 | -9.83 | &lt;0.001*** | 0.29 | 0.22 | 0.37 |\n\n",
            "text/latex": "A data.frame: 13 × 8\n\\begin{tabular}{r|llllllll}\n  & Effect & Coefficient & Std..Error & Z.Value & P.Value & Odds.Ratio & CI.Lower & CI.Upper\\\\\n  & <chr> & <dbl> & <dbl> & <dbl> & <chr> & <dbl> & <dbl> & <dbl>\\\\\n\\hline\n\tStrategyStrat5 & Strategy 5      &  1.97 & 0.14 & 13.79 & <0.001*** & 7.19 & 5.43 & 9.52\\\\\n\tStrategyStrat3 & Strategy 3      &  1.28 & 0.14 &  9.34 & <0.001*** & 3.58 & 2.74 & 4.68\\\\\n\tTaskB & TaskB           &  0.49 & 0.06 &  8.43 & <0.001*** & 1.64 & 1.46 & 1.83\\\\\n\tStrategyStrat8 & Strategy 8      &  0.38 & 0.13 &  3.05 & <0.01**   & 1.46 & 1.15 & 1.87\\\\\n\tAssistantSiri & Siri            &  0.25 & 0.06 &  4.38 & <0.001*** & 1.29 & 1.15 & 1.45\\\\\n\t1 & Strategy 1      &  0.00 &   NA &    NA & NA        &   NA &   NA &   NA\\\\\n\tStrategyStrat2 & Strategy 2      & -0.02 & 0.13 & -0.17 & 0.87      & 0.98 & 0.76 & 1.26\\\\\n\tStrategyStrat4 & Strategy 4      & -0.27 & 0.13 & -2.16 & <0.05*    & 0.76 & 0.59 & 0.98\\\\\n\tStrategyStrat10 & Strategy 10     & -0.42 & 0.13 & -3.29 & <0.01**   & 0.66 & 0.52 & 0.85\\\\\n\tStrategyStrat7 & Strategy 7      & -0.45 & 0.13 & -3.54 & <0.001*** & 0.63 & 0.49 & 0.82\\\\\n\tLanguageSpanish & LanguageSpanish & -0.57 & 0.06 & -9.74 & <0.001*** & 0.57 & 0.50 & 0.63\\\\\n\tStrategyStrat9 & Strategy 9      & -0.74 & 0.13 & -5.93 & <0.001*** & 0.48 & 0.37 & 0.61\\\\\n\tStrategyStrat6 & Strategy 6      & -1.25 & 0.13 & -9.83 & <0.001*** & 0.29 & 0.22 & 0.37\\\\\n\\end{tabular}\n",
            "text/plain": [
              "                Effect          Coefficient Std..Error Z.Value P.Value  \n",
              "StrategyStrat5  Strategy 5       1.97       0.14       13.79   <0.001***\n",
              "StrategyStrat3  Strategy 3       1.28       0.14        9.34   <0.001***\n",
              "TaskB           TaskB            0.49       0.06        8.43   <0.001***\n",
              "StrategyStrat8  Strategy 8       0.38       0.13        3.05   <0.01**  \n",
              "AssistantSiri   Siri             0.25       0.06        4.38   <0.001***\n",
              "1               Strategy 1       0.00         NA          NA   NA       \n",
              "StrategyStrat2  Strategy 2      -0.02       0.13       -0.17   0.87     \n",
              "StrategyStrat4  Strategy 4      -0.27       0.13       -2.16   <0.05*   \n",
              "StrategyStrat10 Strategy 10     -0.42       0.13       -3.29   <0.01**  \n",
              "StrategyStrat7  Strategy 7      -0.45       0.13       -3.54   <0.001***\n",
              "LanguageSpanish LanguageSpanish -0.57       0.06       -9.74   <0.001***\n",
              "StrategyStrat9  Strategy 9      -0.74       0.13       -5.93   <0.001***\n",
              "StrategyStrat6  Strategy 6      -1.25       0.13       -9.83   <0.001***\n",
              "                Odds.Ratio CI.Lower CI.Upper\n",
              "StrategyStrat5  7.19       5.43     9.52    \n",
              "StrategyStrat3  3.58       2.74     4.68    \n",
              "TaskB           1.64       1.46     1.83    \n",
              "StrategyStrat8  1.46       1.15     1.87    \n",
              "AssistantSiri   1.29       1.15     1.45    \n",
              "1                 NA         NA       NA    \n",
              "StrategyStrat2  0.98       0.76     1.26    \n",
              "StrategyStrat4  0.76       0.59     0.98    \n",
              "StrategyStrat10 0.66       0.52     0.85    \n",
              "StrategyStrat7  0.63       0.49     0.82    \n",
              "LanguageSpanish 0.57       0.50     0.63    \n",
              "StrategyStrat9  0.48       0.37     0.61    \n",
              "StrategyStrat6  0.29       0.22     0.37    "
            ]
          },
          "metadata": {}
        },
        {
          "output_type": "display_data",
          "data": {
            "text/html": [
              "<table class=\"dataframe\">\n",
              "<caption>A data.frame: 1 × 8</caption>\n",
              "<thead>\n",
              "\t<tr><th></th><th scope=col>Effect</th><th scope=col>Coefficient</th><th scope=col>Std..Error</th><th scope=col>Z.Value</th><th scope=col>P.Value</th><th scope=col>Odds.Ratio</th><th scope=col>CI.Lower</th><th scope=col>CI.Upper</th></tr>\n",
              "\t<tr><th></th><th scope=col>&lt;chr&gt;</th><th scope=col>&lt;dbl&gt;</th><th scope=col>&lt;lgl&gt;</th><th scope=col>&lt;lgl&gt;</th><th scope=col>&lt;lgl&gt;</th><th scope=col>&lt;lgl&gt;</th><th scope=col>&lt;lgl&gt;</th><th scope=col>&lt;lgl&gt;</th></tr>\n",
              "</thead>\n",
              "<tbody>\n",
              "\t<tr><th scope=row>1</th><td>Strategy 1 - Siri</td><td>0</td><td>NA</td><td>NA</td><td>NA</td><td>NA</td><td>NA</td><td>NA</td></tr>\n",
              "</tbody>\n",
              "</table>\n"
            ],
            "text/markdown": "\nA data.frame: 1 × 8\n\n| <!--/--> | Effect &lt;chr&gt; | Coefficient &lt;dbl&gt; | Std..Error &lt;lgl&gt; | Z.Value &lt;lgl&gt; | P.Value &lt;lgl&gt; | Odds.Ratio &lt;lgl&gt; | CI.Lower &lt;lgl&gt; | CI.Upper &lt;lgl&gt; |\n|---|---|---|---|---|---|---|---|---|\n| 1 | Strategy 1 - Siri | 0 | NA | NA | NA | NA | NA | NA |\n\n",
            "text/latex": "A data.frame: 1 × 8\n\\begin{tabular}{r|llllllll}\n  & Effect & Coefficient & Std..Error & Z.Value & P.Value & Odds.Ratio & CI.Lower & CI.Upper\\\\\n  & <chr> & <dbl> & <lgl> & <lgl> & <lgl> & <lgl> & <lgl> & <lgl>\\\\\n\\hline\n\t1 & Strategy 1 - Siri & 0 & NA & NA & NA & NA & NA & NA\\\\\n\\end{tabular}\n",
            "text/plain": [
              "  Effect            Coefficient Std..Error Z.Value P.Value Odds.Ratio CI.Lower\n",
              "1 Strategy 1 - Siri 0           NA         NA      NA      NA         NA      \n",
              "  CI.Upper\n",
              "1 NA      "
            ]
          },
          "metadata": {}
        },
        {
          "output_type": "stream",
          "name": "stdout",
          "text": [
            "Dataframes written to 'excel' successfully!\n"
          ]
        }
      ]
    },
    {
      "cell_type": "markdown",
      "source": [
        "### 2.2 Pairwise Comparisons for Strategies"
      ],
      "metadata": {
        "id": "_dbxW-FS1TAc"
      }
    },
    {
      "cell_type": "code",
      "source": [
        "library(emmeans)\n",
        "\n",
        "# Calculate Estimated Marginal Means for Strategy variable\n",
        "emm_strategy <- emmeans(o, pairwise ~ Strategy)\n",
        "\n",
        "# Extract the results\n",
        "results <- summary(emm_strategy, adjust = \"holm\")\n",
        "\n",
        "# Convert the contrasts table to a dataframe\n",
        "df_contrasts <- as.data.frame(results$contrasts)\n",
        "\n",
        "# Create a function to format P values\n",
        "format_pvalue <- function(p_value) {\n",
        "  if (p_value < 0.001) {\n",
        "    return(\"<0.001***\")\n",
        "  } else if (p_value < 0.01) {\n",
        "    return(\"<0.01**\")\n",
        "  } else if (p_value < 0.05) {\n",
        "    return(\"<0.05*\")\n",
        "  } else {\n",
        "    return(paste0(\"\", round(p_value, 4)))\n",
        "  }\n",
        "}\n",
        "\n",
        "# Create dataframe for pairwise comparisons\n",
        "df_pairwise <- data.frame(\n",
        "  Effect = df_contrasts$contrast,\n",
        "  Coefficient = round(df_contrasts$estimate, 2),\n",
        "  `Std. Error` = round(df_contrasts$SE, 2),\n",
        "  `Z Value` = round(df_contrasts$z.ratio, 2),\n",
        "  `P Value` = sapply(df_contrasts$p.value, format_pvalue),\n",
        "  Odds_Ratio = round(exp(df_contrasts$estimate), 2),\n",
        "  CI_Lower = round(exp(df_contrasts$estimate - 1.96 * df_contrasts$SE), 2),\n",
        "  CI_Upper = round(exp(df_contrasts$estimate + 1.96 * df_contrasts$SE), 2)\n",
        ")\n",
        "\n",
        "# Print the new pairwise dataframe\n",
        "print(df_pairwise)\n",
        "\n",
        "# Load the existing workbook\n",
        "wb <- loadWorkbook(excel)\n",
        "\n",
        "# Add a new sheet to the existing workbook\n",
        "addWorksheet(wb, \"Pairwise_Comparisons\")\n",
        "\n",
        "# Write the dataframe to the new sheet in the existing workbook\n",
        "writeData(wb, sheet = \"Pairwise_Comparisons\", x = df_pairwise)\n",
        "\n",
        "# Save the workbook with the new sheet, overwriting the existing file\n",
        "saveWorkbook(wb, excel, overwrite = TRUE)"
      ],
      "metadata": {
        "colab": {
          "base_uri": "https://localhost:8080/"
        },
        "outputId": "021e6b79-8ae4-41bc-9a2f-8e8fc646b85a",
        "id": "4-fhkP7v1TAc"
      },
      "execution_count": null,
      "outputs": [
        {
          "output_type": "stream",
          "name": "stdout",
          "text": [
            "             Effect Coefficient Std..Error Z.Value   P.Value Odds_Ratio\n",
            "1  Strat1 - Strat10        0.42       0.13    3.29    <0.05*       1.52\n",
            "2   Strat1 - Strat2        0.02       0.13    0.17         1       1.02\n",
            "3   Strat1 - Strat3       -1.28       0.14   -9.34 <0.001***       0.28\n",
            "4   Strat1 - Strat4        0.27       0.13    2.16    0.1862       1.31\n",
            "5   Strat1 - Strat5       -1.97       0.14  -13.79 <0.001***       0.14\n",
            "6   Strat1 - Strat6        1.25       0.13    9.83 <0.001***       3.50\n",
            "7   Strat1 - Strat7        0.45       0.13    3.54   <0.01**       1.58\n",
            "8   Strat1 - Strat8       -0.38       0.13   -3.05    <0.05*       0.68\n",
            "9   Strat1 - Strat9        0.74       0.13    5.93 <0.001***       2.10\n",
            "10 Strat10 - Strat2       -0.39       0.13   -3.07    <0.05*       0.67\n",
            "11 Strat10 - Strat3       -1.69       0.14  -12.39 <0.001***       0.18\n",
            "12 Strat10 - Strat4       -0.14       0.13   -1.15    0.7564       0.87\n",
            "13 Strat10 - Strat5       -2.39       0.14  -16.68 <0.001***       0.09\n",
            "14 Strat10 - Strat6        0.84       0.13    6.66 <0.001***       2.31\n",
            "15 Strat10 - Strat7        0.04       0.13    0.31         1       1.04\n",
            "16 Strat10 - Strat8       -0.80       0.12   -6.41 <0.001***       0.45\n",
            "17 Strat10 - Strat9        0.33       0.12    2.64    0.0657       1.39\n",
            "18  Strat2 - Strat3       -1.30       0.14   -9.37 <0.001***       0.27\n",
            "19  Strat2 - Strat4        0.25       0.13    1.96    0.2515       1.29\n",
            "20  Strat2 - Strat5       -1.99       0.14  -13.79 <0.001***       0.14\n",
            "21  Strat2 - Strat6        1.23       0.13    9.52 <0.001***       3.42\n",
            "22  Strat2 - Strat7        0.43       0.13    3.33    <0.05*       1.54\n",
            "23  Strat2 - Strat8       -0.40       0.13   -3.17    <0.05*       0.67\n",
            "24  Strat2 - Strat9        0.72       0.13    5.67 <0.001***       2.06\n",
            "25  Strat3 - Strat4        1.55       0.14   11.36 <0.001***       4.70\n",
            "26  Strat3 - Strat5       -0.70       0.15   -4.68 <0.001***       0.50\n",
            "27  Strat3 - Strat6        2.53       0.14   18.25 <0.001***      12.52\n",
            "28  Strat3 - Strat7        1.73       0.14   12.50 <0.001***       5.64\n",
            "29  Strat3 - Strat8        0.89       0.13    6.67 <0.001***       2.45\n",
            "30  Strat3 - Strat9        2.02       0.14   14.84 <0.001***       7.53\n",
            "31  Strat4 - Strat5       -2.25       0.14  -15.72 <0.001***       0.11\n",
            "32  Strat4 - Strat6        0.98       0.13    7.79 <0.001***       2.66\n",
            "33  Strat4 - Strat7        0.18       0.13    1.43    0.6068       1.20\n",
            "34  Strat4 - Strat8       -0.65       0.12   -5.26 <0.001***       0.52\n",
            "35  Strat4 - Strat9        0.47       0.12    3.80   <0.01**       1.60\n",
            "36  Strat5 - Strat6        3.22       0.15   22.19 <0.001***      25.14\n",
            "37  Strat5 - Strat7        2.43       0.14   16.75 <0.001***      11.33\n",
            "38  Strat5 - Strat8        1.59       0.14   11.35 <0.001***       4.91\n",
            "39  Strat5 - Strat9        2.72       0.14   19.02 <0.001***      15.13\n",
            "40  Strat6 - Strat7       -0.80       0.13   -6.25 <0.001***       0.45\n",
            "41  Strat6 - Strat8       -1.63       0.13  -12.98 <0.001***       0.20\n",
            "42  Strat6 - Strat9       -0.51       0.12   -4.09 <0.001***       0.60\n",
            "43  Strat7 - Strat8       -0.84       0.13   -6.61 <0.001***       0.43\n",
            "44  Strat7 - Strat9        0.29       0.13    2.29    0.1526       1.34\n",
            "45  Strat8 - Strat9        1.12       0.12    9.10 <0.001***       3.08\n",
            "   CI_Lower CI_Upper\n",
            "1      1.18     1.94\n",
            "2      0.79     1.32\n",
            "3      0.21     0.36\n",
            "4      1.03     1.68\n",
            "5      0.11     0.18\n",
            "6      2.72     4.49\n",
            "7      1.23     2.03\n",
            "8      0.53     0.87\n",
            "9      1.64     2.69\n",
            "10     0.52     0.87\n",
            "11     0.14     0.24\n",
            "12     0.68     1.11\n",
            "13     0.07     0.12\n",
            "14     1.80     2.95\n",
            "15     0.81     1.33\n",
            "16     0.35     0.58\n",
            "17     1.09     1.77\n",
            "18     0.21     0.36\n",
            "19     1.00     1.65\n",
            "20     0.10     0.18\n",
            "21     2.66     4.41\n",
            "22     1.19     1.99\n",
            "23     0.52     0.86\n",
            "24     1.60     2.64\n",
            "25     3.60     6.14\n",
            "26     0.37     0.67\n",
            "27     9.54    16.42\n",
            "28     4.30     7.40\n",
            "29     1.88     3.18\n",
            "30     5.77     9.83\n",
            "31     0.08     0.14\n",
            "32     2.08     3.41\n",
            "33     0.94     1.54\n",
            "34     0.41     0.66\n",
            "35     1.26     2.04\n",
            "36    18.91    33.42\n",
            "37     8.53    15.05\n",
            "38     3.73     6.47\n",
            "39    11.43    20.01\n",
            "40     0.35     0.58\n",
            "41     0.15     0.25\n",
            "42     0.47     0.77\n",
            "43     0.34     0.56\n",
            "44     1.04     1.71\n",
            "45     2.42     3.92\n"
          ]
        }
      ]
    },
    {
      "cell_type": "markdown",
      "source": [
        "### 2.3 Create Heatmap for Strategies"
      ],
      "metadata": {
        "id": "5afmFJrq1TAc"
      }
    },
    {
      "cell_type": "code",
      "source": [
        "# Load necessary libraries\n",
        "library(ggplot2)\n",
        "library(scales)\n",
        "\n",
        "# Convert x and y to factors with the desired order\n",
        "df_contrasts <- transform(df_contrasts,\n",
        "                          x = as.numeric(gsub(\"Strat\", \"\", sapply(strsplit(as.character(contrast), \" - \"), \"[[\", 1))),\n",
        "                          y = as.numeric(gsub(\"Strat\", \"\", sapply(strsplit(as.character(contrast), \" - \"), \"[[\", 2))))\n",
        "\n",
        "# Reordering columns\n",
        "df_contrasts <- df_contrasts[, c(\"x\", \"y\", \"p.value\")]\n",
        "\n",
        "# Create mirrored data\n",
        "df_mirrored <- rbind(df_contrasts, transform(df_contrasts, x = y, y = x))\n",
        "\n",
        "# Create function to format p-values\n",
        "# Create function to format p-values\n",
        "format_pvalue <- function(pvalue) {\n",
        "  if (is.numeric(pvalue)) {\n",
        "    ifelse(pvalue < 0.001, \"<0.001\",\n",
        "           ifelse(pvalue < 0.01, \"<0.01\",\n",
        "                  ifelse(pvalue < 0.05, \"<0.05\", sprintf(\"%.2f\", pvalue))))\n",
        "  } else {\n",
        "    pvalue\n",
        "  }\n",
        "}\n",
        "\n",
        "# Set font sizes\n",
        "font_size_text <- 3  # Adjust font size for values in the heatmap\n",
        "font_size_axes <- 12  # Adjust font size for axes labels\n",
        "\n",
        "# Create a custom color palette\n",
        "my_colors <- c(\"#EA4235\", \"#48E56D\")\n",
        "\n",
        "# Create heatmap with borders and a distinct color palette\n",
        "plot <- ggplot(df_mirrored, aes(x = x, y = y, fill = p.value < 0.05)) +\n",
        "  geom_tile(color = \"black\", size = 1) +  # Add borders around cells\n",
        "  geom_text(aes(label = format_pvalue(p.value)), size = font_size_text, vjust = 0.5, hjust = 0.5, color = \"black\", family = \"Times New Roman\") +  # Center text\n",
        "  scale_fill_manual(values = c(\"#EA4235\", \"#48E56D\"), labels = c(\"p > 0.05\", \"p < 0.05\"), name = \"p-value\") +  # Assign colors and labels\n",
        "  labs(x = \"Strategy\",\n",
        "       y = \"Strategy\",\n",
        "       fill = NULL,\n",
        "       title = \" \",) +\n",
        "  theme_minimal() +\n",
        "  theme(axis.text.x = element_text(angle = 0, hjust = 1, size = font_size_axes, family = \"Times New Roman\"),  # Adjust font size for x axis labels\n",
        "        axis.text.y = element_text(size = font_size_axes, family = \"Times New Roman\"),  # Adjust font size for y axis labels\n",
        "        axis.title.x = element_text(size = font_size_axes, family = \"Times New Roman\"),  # Adjust font size for x axis title\n",
        "        axis.title.y = element_text(size = font_size_axes, family = \"Times New Roman\"),  # Adjust font size for y axis title\n",
        "        legend.title = element_text(family = \"Times New Roman\", hjust = 0.5),  # Set legend title font and center it\n",
        "        legend.title.align = 0.5,  # Center the legend title\n",
        "        legend.text = element_text(size = font_size_axes, family = \"Times New Roman\", margin = margin(0, 10, 0, 0)),  # Adjust legend text size and margin\n",
        "        panel.grid = element_blank(),  # Remove grid lines\n",
        "        panel.border = element_rect(color = \"black\", fill = NA),  # Add border around plot\n",
        "        axis.line = element_line(color = \"black\"),\n",
        "        plot.title = element_text(hjust = 0.5, family = \"Times New Roman\"),\n",
        "        plot.caption = element_text(hjust = 0.5, family = \"Times New Roman\")) +  # Center the title\n",
        "  scale_x_continuous(breaks = seq(min(df_mirrored$x), max(df_mirrored$x), by = 1)) +\n",
        "  scale_y_continuous(breaks = seq(min(df_mirrored$y), max(df_mirrored$y), by = 1))\n",
        "\n",
        "# Save the plot as a scalable vector graphic (SVG) with higher resolution\n",
        "plot\n",
        "ggsave(\"HeatmapFull.svg\", plot, width = 8, height = 6, dpi = 300)"
      ],
      "metadata": {
        "colab": {
          "base_uri": "https://localhost:8080/",
          "height": 558
        },
        "outputId": "5ebd2e8b-6767-4e68-d97b-673d93accdb7",
        "id": "pOwceR9m1TAc"
      },
      "execution_count": null,
      "outputs": [
        {
          "output_type": "stream",
          "name": "stderr",
          "text": [
            "Warning message:\n",
            "“\u001b[1m\u001b[22mUsing `size` aesthetic for lines was deprecated in ggplot2 3.4.0.\n",
            "\u001b[36mℹ\u001b[39m Please use `linewidth` instead.”\n",
            "Warning message:\n",
            "“\u001b[1m\u001b[22mThe `legend.title.align` argument of `theme()` is deprecated as of ggplot2\n",
            "3.5.0.\n",
            "\u001b[36mℹ\u001b[39m Please use theme(legend.title = element_text(hjust)) instead.”\n"
          ]
        },
        {
          "output_type": "display_data",
          "data": {
            "text/plain": [
              "plot without title"
            ],
            "image/png": "[encoded data removed]"
          },
          "metadata": {
            "image/png": {
              "width": 420,
              "height": 420
            }
          }
        }
      ]
    },
    {
      "cell_type": "markdown",
      "source": [
        "## English Full"
      ],
      "metadata": {
        "id": "TZak8X8T6oQ5"
      }
    },
    {
      "cell_type": "markdown",
      "source": [
        "### 2.0 Load Data"
      ],
      "metadata": {
        "id": "Brjc4WaJ6oRA"
      }
    },
    {
      "cell_type": "code",
      "source": [
        "#This is the data that shows Language, Task, Strategy, and Likert Scores (acceptability judgements) for all tasks\n",
        "# data <- read.csv(\"https://raw.githubusercontent.com/MatthewCGalbraith/FrontiersData/main/ajfullAB.csv\")\n",
        "\n",
        "#This is the data that shows Language, Task, Strategy, and Likert Scores (acceptability judgements) for all Task A and Task B for English ONLY\n",
        "data <- read.csv(\"https://raw.githubusercontent.com/MatthewCGalbraith/FrontiersData/main/ajfullABEnglish.csv\")\n",
        "\n",
        "#This is the data that shows Language, Task, Strategy, and Likert Scores (acceptability judgements) for all Task A and Task B for Spanish ONLY\n",
        "# data <- read.csv(\"https://raw.githubusercontent.com/MatthewCGalbraith/FrontiersData/main/ajfullABSpanish.csv\")\n",
        "\n",
        "#This is the data that shows Language, Task, Strategy, and Likert Scores (acceptability judgements) for Task A for English ONLY\n",
        "# data <- read.csv(\"https://raw.githubusercontent.com/MatthewCGalbraith/FrontiersData/main/ajEnglishA.csv\")\n",
        "\n",
        "#This is the data that shows Language, Task, Strategy, and Likert Scores (acceptability judgements) for Task B for English ONLY\n",
        "# data <- read.csv(\"https://raw.githubusercontent.com/MatthewCGalbraith/FrontiersData/main/ajEnglishB.csv\")\n",
        "\n",
        "#This is the data that shows Language, Task, Strategy, and Likert Scores (acceptability judgements) for Task A for Spanish ONLY\n",
        "# data <- read.csv(\"https://raw.githubusercontent.com/MatthewCGalbraith/FrontiersData/main/ajSpanishA.csv\")\n",
        "\n",
        "#This is the data that shows Language, Task, Strategy, and Likert Scores (acceptability judgements) for Task B for Spanish ONLY\n",
        "# data <- read.csv(\"https://raw.githubusercontent.com/MatthewCGalbraith/FrontiersData/main/ajSpanishB.csv\")"
      ],
      "metadata": {
        "id": "tGfwh53n6oRB"
      },
      "execution_count": null,
      "outputs": []
    },
    {
      "cell_type": "code",
      "source": [
        "# Set excel path for the data to be written\n",
        "excel <- \"ajfullABEnglish.xlsx\""
      ],
      "metadata": {
        "id": "CnCfhDRO6oRB"
      },
      "execution_count": null,
      "outputs": []
    },
    {
      "cell_type": "markdown",
      "source": [
        "### 2.1 Fit Ordinal Model"
      ],
      "metadata": {
        "id": "U5G6ACVm6oRB"
      }
    },
    {
      "cell_type": "code",
      "source": [
        "# library(ordinal)\n",
        "\n",
        "# # Convert Likert to factor\n",
        "# data$Likert <- factor(data$Likert)\n",
        "\n",
        "# # Fit the Ordinal Regression Model\n",
        "# o <- clm(Likert ~ Strategy,\n",
        "#          data = data)\n",
        "# # Check summary of model\n",
        "# summary(o)"
      ],
      "metadata": {
        "id": "DQmMyRim6oRB"
      },
      "execution_count": null,
      "outputs": []
    },
    {
      "cell_type": "code",
      "source": [
        "library(ordinal)\n",
        "library(broom)\n",
        "library(writexl)\n",
        "library(readxl)\n",
        "library(openxlsx)\n",
        "\n",
        "# Convert Likert to factor\n",
        "data$Likert <- factor(data$Likert)\n",
        "\n",
        "# Fit the Ordinal Regression Model\n",
        "o <- clm(Likert ~ Strategy + Assistant + Task, data = data)\n",
        "\n",
        "# Extract coefficients and related information\n",
        "coefficients_df <- tidy(o)\n",
        "\n",
        "# Extract Odds Ratios and Confidence Intervals\n",
        "odds_ratio <- exp(coef(o))\n",
        "conf_intervals <- exp(confint.default(o))\n",
        "\n",
        "# Create a dataframe\n",
        "effect <- rownames(coefficients_df)\n",
        "coefficient <- coefficients_df$estimate\n",
        "std_error <- coefficients_df$std.error\n",
        "z_value <- coefficients_df$statistic\n",
        "p_value <- coefficients_df$p.value\n",
        "odds_ratio_val <- odds_ratio\n",
        "ci_lower <- conf_intervals[, \"2.5 %\"]\n",
        "ci_upper <- conf_intervals[, \"97.5 %\"]\n",
        "\n",
        "# Combine into a dataframe\n",
        "result_df <- data.frame(\n",
        "  Effect = effect,\n",
        "  Coefficient = round(coefficient, 2),\n",
        "  `Std. Error` = round(std_error, 2),\n",
        "  `Z Value` = round(z_value, 2),\n",
        "  `P Value` = ifelse(p_value < 0.001, \"<0.001***\", ifelse(p_value < 0.01, \"<0.01**\", ifelse(p_value < 0.05, \"<0.05*\", round(p_value, 2)))),\n",
        "  `Odds Ratio` = round(odds_ratio_val, 2),\n",
        "  `CI Lower` = round(ci_lower, 2),\n",
        "  `CI Upper` = round(ci_upper, 2)\n",
        ")\n",
        "\n",
        "# Extract main effects coefficients and related information\n",
        "main_effects <- coefficients_df[grepl(\"Strategy|Assistant|Task\", coefficients_df$term) & !grepl(\":\", coefficients_df$term), ]\n",
        "\n",
        "# Extract main effects Odds Ratios and Confidence Intervals\n",
        "main_odds_ratio <- exp(coef(o)[grepl(\"Strategy|Assistant|Task\", names(coef(o))) & !grepl(\":\", names(coef(o)))])\n",
        "main_conf_intervals <- exp(confint.default(o)[grepl(\"Strategy|Assistant|Task\", names(coef(o))) & !grepl(\":\", names(coef(o))), ])\n",
        "\n",
        "# Create a dataframe for main effects\n",
        "main_effects_df <- data.frame(\n",
        "  Effect = main_effects$term,\n",
        "  Coefficient = round(main_effects$estimate, 2),\n",
        "  `Std. Error` = round(main_effects$std.error, 2),\n",
        "  `Z Value` = round(main_effects$statistic, 2),\n",
        "  `P Value` = ifelse(main_effects$p.value < 0.001, \"<0.001***\", ifelse(main_effects$p.value < 0.01, \"<0.01**\", ifelse(main_effects$p.value < 0.05, \"<0.05*\", round(main_effects$p.value, 2)))),\n",
        "  `Odds Ratio` = round(main_odds_ratio, 2),\n",
        "  `CI Lower` = round(main_conf_intervals[, \"2.5 %\"], 2),\n",
        "  `CI Upper` = round(main_conf_intervals[, \"97.5 %\"], 2)\n",
        ")\n",
        "\n",
        "# Modify Effect labels for Main Effects\n",
        "main_effects_df$Effect <- gsub(\"StrategyStrat\", \"Strategy \", main_effects_df$Effect)\n",
        "main_effects_df$Effect <- gsub(\"AssistantSiri\", \"Siri\", main_effects_df$Effect)\n",
        "\n",
        "# Add \"Strategy 1\" with a coefficient of 0 to main effects\n",
        "main_effects_df <- rbind(main_effects_df, data.frame(Effect = \"Strategy 1\", Coefficient = 0, `Std. Error` = NA, `Z Value` = NA, `P Value` = NA, `Odds Ratio` = NA, `CI Lower` = NA, `CI Upper` = NA))\n",
        "\n",
        "# Order main effects dataframe by Coefficient in descending order\n",
        "main_effects_df <- main_effects_df[order(-main_effects_df$Coefficient), ]\n",
        "\n",
        "# Print the modified main effects dataframe\n",
        "main_effects_df\n",
        "\n",
        "# Extract interaction effects coefficients and related information\n",
        "interaction_effects <- coefficients_df[grepl(\":\", coefficients_df$term), ]\n",
        "\n",
        "# Extract interaction effects Odds Ratios and Confidence Intervals\n",
        "interaction_odds_ratio <- exp(coef(o)[grepl(\":\", names(coef(o)))])\n",
        "interaction_conf_intervals <- exp(confint.default(o)[grepl(\":\", names(coef(o))), ])\n",
        "\n",
        "# Create a dataframe for interaction effects\n",
        "interaction_effects_df <- data.frame(\n",
        "  Effect = interaction_effects$term,\n",
        "  Coefficient = round(interaction_effects$estimate, 2),\n",
        "  `Std. Error` = round(interaction_effects$std.error, 2),\n",
        "  `Z Value` = round(interaction_effects$statistic, 2),\n",
        "  `P Value` = ifelse(interaction_effects$p.value < 0.001, \"<0.001***\", ifelse(interaction_effects$p.value < 0.01, \"<0.01**\", ifelse(interaction_effects$p.value < 0.05, \"<0.05*\", round(interaction_effects$p.value, 2)))),\n",
        "  `Odds Ratio` = round(interaction_odds_ratio, 2),\n",
        "  `CI Lower` = round(interaction_conf_intervals[, \"2.5 %\"], 2),\n",
        "  `CI Upper` = round(interaction_conf_intervals[, \"97.5 %\"], 2)\n",
        ")\n",
        "\n",
        "# Modify Effect labels for Interaction Effects\n",
        "interaction_effects_df$Effect <- gsub(\":AssistantSiri\", \" - Siri\", interaction_effects_df$Effect)\n",
        "interaction_effects_df$Effect <- gsub(\"StrategyStrat\", \"Strategy \", interaction_effects_df$Effect)\n",
        "interaction_effects_df$Effect <- gsub(\"AssistantSiri\", \"Siri\", interaction_effects_df$Effect)\n",
        "\n",
        "# Add \"Strategy 1 - Siri\" with a coefficient of 0 to interaction effects\n",
        "interaction_effects_df <- rbind(interaction_effects_df, data.frame(Effect = \"Strategy 1 - Siri\", Coefficient = 0, `Std. Error` = NA, `Z Value` = NA, `P Value` = NA, `Odds Ratio` = NA, `CI Lower` = NA, `CI Upper` = NA))\n",
        "\n",
        "# Order interaction effects dataframe by Coefficient in descending order\n",
        "interaction_effects_df <- interaction_effects_df[order(-interaction_effects_df$Coefficient), ]\n",
        "\n",
        "# Print the modified interaction effects dataframe\n",
        "interaction_effects_df\n",
        "\n",
        "# Create a workbook\n",
        "wb <- createWorkbook()\n",
        "\n",
        "# Add main_effects_df to the workbook\n",
        "addWorksheet(wb, \"Main Effects\")\n",
        "writeData(wb, \"Main Effects\", main_effects_df)\n",
        "\n",
        "# Add interaction_effects_df to the workbook\n",
        "addWorksheet(wb, \"Interaction Effects\")\n",
        "writeData(wb, \"Interaction Effects\", interaction_effects_df)\n",
        "\n",
        "# Save the workbook to Excel file\n",
        "saveWorkbook(wb, file = excel, overwrite = TRUE)\n",
        "\n",
        "# Confirm completion\n",
        "cat(\"Dataframes written to 'excel' successfully!\\n\")"
      ],
      "metadata": {
        "colab": {
          "base_uri": "https://localhost:8080/",
          "height": 603
        },
        "outputId": "20d68211-af31-42ee-9776-7591e224c1d2",
        "id": "EFGsgMHi6oRB"
      },
      "execution_count": null,
      "outputs": [
        {
          "output_type": "display_data",
          "data": {
            "text/html": [
              "<table class=\"dataframe\">\n",
              "<caption>A data.frame: 12 × 8</caption>\n",
              "<thead>\n",
              "\t<tr><th></th><th scope=col>Effect</th><th scope=col>Coefficient</th><th scope=col>Std..Error</th><th scope=col>Z.Value</th><th scope=col>P.Value</th><th scope=col>Odds.Ratio</th><th scope=col>CI.Lower</th><th scope=col>CI.Upper</th></tr>\n",
              "\t<tr><th></th><th scope=col>&lt;chr&gt;</th><th scope=col>&lt;dbl&gt;</th><th scope=col>&lt;dbl&gt;</th><th scope=col>&lt;dbl&gt;</th><th scope=col>&lt;chr&gt;</th><th scope=col>&lt;dbl&gt;</th><th scope=col>&lt;dbl&gt;</th><th scope=col>&lt;dbl&gt;</th></tr>\n",
              "</thead>\n",
              "<tbody>\n",
              "\t<tr><th scope=row>StrategyStrat5</th><td>Strategy 5 </td><td> 1.87</td><td>0.20</td><td> 9.27</td><td>&lt;0.001***</td><td>6.50</td><td>4.38</td><td>9.66</td></tr>\n",
              "\t<tr><th scope=row>StrategyStrat3</th><td>Strategy 3 </td><td> 1.24</td><td>0.19</td><td> 6.55</td><td>&lt;0.001***</td><td>3.47</td><td>2.39</td><td>5.03</td></tr>\n",
              "\t<tr><th scope=row>StrategyStrat8</th><td>Strategy 8 </td><td> 0.73</td><td>0.18</td><td> 4.03</td><td>&lt;0.001***</td><td>2.08</td><td>1.46</td><td>2.97</td></tr>\n",
              "\t<tr><th scope=row>TaskB</th><td><span style=white-space:pre-wrap>TaskB      </span></td><td> 0.51</td><td>0.08</td><td> 6.14</td><td>&lt;0.001***</td><td>1.66</td><td>1.41</td><td>1.95</td></tr>\n",
              "\t<tr><th scope=row>StrategyStrat2</th><td>Strategy 2 </td><td> 0.48</td><td>0.19</td><td> 2.57</td><td><span style=white-space:pre-wrap>&lt;0.05*   </span></td><td>1.61</td><td>1.12</td><td>2.33</td></tr>\n",
              "\t<tr><th scope=row>StrategyStrat10</th><td>Strategy 10</td><td> 0.18</td><td>0.18</td><td> 1.03</td><td>0.3      </td><td>1.20</td><td>0.85</td><td>1.71</td></tr>\n",
              "\t<tr><th scope=row>AssistantSiri</th><td>Siri       </td><td> 0.11</td><td>0.08</td><td> 1.35</td><td>0.18     </td><td>1.12</td><td>0.95</td><td>1.31</td></tr>\n",
              "\t<tr><th scope=row>1</th><td>Strategy 1 </td><td> 0.00</td><td>  NA</td><td>   NA</td><td>NA       </td><td>  NA</td><td>  NA</td><td>  NA</td></tr>\n",
              "\t<tr><th scope=row>StrategyStrat9</th><td>Strategy 9 </td><td>-0.17</td><td>0.18</td><td>-0.98</td><td>0.33     </td><td>0.84</td><td>0.59</td><td>1.19</td></tr>\n",
              "\t<tr><th scope=row>StrategyStrat4</th><td>Strategy 4 </td><td>-0.36</td><td>0.18</td><td>-1.98</td><td><span style=white-space:pre-wrap>&lt;0.05*   </span></td><td>0.70</td><td>0.49</td><td>1.00</td></tr>\n",
              "\t<tr><th scope=row>StrategyStrat7</th><td>Strategy 7 </td><td>-0.56</td><td>0.18</td><td>-3.08</td><td><span style=white-space:pre-wrap>&lt;0.01**  </span></td><td>0.57</td><td>0.40</td><td>0.82</td></tr>\n",
              "\t<tr><th scope=row>StrategyStrat6</th><td>Strategy 6 </td><td>-0.67</td><td>0.18</td><td>-3.76</td><td>&lt;0.001***</td><td>0.51</td><td>0.36</td><td>0.72</td></tr>\n",
              "</tbody>\n",
              "</table>\n"
            ],
            "text/markdown": "\nA data.frame: 12 × 8\n\n| <!--/--> | Effect &lt;chr&gt; | Coefficient &lt;dbl&gt; | Std..Error &lt;dbl&gt; | Z.Value &lt;dbl&gt; | P.Value &lt;chr&gt; | Odds.Ratio &lt;dbl&gt; | CI.Lower &lt;dbl&gt; | CI.Upper &lt;dbl&gt; |\n|---|---|---|---|---|---|---|---|---|\n| StrategyStrat5 | Strategy 5  |  1.87 | 0.20 |  9.27 | &lt;0.001*** | 6.50 | 4.38 | 9.66 |\n| StrategyStrat3 | Strategy 3  |  1.24 | 0.19 |  6.55 | &lt;0.001*** | 3.47 | 2.39 | 5.03 |\n| StrategyStrat8 | Strategy 8  |  0.73 | 0.18 |  4.03 | &lt;0.001*** | 2.08 | 1.46 | 2.97 |\n| TaskB | TaskB       |  0.51 | 0.08 |  6.14 | &lt;0.001*** | 1.66 | 1.41 | 1.95 |\n| StrategyStrat2 | Strategy 2  |  0.48 | 0.19 |  2.57 | &lt;0.05*    | 1.61 | 1.12 | 2.33 |\n| StrategyStrat10 | Strategy 10 |  0.18 | 0.18 |  1.03 | 0.3       | 1.20 | 0.85 | 1.71 |\n| AssistantSiri | Siri        |  0.11 | 0.08 |  1.35 | 0.18      | 1.12 | 0.95 | 1.31 |\n| 1 | Strategy 1  |  0.00 |   NA |    NA | NA        |   NA |   NA |   NA |\n| StrategyStrat9 | Strategy 9  | -0.17 | 0.18 | -0.98 | 0.33      | 0.84 | 0.59 | 1.19 |\n| StrategyStrat4 | Strategy 4  | -0.36 | 0.18 | -1.98 | &lt;0.05*    | 0.70 | 0.49 | 1.00 |\n| StrategyStrat7 | Strategy 7  | -0.56 | 0.18 | -3.08 | &lt;0.01**   | 0.57 | 0.40 | 0.82 |\n| StrategyStrat6 | Strategy 6  | -0.67 | 0.18 | -3.76 | &lt;0.001*** | 0.51 | 0.36 | 0.72 |\n\n",
            "text/latex": "A data.frame: 12 × 8\n\\begin{tabular}{r|llllllll}\n  & Effect & Coefficient & Std..Error & Z.Value & P.Value & Odds.Ratio & CI.Lower & CI.Upper\\\\\n  & <chr> & <dbl> & <dbl> & <dbl> & <chr> & <dbl> & <dbl> & <dbl>\\\\\n\\hline\n\tStrategyStrat5 & Strategy 5  &  1.87 & 0.20 &  9.27 & <0.001*** & 6.50 & 4.38 & 9.66\\\\\n\tStrategyStrat3 & Strategy 3  &  1.24 & 0.19 &  6.55 & <0.001*** & 3.47 & 2.39 & 5.03\\\\\n\tStrategyStrat8 & Strategy 8  &  0.73 & 0.18 &  4.03 & <0.001*** & 2.08 & 1.46 & 2.97\\\\\n\tTaskB & TaskB       &  0.51 & 0.08 &  6.14 & <0.001*** & 1.66 & 1.41 & 1.95\\\\\n\tStrategyStrat2 & Strategy 2  &  0.48 & 0.19 &  2.57 & <0.05*    & 1.61 & 1.12 & 2.33\\\\\n\tStrategyStrat10 & Strategy 10 &  0.18 & 0.18 &  1.03 & 0.3       & 1.20 & 0.85 & 1.71\\\\\n\tAssistantSiri & Siri        &  0.11 & 0.08 &  1.35 & 0.18      & 1.12 & 0.95 & 1.31\\\\\n\t1 & Strategy 1  &  0.00 &   NA &    NA & NA        &   NA &   NA &   NA\\\\\n\tStrategyStrat9 & Strategy 9  & -0.17 & 0.18 & -0.98 & 0.33      & 0.84 & 0.59 & 1.19\\\\\n\tStrategyStrat4 & Strategy 4  & -0.36 & 0.18 & -1.98 & <0.05*    & 0.70 & 0.49 & 1.00\\\\\n\tStrategyStrat7 & Strategy 7  & -0.56 & 0.18 & -3.08 & <0.01**   & 0.57 & 0.40 & 0.82\\\\\n\tStrategyStrat6 & Strategy 6  & -0.67 & 0.18 & -3.76 & <0.001*** & 0.51 & 0.36 & 0.72\\\\\n\\end{tabular}\n",
            "text/plain": [
              "                Effect      Coefficient Std..Error Z.Value P.Value   Odds.Ratio\n",
              "StrategyStrat5  Strategy 5   1.87       0.20        9.27   <0.001*** 6.50      \n",
              "StrategyStrat3  Strategy 3   1.24       0.19        6.55   <0.001*** 3.47      \n",
              "StrategyStrat8  Strategy 8   0.73       0.18        4.03   <0.001*** 2.08      \n",
              "TaskB           TaskB        0.51       0.08        6.14   <0.001*** 1.66      \n",
              "StrategyStrat2  Strategy 2   0.48       0.19        2.57   <0.05*    1.61      \n",
              "StrategyStrat10 Strategy 10  0.18       0.18        1.03   0.3       1.20      \n",
              "AssistantSiri   Siri         0.11       0.08        1.35   0.18      1.12      \n",
              "1               Strategy 1   0.00         NA          NA   NA          NA      \n",
              "StrategyStrat9  Strategy 9  -0.17       0.18       -0.98   0.33      0.84      \n",
              "StrategyStrat4  Strategy 4  -0.36       0.18       -1.98   <0.05*    0.70      \n",
              "StrategyStrat7  Strategy 7  -0.56       0.18       -3.08   <0.01**   0.57      \n",
              "StrategyStrat6  Strategy 6  -0.67       0.18       -3.76   <0.001*** 0.51      \n",
              "                CI.Lower CI.Upper\n",
              "StrategyStrat5  4.38     9.66    \n",
              "StrategyStrat3  2.39     5.03    \n",
              "StrategyStrat8  1.46     2.97    \n",
              "TaskB           1.41     1.95    \n",
              "StrategyStrat2  1.12     2.33    \n",
              "StrategyStrat10 0.85     1.71    \n",
              "AssistantSiri   0.95     1.31    \n",
              "1                 NA       NA    \n",
              "StrategyStrat9  0.59     1.19    \n",
              "StrategyStrat4  0.49     1.00    \n",
              "StrategyStrat7  0.40     0.82    \n",
              "StrategyStrat6  0.36     0.72    "
            ]
          },
          "metadata": {}
        },
        {
          "output_type": "display_data",
          "data": {
            "text/html": [
              "<table class=\"dataframe\">\n",
              "<caption>A data.frame: 1 × 8</caption>\n",
              "<thead>\n",
              "\t<tr><th></th><th scope=col>Effect</th><th scope=col>Coefficient</th><th scope=col>Std..Error</th><th scope=col>Z.Value</th><th scope=col>P.Value</th><th scope=col>Odds.Ratio</th><th scope=col>CI.Lower</th><th scope=col>CI.Upper</th></tr>\n",
              "\t<tr><th></th><th scope=col>&lt;chr&gt;</th><th scope=col>&lt;dbl&gt;</th><th scope=col>&lt;lgl&gt;</th><th scope=col>&lt;lgl&gt;</th><th scope=col>&lt;lgl&gt;</th><th scope=col>&lt;lgl&gt;</th><th scope=col>&lt;lgl&gt;</th><th scope=col>&lt;lgl&gt;</th></tr>\n",
              "</thead>\n",
              "<tbody>\n",
              "\t<tr><th scope=row>1</th><td>Strategy 1 - Siri</td><td>0</td><td>NA</td><td>NA</td><td>NA</td><td>NA</td><td>NA</td><td>NA</td></tr>\n",
              "</tbody>\n",
              "</table>\n"
            ],
            "text/markdown": "\nA data.frame: 1 × 8\n\n| <!--/--> | Effect &lt;chr&gt; | Coefficient &lt;dbl&gt; | Std..Error &lt;lgl&gt; | Z.Value &lt;lgl&gt; | P.Value &lt;lgl&gt; | Odds.Ratio &lt;lgl&gt; | CI.Lower &lt;lgl&gt; | CI.Upper &lt;lgl&gt; |\n|---|---|---|---|---|---|---|---|---|\n| 1 | Strategy 1 - Siri | 0 | NA | NA | NA | NA | NA | NA |\n\n",
            "text/latex": "A data.frame: 1 × 8\n\\begin{tabular}{r|llllllll}\n  & Effect & Coefficient & Std..Error & Z.Value & P.Value & Odds.Ratio & CI.Lower & CI.Upper\\\\\n  & <chr> & <dbl> & <lgl> & <lgl> & <lgl> & <lgl> & <lgl> & <lgl>\\\\\n\\hline\n\t1 & Strategy 1 - Siri & 0 & NA & NA & NA & NA & NA & NA\\\\\n\\end{tabular}\n",
            "text/plain": [
              "  Effect            Coefficient Std..Error Z.Value P.Value Odds.Ratio CI.Lower\n",
              "1 Strategy 1 - Siri 0           NA         NA      NA      NA         NA      \n",
              "  CI.Upper\n",
              "1 NA      "
            ]
          },
          "metadata": {}
        },
        {
          "output_type": "stream",
          "name": "stdout",
          "text": [
            "Dataframes written to 'excel' successfully!\n"
          ]
        }
      ]
    },
    {
      "cell_type": "markdown",
      "source": [
        "### 2.2 Pairwise Comparisons for Strategies"
      ],
      "metadata": {
        "id": "JVcY64Cw6oRC"
      }
    },
    {
      "cell_type": "code",
      "source": [
        "library(emmeans)\n",
        "\n",
        "# Calculate Estimated Marginal Means for Strategy variable\n",
        "emm_strategy <- emmeans(o, pairwise ~ Strategy)\n",
        "\n",
        "# Extract the results\n",
        "results <- summary(emm_strategy, adjust = \"holm\")\n",
        "\n",
        "# Convert the contrasts table to a dataframe\n",
        "df_contrasts <- as.data.frame(results$contrasts)\n",
        "\n",
        "# Create a function to format P values\n",
        "format_pvalue <- function(p_value) {\n",
        "  if (p_value < 0.001) {\n",
        "    return(\"<0.001***\")\n",
        "  } else if (p_value < 0.01) {\n",
        "    return(\"<0.01**\")\n",
        "  } else if (p_value < 0.05) {\n",
        "    return(\"<0.05*\")\n",
        "  } else {\n",
        "    return(paste0(\"\", round(p_value, 4)))\n",
        "  }\n",
        "}\n",
        "\n",
        "# Create dataframe for pairwise comparisons\n",
        "df_pairwise <- data.frame(\n",
        "  Effect = df_contrasts$contrast,\n",
        "  Coefficient = round(df_contrasts$estimate, 2),\n",
        "  `Std. Error` = round(df_contrasts$SE, 2),\n",
        "  `Z Value` = round(df_contrasts$z.ratio, 2),\n",
        "  `P Value` = sapply(df_contrasts$p.value, format_pvalue),\n",
        "  Odds_Ratio = round(exp(df_contrasts$estimate), 2),\n",
        "  CI_Lower = round(exp(df_contrasts$estimate - 1.96 * df_contrasts$SE), 2),\n",
        "  CI_Upper = round(exp(df_contrasts$estimate + 1.96 * df_contrasts$SE), 2)\n",
        ")\n",
        "\n",
        "# Print the new pairwise dataframe\n",
        "print(df_pairwise)\n",
        "\n",
        "# Load the existing workbook\n",
        "wb <- loadWorkbook(excel)\n",
        "\n",
        "# Add a new sheet to the existing workbook\n",
        "addWorksheet(wb, \"Pairwise_Comparisons\")\n",
        "\n",
        "# Write the dataframe to the new sheet in the existing workbook\n",
        "writeData(wb, sheet = \"Pairwise_Comparisons\", x = df_pairwise)\n",
        "\n",
        "# Save the workbook with the new sheet, overwriting the existing file\n",
        "saveWorkbook(wb, excel, overwrite = TRUE)"
      ],
      "metadata": {
        "colab": {
          "base_uri": "https://localhost:8080/"
        },
        "outputId": "80550dd8-fedf-447b-d493-f3cba6c3217c",
        "id": "uTz3p4_G6oRC"
      },
      "execution_count": null,
      "outputs": [
        {
          "output_type": "stream",
          "name": "stdout",
          "text": [
            "             Effect Coefficient Std..Error Z.Value   P.Value Odds_Ratio\n",
            "1  Strat1 - Strat10       -0.18       0.18   -1.03         1       0.83\n",
            "2   Strat1 - Strat2       -0.48       0.19   -2.57    0.1231       0.62\n",
            "3   Strat1 - Strat3       -1.24       0.19   -6.55 <0.001***       0.29\n",
            "4   Strat1 - Strat4        0.36       0.18    1.98     0.426       1.43\n",
            "5   Strat1 - Strat5       -1.87       0.20   -9.27 <0.001***       0.15\n",
            "6   Strat1 - Strat6        0.67       0.18    3.76   <0.01**       1.96\n",
            "7   Strat1 - Strat7        0.56       0.18    3.08    <0.05*       1.74\n",
            "8   Strat1 - Strat8       -0.73       0.18   -4.03   <0.01**       0.48\n",
            "9   Strat1 - Strat9        0.17       0.18    0.98         1       1.19\n",
            "10 Strat10 - Strat2       -0.29       0.18   -1.60    0.7646       0.74\n",
            "11 Strat10 - Strat3       -1.06       0.19   -5.66 <0.001***       0.35\n",
            "12 Strat10 - Strat4        0.54       0.18    3.04    <0.05*       1.72\n",
            "13 Strat10 - Strat5       -1.69       0.20   -8.46 <0.001***       0.18\n",
            "14 Strat10 - Strat6        0.86       0.18    4.84 <0.001***       2.36\n",
            "15 Strat10 - Strat7        0.74       0.18    4.15 <0.001***       2.09\n",
            "16 Strat10 - Strat8       -0.55       0.18   -3.06    <0.05*       0.58\n",
            "17 Strat10 - Strat9        0.36       0.17    2.05    0.4034       1.43\n",
            "18  Strat2 - Strat3       -0.76       0.19   -3.95   <0.01**       0.47\n",
            "19  Strat2 - Strat4        0.83       0.19    4.50 <0.001***       2.30\n",
            "20  Strat2 - Strat5       -1.39       0.21   -6.79 <0.001***       0.25\n",
            "21  Strat2 - Strat6        1.15       0.19    6.21 <0.001***       3.16\n",
            "22  Strat2 - Strat7        1.03       0.19    5.55 <0.001***       2.81\n",
            "23  Strat2 - Strat8       -0.25       0.19   -1.36         1       0.78\n",
            "24  Strat2 - Strat9        0.65       0.18    3.57   <0.01**       1.92\n",
            "25  Strat3 - Strat4        1.60       0.19    8.45 <0.001***       4.95\n",
            "26  Strat3 - Strat5       -0.63       0.21   -3.04    <0.05*       0.53\n",
            "27  Strat3 - Strat6        1.92       0.19   10.11 <0.001***       6.79\n",
            "28  Strat3 - Strat7        1.80       0.19    9.45 <0.001***       6.04\n",
            "29  Strat3 - Strat8        0.51       0.19    2.71    0.0886       1.67\n",
            "30  Strat3 - Strat9        1.42       0.19    7.61 <0.001***       4.12\n",
            "31  Strat4 - Strat5       -2.23       0.20  -11.05 <0.001***       0.11\n",
            "32  Strat4 - Strat6        0.32       0.18    1.79    0.5898       1.37\n",
            "33  Strat4 - Strat7        0.20       0.18    1.12         1       1.22\n",
            "34  Strat4 - Strat8       -1.09       0.18   -6.02 <0.001***       0.34\n",
            "35  Strat4 - Strat9       -0.18       0.18   -1.04         1       0.83\n",
            "36  Strat5 - Strat6        2.54       0.20   12.60 <0.001***      12.74\n",
            "37  Strat5 - Strat7        2.43       0.20   11.97 <0.001***      11.33\n",
            "38  Strat5 - Strat8        1.14       0.20    5.69 <0.001***       3.13\n",
            "39  Strat5 - Strat9        2.05       0.20   10.30 <0.001***       7.74\n",
            "40  Strat6 - Strat7       -0.12       0.18   -0.66         1       0.89\n",
            "41  Strat6 - Strat8       -1.41       0.18   -7.77 <0.001***       0.25\n",
            "42  Strat6 - Strat9       -0.50       0.17   -2.85    0.0606       0.61\n",
            "43  Strat7 - Strat8       -1.29       0.18   -7.09 <0.001***       0.28\n",
            "44  Strat7 - Strat9       -0.38       0.18   -2.17    0.3317       0.68\n",
            "45  Strat8 - Strat9        0.91       0.18    5.10 <0.001***       2.48\n",
            "   CI_Lower CI_Upper\n",
            "1      0.59     1.18\n",
            "2      0.43     0.89\n",
            "3      0.20     0.42\n",
            "4      1.00     2.03\n",
            "5      0.10     0.23\n",
            "6      1.38     2.78\n",
            "7      1.22     2.48\n",
            "8      0.34     0.69\n",
            "9      0.84     1.68\n",
            "10     0.52     1.07\n",
            "11     0.24     0.50\n",
            "12     1.21     2.43\n",
            "13     0.13     0.27\n",
            "14     1.66     3.33\n",
            "15     1.48     2.97\n",
            "16     0.41     0.82\n",
            "17     1.02     2.01\n",
            "18     0.32     0.68\n",
            "19     1.60     3.31\n",
            "20     0.17     0.37\n",
            "21     2.20     4.55\n",
            "22     1.95     4.05\n",
            "23     0.54     1.12\n",
            "24     1.34     2.75\n",
            "25     3.41     7.17\n",
            "26     0.36     0.80\n",
            "27     4.68     9.85\n",
            "28     4.16     8.77\n",
            "29     1.15     2.41\n",
            "30     2.86     5.94\n",
            "31     0.07     0.16\n",
            "32     0.97     1.94\n",
            "33     0.86     1.73\n",
            "34     0.24     0.48\n",
            "35     0.59     1.18\n",
            "36     8.58    18.93\n",
            "37     7.61    16.86\n",
            "38     2.11     4.63\n",
            "39     5.24    11.42\n",
            "40     0.63     1.26\n",
            "41     0.17     0.35\n",
            "42     0.43     0.86\n",
            "43     0.19     0.39\n",
            "44     0.48     0.96\n",
            "45     1.75     3.51\n"
          ]
        }
      ]
    },
    {
      "cell_type": "markdown",
      "source": [
        "### 2.3 Create Heatmap for Strategies"
      ],
      "metadata": {
        "id": "YeG5DybR6oRC"
      }
    },
    {
      "cell_type": "code",
      "source": [
        "# Load necessary libraries\n",
        "library(ggplot2)\n",
        "library(scales)\n",
        "\n",
        "# Convert x and y to factors with the desired order\n",
        "df_contrasts <- transform(df_contrasts,\n",
        "                          x = as.numeric(gsub(\"Strat\", \"\", sapply(strsplit(as.character(contrast), \" - \"), \"[[\", 1))),\n",
        "                          y = as.numeric(gsub(\"Strat\", \"\", sapply(strsplit(as.character(contrast), \" - \"), \"[[\", 2))))\n",
        "\n",
        "# Reordering columns\n",
        "df_contrasts <- df_contrasts[, c(\"x\", \"y\", \"p.value\")]\n",
        "\n",
        "# Create mirrored data\n",
        "df_mirrored <- rbind(df_contrasts, transform(df_contrasts, x = y, y = x))\n",
        "\n",
        "# Create function to format p-values\n",
        "# Create function to format p-values\n",
        "format_pvalue <- function(pvalue) {\n",
        "  if (is.numeric(pvalue)) {\n",
        "    ifelse(pvalue < 0.001, \"<0.001\",\n",
        "           ifelse(pvalue < 0.01, \"<0.01\",\n",
        "                  ifelse(pvalue < 0.05, \"<0.05\", sprintf(\"%.2f\", pvalue))))\n",
        "  } else {\n",
        "    pvalue\n",
        "  }\n",
        "}\n",
        "\n",
        "# Set font sizes\n",
        "font_size_text <- 3  # Adjust font size for values in the heatmap\n",
        "font_size_axes <- 12  # Adjust font size for axes labels\n",
        "\n",
        "# Create a custom color palette\n",
        "my_colors <- c(\"#EA4235\", \"#48E56D\")\n",
        "\n",
        "# Create heatmap with borders and a distinct color palette\n",
        "plot <- ggplot(df_mirrored, aes(x = x, y = y, fill = p.value < 0.05)) +\n",
        "  geom_tile(color = \"black\", size = 1) +  # Add borders around cells\n",
        "  geom_text(aes(label = format_pvalue(p.value)), size = font_size_text, vjust = 0.5, hjust = 0.5, color = \"black\", family = \"Times New Roman\") +  # Center text\n",
        "  scale_fill_manual(values = c(\"#EA4235\", \"#48E56D\"), labels = c(\"p > 0.05\", \"p < 0.05\"), name = \"p-value\") +  # Assign colors and labels\n",
        "  labs(x = \"Strategy\",\n",
        "       y = \"Strategy\",\n",
        "       fill = NULL,\n",
        "       title = \" \",) +\n",
        "  theme_minimal() +\n",
        "  theme(axis.text.x = element_text(angle = 0, hjust = 1, size = font_size_axes, family = \"Times New Roman\"),  # Adjust font size for x axis labels\n",
        "        axis.text.y = element_text(size = font_size_axes, family = \"Times New Roman\"),  # Adjust font size for y axis labels\n",
        "        axis.title.x = element_text(size = font_size_axes, family = \"Times New Roman\"),  # Adjust font size for x axis title\n",
        "        axis.title.y = element_text(size = font_size_axes, family = \"Times New Roman\"),  # Adjust font size for y axis title\n",
        "        legend.title = element_text(family = \"Times New Roman\", hjust = 0.5),  # Set legend title font and center it\n",
        "        legend.title.align = 0.5,  # Center the legend title\n",
        "        legend.text = element_text(size = font_size_axes, family = \"Times New Roman\", margin = margin(0, 10, 0, 0)),  # Adjust legend text size and margin\n",
        "        panel.grid = element_blank(),  # Remove grid lines\n",
        "        panel.border = element_rect(color = \"black\", fill = NA),  # Add border around plot\n",
        "        axis.line = element_line(color = \"black\"),\n",
        "        plot.title = element_text(hjust = 0.5, family = \"Times New Roman\"),\n",
        "        plot.caption = element_text(hjust = 0.5, family = \"Times New Roman\")) +  # Center the title\n",
        "  scale_x_continuous(breaks = seq(min(df_mirrored$x), max(df_mirrored$x), by = 1)) +\n",
        "  scale_y_continuous(breaks = seq(min(df_mirrored$y), max(df_mirrored$y), by = 1))\n",
        "\n",
        "# Save the plot as a scalable vector graphic (SVG) with higher resolution\n",
        "plot\n",
        "ggsave(\"HeatmapEnglishFull.svg\", plot, width = 8, height = 6, dpi = 300)"
      ],
      "metadata": {
        "colab": {
          "base_uri": "https://localhost:8080/",
          "height": 437
        },
        "outputId": "f121f323-6c4c-45f0-b75a-a466f3932d3f",
        "id": "ld94E-VE6oRC"
      },
      "execution_count": null,
      "outputs": [
        {
          "output_type": "display_data",
          "data": {
            "text/plain": [
              "plot without title"
            ],
            "image/png": "[encoded data removed]"
          },
          "metadata": {
            "image/png": {
              "width": 420,
              "height": 420
            }
          }
        }
      ]
    },
    {
      "cell_type": "markdown",
      "source": [
        "## English A"
      ],
      "metadata": {
        "id": "6JMGbfej6ARE"
      }
    },
    {
      "cell_type": "markdown",
      "source": [
        "### 2.0 Load Data"
      ],
      "metadata": {
        "id": "F9IghPJe6ARL"
      }
    },
    {
      "cell_type": "code",
      "source": [
        "#This is the data that shows Language, Task, Strategy, and Likert Scores (acceptability judgements) for all tasks\n",
        "# data <- read.csv(\"https://raw.githubusercontent.com/MatthewCGalbraith/FrontiersData/main/ajfullAB.csv\")\n",
        "\n",
        "#This is the data that shows Language, Task, Strategy, and Likert Scores (acceptability judgements) for all Task A and Task B for English ONLY\n",
        "# data <- read.csv(\"https://raw.githubusercontent.com/MatthewCGalbraith/FrontiersData/main/ajfullABEnglish.csv\")\n",
        "\n",
        "#This is the data that shows Language, Task, Strategy, and Likert Scores (acceptability judgements) for all Task A and Task B for Spanish ONLY\n",
        "# data <- read.csv(\"https://raw.githubusercontent.com/MatthewCGalbraith/FrontiersData/main/ajfullABSpanish.csv\")\n",
        "\n",
        "#This is the data that shows Language, Task, Strategy, and Likert Scores (acceptability judgements) for Task A for English ONLY\n",
        "data <- read.csv(\"https://raw.githubusercontent.com/MatthewCGalbraith/FrontiersData/main/ajEnglishA.csv\")\n",
        "\n",
        "#This is the data that shows Language, Task, Strategy, and Likert Scores (acceptability judgements) for Task B for English ONLY\n",
        "# data <- read.csv(\"https://raw.githubusercontent.com/MatthewCGalbraith/FrontiersData/main/ajEnglishB.csv\")\n",
        "\n",
        "#This is the data that shows Language, Task, Strategy, and Likert Scores (acceptability judgements) for Task A for Spanish ONLY\n",
        "# data <- read.csv(\"https://raw.githubusercontent.com/MatthewCGalbraith/FrontiersData/main/ajSpanishA.csv\")\n",
        "\n",
        "#This is the data that shows Language, Task, Strategy, and Likert Scores (acceptability judgements) for Task B for Spanish ONLY\n",
        "# data <- read.csv(\"https://raw.githubusercontent.com/MatthewCGalbraith/FrontiersData/main/ajSpanishB.csv\")"
      ],
      "metadata": {
        "id": "9Qsg5c3r6ARL"
      },
      "execution_count": null,
      "outputs": []
    },
    {
      "cell_type": "code",
      "source": [
        "# Set excel path for the data to be written\n",
        "excel <- \"ajEnglishA.xlsx\""
      ],
      "metadata": {
        "id": "wit2IqSY6ARL"
      },
      "execution_count": null,
      "outputs": []
    },
    {
      "cell_type": "markdown",
      "source": [
        "### 2.1 Fit Ordinal Model"
      ],
      "metadata": {
        "id": "ampCihdx6ARL"
      }
    },
    {
      "cell_type": "code",
      "source": [
        "# library(ordinal)\n",
        "\n",
        "# # Convert Likert to factor\n",
        "# data$Likert <- factor(data$Likert)\n",
        "\n",
        "# # Fit the Ordinal Regression Model\n",
        "# o <- clm(Likert ~ Strategy,\n",
        "#          data = data)\n",
        "# # Check summary of model\n",
        "# summary(o)"
      ],
      "metadata": {
        "id": "cr5snkQY6ARL"
      },
      "execution_count": null,
      "outputs": []
    },
    {
      "cell_type": "code",
      "source": [
        "library(ordinal)\n",
        "library(broom)\n",
        "library(writexl)\n",
        "\n",
        "# Convert Likert to factor\n",
        "data$Likert <- factor(data$Likert)\n",
        "\n",
        "# Fit the Ordinal Regression Model\n",
        "o <- clm(Likert ~ Strategy + Assistant, data = data)\n",
        "\n",
        "# Extract coefficients and related information\n",
        "coefficients_df <- tidy(o)\n",
        "\n",
        "# Extract Odds Ratios and Confidence Intervals\n",
        "odds_ratio <- exp(coef(o))\n",
        "conf_intervals <- exp(confint.default(o))\n",
        "\n",
        "# Create a dataframe\n",
        "effect <- rownames(coefficients_df)\n",
        "coefficient <- coefficients_df$estimate\n",
        "std_error <- coefficients_df$std.error\n",
        "z_value <- coefficients_df$statistic\n",
        "p_value <- coefficients_df$p.value\n",
        "odds_ratio_val <- odds_ratio\n",
        "ci_lower <- conf_intervals[, \"2.5 %\"]\n",
        "ci_upper <- conf_intervals[, \"97.5 %\"]\n",
        "\n",
        "# Combine into a dataframe\n",
        "result_df <- data.frame(\n",
        "  Effect = effect,\n",
        "  Coefficient = round(coefficient, 2),\n",
        "  `Std. Error` = round(std_error, 2),\n",
        "  `Z Value` = round(z_value, 2),\n",
        "  `P Value` = ifelse(p_value < 0.001, \"<0.001***\", ifelse(p_value < 0.01, \"<0.01**\", ifelse(p_value < 0.05, \"<0.05*\", round(p_value, 2)))),\n",
        "  `Odds Ratio` = round(odds_ratio_val, 2),\n",
        "  `CI Lower` = round(ci_lower, 2),\n",
        "  `CI Upper` = round(ci_upper, 2)\n",
        ")\n",
        "\n",
        "# Extract main effects coefficients and related information\n",
        "main_effects <- coefficients_df[grepl(\"Strategy|Assistant\", coefficients_df$term) & !grepl(\":\", coefficients_df$term), ]\n",
        "\n",
        "# Extract main effects Odds Ratios and Confidence Intervals\n",
        "main_odds_ratio <- exp(coef(o)[grepl(\"Strategy|Assistant\", names(coef(o))) & !grepl(\":\", names(coef(o)))])\n",
        "main_conf_intervals <- exp(confint.default(o)[grepl(\"Strategy|Assistant\", names(coef(o))) & !grepl(\":\", names(coef(o))), ])\n",
        "\n",
        "# Create a dataframe for main effects\n",
        "main_effects_df <- data.frame(\n",
        "  Effect = main_effects$term,\n",
        "  Coefficient = round(main_effects$estimate, 2),\n",
        "  `Std. Error` = round(main_effects$std.error, 2),\n",
        "  `Z Value` = round(main_effects$statistic, 2),\n",
        "  `P Value` = ifelse(main_effects$p.value < 0.001, \"<0.001***\", ifelse(main_effects$p.value < 0.01, \"<0.01**\", ifelse(main_effects$p.value < 0.05, \"<0.05*\", round(main_effects$p.value, 2)))),\n",
        "  `Odds Ratio` = round(main_odds_ratio, 2),\n",
        "  `CI Lower` = round(main_conf_intervals[, \"2.5 %\"], 2),\n",
        "  `CI Upper` = round(main_conf_intervals[, \"97.5 %\"], 2)\n",
        ")\n",
        "\n",
        "# Modify Effect labels for Main Effects\n",
        "main_effects_df$Effect <- gsub(\"StrategyStrat\", \"Strategy \", main_effects_df$Effect)\n",
        "main_effects_df$Effect <- gsub(\"AssistantSiri\", \"Siri\", main_effects_df$Effect)\n",
        "\n",
        "# Add \"Strategy 1\" with a coefficient of 0 to main effects\n",
        "main_effects_df <- rbind(main_effects_df, data.frame(Effect = \"Strategy 1\", Coefficient = 0, `Std. Error` = NA, `Z Value` = NA, `P Value` = NA, `Odds Ratio` = NA, `CI Lower` = NA, `CI Upper` = NA))\n",
        "\n",
        "# Order main effects dataframe by Coefficient in descending order\n",
        "main_effects_df <- main_effects_df[order(-main_effects_df$Coefficient), ]\n",
        "\n",
        "# Print the modified main effects dataframe\n",
        "main_effects_df\n",
        "\n",
        "# Extract interaction effects coefficients and related information\n",
        "interaction_effects <- coefficients_df[grepl(\":\", coefficients_df$term), ]\n",
        "\n",
        "# Extract interaction effects Odds Ratios and Confidence Intervals\n",
        "interaction_odds_ratio <- exp(coef(o)[grepl(\":\", names(coef(o)))])\n",
        "interaction_conf_intervals <- exp(confint.default(o)[grepl(\":\", names(coef(o))), ])\n",
        "\n",
        "# Create a dataframe for interaction effects\n",
        "interaction_effects_df <- data.frame(\n",
        "  Effect = interaction_effects$term,\n",
        "  Coefficient = round(interaction_effects$estimate, 2),\n",
        "  `Std. Error` = round(interaction_effects$std.error, 2),\n",
        "  `Z Value` = round(interaction_effects$statistic, 2),\n",
        "  `P Value` = ifelse(interaction_effects$p.value < 0.001, \"<0.001***\", ifelse(interaction_effects$p.value < 0.01, \"<0.01**\", ifelse(interaction_effects$p.value < 0.05, \"<0.05*\", round(interaction_effects$p.value, 2)))),\n",
        "  `Odds Ratio` = round(interaction_odds_ratio, 2),\n",
        "  `CI Lower` = round(interaction_conf_intervals[, \"2.5 %\"], 2),\n",
        "  `CI Upper` = round(interaction_conf_intervals[, \"97.5 %\"], 2)\n",
        ")\n",
        "\n",
        "# Modify Effect labels for Interaction Effects\n",
        "interaction_effects_df$Effect <- gsub(\":AssistantSiri\", \" - Siri\", interaction_effects_df$Effect)\n",
        "interaction_effects_df$Effect <- gsub(\"StrategyStrat\", \"Strategy \", interaction_effects_df$Effect)\n",
        "interaction_effects_df$Effect <- gsub(\"AssistantSiri\", \"Siri\", interaction_effects_df$Effect)\n",
        "\n",
        "# Add \"Strategy 1 - Siri\" with a coefficient of 0 to interaction effects\n",
        "interaction_effects_df <- rbind(interaction_effects_df, data.frame(Effect = \"Strategy 1 - Siri\", Coefficient = 0, `Std. Error` = NA, `Z Value` = NA, `P Value` = NA, `Odds Ratio` = NA, `CI Lower` = NA, `CI Upper` = NA))\n",
        "\n",
        "# Order interaction effects dataframe by Coefficient in descending order\n",
        "interaction_effects_df <- interaction_effects_df[order(-interaction_effects_df$Coefficient), ]\n",
        "\n",
        "# Print the modified interaction effects dataframe\n",
        "interaction_effects_df\n",
        "\n",
        "# Create a workbook\n",
        "wb <- createWorkbook()\n",
        "\n",
        "# Add main_effects_df to the workbook\n",
        "addWorksheet(wb, \"Main Effects\")\n",
        "writeData(wb, \"Main Effects\", main_effects_df)\n",
        "\n",
        "# Add interaction_effects_df to the workbook\n",
        "addWorksheet(wb, \"Interaction Effects\")\n",
        "writeData(wb, \"Interaction Effects\", interaction_effects_df)\n",
        "\n",
        "# Save the workbook to Excel file\n",
        "saveWorkbook(wb, file = excel, overwrite = TRUE)\n",
        "\n",
        "# Confirm completion\n",
        "cat(\"Dataframes written to 'excel' successfully!\\n\")"
      ],
      "metadata": {
        "colab": {
          "base_uri": "https://localhost:8080/",
          "height": 572
        },
        "outputId": "49b9218f-3e15-417d-dfc7-522ab02a959f",
        "id": "22npJMpI6ARL"
      },
      "execution_count": null,
      "outputs": [
        {
          "output_type": "display_data",
          "data": {
            "text/html": [
              "<table class=\"dataframe\">\n",
              "<caption>A data.frame: 11 × 8</caption>\n",
              "<thead>\n",
              "\t<tr><th></th><th scope=col>Effect</th><th scope=col>Coefficient</th><th scope=col>Std..Error</th><th scope=col>Z.Value</th><th scope=col>P.Value</th><th scope=col>Odds.Ratio</th><th scope=col>CI.Lower</th><th scope=col>CI.Upper</th></tr>\n",
              "\t<tr><th></th><th scope=col>&lt;chr&gt;</th><th scope=col>&lt;dbl&gt;</th><th scope=col>&lt;dbl&gt;</th><th scope=col>&lt;dbl&gt;</th><th scope=col>&lt;chr&gt;</th><th scope=col>&lt;dbl&gt;</th><th scope=col>&lt;dbl&gt;</th><th scope=col>&lt;dbl&gt;</th></tr>\n",
              "</thead>\n",
              "<tbody>\n",
              "\t<tr><th scope=row>StrategyStrat5</th><td>Strategy 5 </td><td> 1.85</td><td>0.27</td><td> 6.90</td><td>&lt;0.001***</td><td>6.37</td><td>3.76</td><td>10.77</td></tr>\n",
              "\t<tr><th scope=row>StrategyStrat3</th><td>Strategy 3 </td><td> 1.23</td><td>0.26</td><td> 4.76</td><td>&lt;0.001***</td><td>3.44</td><td>2.07</td><td> 5.72</td></tr>\n",
              "\t<tr><th scope=row>StrategyStrat8</th><td>Strategy 8 </td><td> 0.62</td><td>0.25</td><td> 2.52</td><td><span style=white-space:pre-wrap>&lt;0.05*   </span></td><td>1.86</td><td>1.15</td><td> 3.02</td></tr>\n",
              "\t<tr><th scope=row>StrategyStrat2</th><td>Strategy 2 </td><td> 0.48</td><td>0.26</td><td> 1.86</td><td>0.06     </td><td>1.62</td><td>0.98</td><td> 2.69</td></tr>\n",
              "\t<tr><th scope=row>StrategyStrat10</th><td>Strategy 10</td><td> 0.47</td><td>0.25</td><td> 1.89</td><td>0.06     </td><td>1.60</td><td>0.98</td><td> 2.59</td></tr>\n",
              "\t<tr><th scope=row>StrategyStrat9</th><td>Strategy 9 </td><td> 0.39</td><td>0.24</td><td> 1.59</td><td>0.11     </td><td>1.47</td><td>0.91</td><td> 2.37</td></tr>\n",
              "\t<tr><th scope=row>AssistantSiri</th><td><span style=white-space:pre-wrap>Siri       </span></td><td> 0.33</td><td>0.11</td><td> 2.92</td><td><span style=white-space:pre-wrap>&lt;0.01**  </span></td><td>1.40</td><td>1.12</td><td> 1.75</td></tr>\n",
              "\t<tr><th scope=row>StrategyStrat6</th><td>Strategy 6 </td><td> 0.14</td><td>0.24</td><td> 0.58</td><td>0.56     </td><td>1.15</td><td>0.71</td><td> 1.86</td></tr>\n",
              "\t<tr><th scope=row>1</th><td>Strategy 1 </td><td> 0.00</td><td>  NA</td><td>   NA</td><td>NA       </td><td>  NA</td><td>  NA</td><td>   NA</td></tr>\n",
              "\t<tr><th scope=row>StrategyStrat7</th><td>Strategy 7 </td><td>-0.04</td><td>0.25</td><td>-0.18</td><td>0.86     </td><td>0.96</td><td>0.58</td><td> 1.56</td></tr>\n",
              "\t<tr><th scope=row>StrategyStrat4</th><td>Strategy 4 </td><td>-0.34</td><td>0.25</td><td>-1.34</td><td>0.18     </td><td>0.71</td><td>0.44</td><td> 1.17</td></tr>\n",
              "</tbody>\n",
              "</table>\n"
            ],
            "text/markdown": "\nA data.frame: 11 × 8\n\n| <!--/--> | Effect &lt;chr&gt; | Coefficient &lt;dbl&gt; | Std..Error &lt;dbl&gt; | Z.Value &lt;dbl&gt; | P.Value &lt;chr&gt; | Odds.Ratio &lt;dbl&gt; | CI.Lower &lt;dbl&gt; | CI.Upper &lt;dbl&gt; |\n|---|---|---|---|---|---|---|---|---|\n| StrategyStrat5 | Strategy 5  |  1.85 | 0.27 |  6.90 | &lt;0.001*** | 6.37 | 3.76 | 10.77 |\n| StrategyStrat3 | Strategy 3  |  1.23 | 0.26 |  4.76 | &lt;0.001*** | 3.44 | 2.07 |  5.72 |\n| StrategyStrat8 | Strategy 8  |  0.62 | 0.25 |  2.52 | &lt;0.05*    | 1.86 | 1.15 |  3.02 |\n| StrategyStrat2 | Strategy 2  |  0.48 | 0.26 |  1.86 | 0.06      | 1.62 | 0.98 |  2.69 |\n| StrategyStrat10 | Strategy 10 |  0.47 | 0.25 |  1.89 | 0.06      | 1.60 | 0.98 |  2.59 |\n| StrategyStrat9 | Strategy 9  |  0.39 | 0.24 |  1.59 | 0.11      | 1.47 | 0.91 |  2.37 |\n| AssistantSiri | Siri        |  0.33 | 0.11 |  2.92 | &lt;0.01**   | 1.40 | 1.12 |  1.75 |\n| StrategyStrat6 | Strategy 6  |  0.14 | 0.24 |  0.58 | 0.56      | 1.15 | 0.71 |  1.86 |\n| 1 | Strategy 1  |  0.00 |   NA |    NA | NA        |   NA |   NA |    NA |\n| StrategyStrat7 | Strategy 7  | -0.04 | 0.25 | -0.18 | 0.86      | 0.96 | 0.58 |  1.56 |\n| StrategyStrat4 | Strategy 4  | -0.34 | 0.25 | -1.34 | 0.18      | 0.71 | 0.44 |  1.17 |\n\n",
            "text/latex": "A data.frame: 11 × 8\n\\begin{tabular}{r|llllllll}\n  & Effect & Coefficient & Std..Error & Z.Value & P.Value & Odds.Ratio & CI.Lower & CI.Upper\\\\\n  & <chr> & <dbl> & <dbl> & <dbl> & <chr> & <dbl> & <dbl> & <dbl>\\\\\n\\hline\n\tStrategyStrat5 & Strategy 5  &  1.85 & 0.27 &  6.90 & <0.001*** & 6.37 & 3.76 & 10.77\\\\\n\tStrategyStrat3 & Strategy 3  &  1.23 & 0.26 &  4.76 & <0.001*** & 3.44 & 2.07 &  5.72\\\\\n\tStrategyStrat8 & Strategy 8  &  0.62 & 0.25 &  2.52 & <0.05*    & 1.86 & 1.15 &  3.02\\\\\n\tStrategyStrat2 & Strategy 2  &  0.48 & 0.26 &  1.86 & 0.06      & 1.62 & 0.98 &  2.69\\\\\n\tStrategyStrat10 & Strategy 10 &  0.47 & 0.25 &  1.89 & 0.06      & 1.60 & 0.98 &  2.59\\\\\n\tStrategyStrat9 & Strategy 9  &  0.39 & 0.24 &  1.59 & 0.11      & 1.47 & 0.91 &  2.37\\\\\n\tAssistantSiri & Siri        &  0.33 & 0.11 &  2.92 & <0.01**   & 1.40 & 1.12 &  1.75\\\\\n\tStrategyStrat6 & Strategy 6  &  0.14 & 0.24 &  0.58 & 0.56      & 1.15 & 0.71 &  1.86\\\\\n\t1 & Strategy 1  &  0.00 &   NA &    NA & NA        &   NA &   NA &    NA\\\\\n\tStrategyStrat7 & Strategy 7  & -0.04 & 0.25 & -0.18 & 0.86      & 0.96 & 0.58 &  1.56\\\\\n\tStrategyStrat4 & Strategy 4  & -0.34 & 0.25 & -1.34 & 0.18      & 0.71 & 0.44 &  1.17\\\\\n\\end{tabular}\n",
            "text/plain": [
              "                Effect      Coefficient Std..Error Z.Value P.Value   Odds.Ratio\n",
              "StrategyStrat5  Strategy 5   1.85       0.27        6.90   <0.001*** 6.37      \n",
              "StrategyStrat3  Strategy 3   1.23       0.26        4.76   <0.001*** 3.44      \n",
              "StrategyStrat8  Strategy 8   0.62       0.25        2.52   <0.05*    1.86      \n",
              "StrategyStrat2  Strategy 2   0.48       0.26        1.86   0.06      1.62      \n",
              "StrategyStrat10 Strategy 10  0.47       0.25        1.89   0.06      1.60      \n",
              "StrategyStrat9  Strategy 9   0.39       0.24        1.59   0.11      1.47      \n",
              "AssistantSiri   Siri         0.33       0.11        2.92   <0.01**   1.40      \n",
              "StrategyStrat6  Strategy 6   0.14       0.24        0.58   0.56      1.15      \n",
              "1               Strategy 1   0.00         NA          NA   NA          NA      \n",
              "StrategyStrat7  Strategy 7  -0.04       0.25       -0.18   0.86      0.96      \n",
              "StrategyStrat4  Strategy 4  -0.34       0.25       -1.34   0.18      0.71      \n",
              "                CI.Lower CI.Upper\n",
              "StrategyStrat5  3.76     10.77   \n",
              "StrategyStrat3  2.07      5.72   \n",
              "StrategyStrat8  1.15      3.02   \n",
              "StrategyStrat2  0.98      2.69   \n",
              "StrategyStrat10 0.98      2.59   \n",
              "StrategyStrat9  0.91      2.37   \n",
              "AssistantSiri   1.12      1.75   \n",
              "StrategyStrat6  0.71      1.86   \n",
              "1                 NA        NA   \n",
              "StrategyStrat7  0.58      1.56   \n",
              "StrategyStrat4  0.44      1.17   "
            ]
          },
          "metadata": {}
        },
        {
          "output_type": "display_data",
          "data": {
            "text/html": [
              "<table class=\"dataframe\">\n",
              "<caption>A data.frame: 1 × 8</caption>\n",
              "<thead>\n",
              "\t<tr><th></th><th scope=col>Effect</th><th scope=col>Coefficient</th><th scope=col>Std..Error</th><th scope=col>Z.Value</th><th scope=col>P.Value</th><th scope=col>Odds.Ratio</th><th scope=col>CI.Lower</th><th scope=col>CI.Upper</th></tr>\n",
              "\t<tr><th></th><th scope=col>&lt;chr&gt;</th><th scope=col>&lt;dbl&gt;</th><th scope=col>&lt;lgl&gt;</th><th scope=col>&lt;lgl&gt;</th><th scope=col>&lt;lgl&gt;</th><th scope=col>&lt;lgl&gt;</th><th scope=col>&lt;lgl&gt;</th><th scope=col>&lt;lgl&gt;</th></tr>\n",
              "</thead>\n",
              "<tbody>\n",
              "\t<tr><th scope=row>1</th><td>Strategy 1 - Siri</td><td>0</td><td>NA</td><td>NA</td><td>NA</td><td>NA</td><td>NA</td><td>NA</td></tr>\n",
              "</tbody>\n",
              "</table>\n"
            ],
            "text/markdown": "\nA data.frame: 1 × 8\n\n| <!--/--> | Effect &lt;chr&gt; | Coefficient &lt;dbl&gt; | Std..Error &lt;lgl&gt; | Z.Value &lt;lgl&gt; | P.Value &lt;lgl&gt; | Odds.Ratio &lt;lgl&gt; | CI.Lower &lt;lgl&gt; | CI.Upper &lt;lgl&gt; |\n|---|---|---|---|---|---|---|---|---|\n| 1 | Strategy 1 - Siri | 0 | NA | NA | NA | NA | NA | NA |\n\n",
            "text/latex": "A data.frame: 1 × 8\n\\begin{tabular}{r|llllllll}\n  & Effect & Coefficient & Std..Error & Z.Value & P.Value & Odds.Ratio & CI.Lower & CI.Upper\\\\\n  & <chr> & <dbl> & <lgl> & <lgl> & <lgl> & <lgl> & <lgl> & <lgl>\\\\\n\\hline\n\t1 & Strategy 1 - Siri & 0 & NA & NA & NA & NA & NA & NA\\\\\n\\end{tabular}\n",
            "text/plain": [
              "  Effect            Coefficient Std..Error Z.Value P.Value Odds.Ratio CI.Lower\n",
              "1 Strategy 1 - Siri 0           NA         NA      NA      NA         NA      \n",
              "  CI.Upper\n",
              "1 NA      "
            ]
          },
          "metadata": {}
        },
        {
          "output_type": "stream",
          "name": "stdout",
          "text": [
            "Dataframes written to 'excel' successfully!\n"
          ]
        }
      ]
    },
    {
      "cell_type": "markdown",
      "source": [
        "### 2.2 Pairwise Comparisons for Strategies"
      ],
      "metadata": {
        "id": "SAGGvmBz6ARM"
      }
    },
    {
      "cell_type": "code",
      "source": [
        "library(emmeans)\n",
        "\n",
        "# Calculate Estimated Marginal Means for Strategy variable\n",
        "emm_strategy <- emmeans(o, pairwise ~ Strategy)\n",
        "\n",
        "# Extract the results\n",
        "results <- summary(emm_strategy, adjust = \"holm\")\n",
        "\n",
        "# Convert the contrasts table to a dataframe\n",
        "df_contrasts <- as.data.frame(results$contrasts)\n",
        "\n",
        "# Create a function to format P values\n",
        "format_pvalue <- function(p_value) {\n",
        "  if (p_value < 0.001) {\n",
        "    return(\"<0.001***\")\n",
        "  } else if (p_value < 0.01) {\n",
        "    return(\"<0.01**\")\n",
        "  } else if (p_value < 0.05) {\n",
        "    return(\"<0.05*\")\n",
        "  } else {\n",
        "    return(paste0(\"\", round(p_value, 4)))\n",
        "  }\n",
        "}\n",
        "\n",
        "# Create dataframe for pairwise comparisons\n",
        "df_pairwise <- data.frame(\n",
        "  Effect = df_contrasts$contrast,\n",
        "  Coefficient = round(df_contrasts$estimate, 2),\n",
        "  `Std. Error` = round(df_contrasts$SE, 2),\n",
        "  `Z Value` = round(df_contrasts$z.ratio, 2),\n",
        "  `P Value` = sapply(df_contrasts$p.value, format_pvalue),\n",
        "  Odds_Ratio = round(exp(df_contrasts$estimate), 2),\n",
        "  CI_Lower = round(exp(df_contrasts$estimate - 1.96 * df_contrasts$SE), 2),\n",
        "  CI_Upper = round(exp(df_contrasts$estimate + 1.96 * df_contrasts$SE), 2)\n",
        ")\n",
        "\n",
        "# Print the new pairwise dataframe\n",
        "print(df_pairwise)\n",
        "\n",
        "# Load the existing workbook\n",
        "wb <- loadWorkbook(excel)\n",
        "\n",
        "# Add a new sheet to the existing workbook\n",
        "addWorksheet(wb, \"Pairwise_Comparisons\")\n",
        "\n",
        "# Write the dataframe to the new sheet in the existing workbook\n",
        "writeData(wb, sheet = \"Pairwise_Comparisons\", x = df_pairwise)\n",
        "\n",
        "# Save the workbook with the new sheet, overwriting the existing file\n",
        "saveWorkbook(wb, excel, overwrite = TRUE)"
      ],
      "metadata": {
        "colab": {
          "base_uri": "https://localhost:8080/"
        },
        "outputId": "eda65d57-0c30-4f59-8904-48cbd9723d1e",
        "id": "hxCk9kig6ARM"
      },
      "execution_count": null,
      "outputs": [
        {
          "output_type": "stream",
          "name": "stdout",
          "text": [
            "             Effect Coefficient Std..Error Z.Value   P.Value Odds_Ratio\n",
            "1  Strat1 - Strat10       -0.47       0.25   -1.89         1       0.63\n",
            "2   Strat1 - Strat2       -0.48       0.26   -1.86         1       0.62\n",
            "3   Strat1 - Strat3       -1.23       0.26   -4.76 <0.001***       0.29\n",
            "4   Strat1 - Strat4        0.34       0.25    1.34         1       1.40\n",
            "5   Strat1 - Strat5       -1.85       0.27   -6.90 <0.001***       0.16\n",
            "6   Strat1 - Strat6       -0.14       0.24   -0.58         1       0.87\n",
            "7   Strat1 - Strat7        0.04       0.25    0.18         1       1.05\n",
            "8   Strat1 - Strat8       -0.62       0.25   -2.52    0.2898       0.54\n",
            "9   Strat1 - Strat9       -0.39       0.24   -1.59         1       0.68\n",
            "10 Strat10 - Strat2       -0.01       0.26   -0.05         1       0.99\n",
            "11 Strat10 - Strat3       -0.77       0.26   -2.95    0.0922       0.46\n",
            "12 Strat10 - Strat4        0.81       0.25    3.17    <0.05*       2.24\n",
            "13 Strat10 - Strat5       -1.38       0.27   -5.15 <0.001***       0.25\n",
            "14 Strat10 - Strat6        0.33       0.25    1.33         1       1.39\n",
            "15 Strat10 - Strat7        0.51       0.25    2.02    0.9485       1.67\n",
            "16 Strat10 - Strat8       -0.15       0.25   -0.62         1       0.86\n",
            "17 Strat10 - Strat9        0.08       0.24    0.33         1       1.09\n",
            "18  Strat2 - Strat3       -0.75       0.27   -2.79    0.1439       0.47\n",
            "19  Strat2 - Strat4        0.82       0.27    3.09    0.0597       2.27\n",
            "20  Strat2 - Strat5       -1.37       0.28   -4.92 <0.001***       0.25\n",
            "21  Strat2 - Strat6        0.34       0.26    1.32         1       1.41\n",
            "22  Strat2 - Strat7        0.53       0.26    1.99    0.9801       1.69\n",
            "23  Strat2 - Strat8       -0.14       0.26   -0.54         1       0.87\n",
            "24  Strat2 - Strat9        0.10       0.26    0.37         1       1.10\n",
            "25  Strat3 - Strat4        1.57       0.27    5.89 <0.001***       4.82\n",
            "26  Strat3 - Strat5       -0.62       0.28   -2.23    0.5905       0.54\n",
            "27  Strat3 - Strat6        1.09       0.26    4.24 <0.001***       2.99\n",
            "28  Strat3 - Strat7        1.28       0.27    4.81 <0.001***       3.59\n",
            "29  Strat3 - Strat8        0.61       0.26    2.37    0.4293       1.85\n",
            "30  Strat3 - Strat9        0.85       0.26    3.31    <0.05*       2.34\n",
            "31  Strat4 - Strat5       -2.19       0.28   -7.94 <0.001***       0.11\n",
            "32  Strat4 - Strat6       -0.48       0.25   -1.91         1       0.62\n",
            "33  Strat4 - Strat7       -0.29       0.26   -1.14         1       0.75\n",
            "34  Strat4 - Strat8       -0.96       0.25   -3.78   <0.01**       0.38\n",
            "35  Strat4 - Strat9       -0.72       0.25   -2.89    0.1086       0.48\n",
            "36  Strat5 - Strat6        1.71       0.27    6.41 <0.001***       5.53\n",
            "37  Strat5 - Strat7        1.90       0.27    6.91 <0.001***       6.66\n",
            "38  Strat5 - Strat8        1.23       0.27    4.60 <0.001***       3.42\n",
            "39  Strat5 - Strat9        1.47       0.26    5.53 <0.001***       4.33\n",
            "40  Strat6 - Strat7        0.19       0.25    0.74         1       1.20\n",
            "41  Strat6 - Strat8       -0.48       0.25   -1.96    0.9935       0.62\n",
            "42  Strat6 - Strat9       -0.25       0.24   -1.01         1       0.78\n",
            "43  Strat7 - Strat8       -0.67       0.25   -2.64    0.2183       0.51\n",
            "44  Strat7 - Strat9       -0.43       0.25   -1.72         1       0.65\n",
            "45  Strat8 - Strat9        0.24       0.24    0.97         1       1.27\n",
            "   CI_Lower CI_Upper\n",
            "1      0.39     1.02\n",
            "2      0.37     1.03\n",
            "3      0.17     0.48\n",
            "4      0.86     2.30\n",
            "5      0.09     0.27\n",
            "6      0.54     1.40\n",
            "7      0.64     1.71\n",
            "8      0.33     0.87\n",
            "9      0.42     1.10\n",
            "10     0.59     1.64\n",
            "11     0.28     0.77\n",
            "12     1.36     3.68\n",
            "13     0.15     0.42\n",
            "14     0.86     2.25\n",
            "15     1.02     2.74\n",
            "16     0.53     1.39\n",
            "17     0.67     1.75\n",
            "18     0.28     0.80\n",
            "19     1.35     3.82\n",
            "20     0.15     0.44\n",
            "21     0.85     2.33\n",
            "22     1.01     2.84\n",
            "23     0.52     1.44\n",
            "24     0.67     1.82\n",
            "25     2.86     8.14\n",
            "26     0.31     0.93\n",
            "27     1.80     4.95\n",
            "28     2.13     6.05\n",
            "29     1.11     3.07\n",
            "30     1.41     3.87\n",
            "31     0.07     0.19\n",
            "32     0.38     1.01\n",
            "33     0.45     1.23\n",
            "34     0.23     0.63\n",
            "35     0.30     0.79\n",
            "36     3.28     9.33\n",
            "37     3.89    11.40\n",
            "38     2.03     5.77\n",
            "39     2.58     7.28\n",
            "40     0.74     1.97\n",
            "41     0.38     1.00\n",
            "42     0.49     1.26\n",
            "43     0.31     0.84\n",
            "44     0.40     1.06\n",
            "45     0.78     2.04\n"
          ]
        }
      ]
    },
    {
      "cell_type": "markdown",
      "source": [
        "### 2.3 Create Heatmap for Strategies"
      ],
      "metadata": {
        "id": "G05i_B5x6ARM"
      }
    },
    {
      "cell_type": "code",
      "source": [
        "# Load necessary libraries\n",
        "library(ggplot2)\n",
        "library(scales)\n",
        "\n",
        "# Convert x and y to factors with the desired order\n",
        "df_contrasts <- transform(df_contrasts,\n",
        "                          x = as.numeric(gsub(\"Strat\", \"\", sapply(strsplit(as.character(contrast), \" - \"), \"[[\", 1))),\n",
        "                          y = as.numeric(gsub(\"Strat\", \"\", sapply(strsplit(as.character(contrast), \" - \"), \"[[\", 2))))\n",
        "\n",
        "# Reordering columns\n",
        "df_contrasts <- df_contrasts[, c(\"x\", \"y\", \"p.value\")]\n",
        "\n",
        "# Create mirrored data\n",
        "df_mirrored <- rbind(df_contrasts, transform(df_contrasts, x = y, y = x))\n",
        "\n",
        "# Create function to format p-values\n",
        "# Create function to format p-values\n",
        "format_pvalue <- function(pvalue) {\n",
        "  if (is.numeric(pvalue)) {\n",
        "    ifelse(pvalue < 0.001, \"<0.001\",\n",
        "           ifelse(pvalue < 0.01, \"<0.01\",\n",
        "                  ifelse(pvalue < 0.05, \"<0.05\", sprintf(\"%.2f\", pvalue))))\n",
        "  } else {\n",
        "    pvalue\n",
        "  }\n",
        "}\n",
        "\n",
        "# Set font sizes\n",
        "font_size_text <- 3  # Adjust font size for values in the heatmap\n",
        "font_size_axes <- 12  # Adjust font size for axes labels\n",
        "\n",
        "# Create a custom color palette\n",
        "my_colors <- c(\"#EA4235\", \"#48E56D\")\n",
        "\n",
        "# Create heatmap with borders and a distinct color palette\n",
        "plot <- ggplot(df_mirrored, aes(x = x, y = y, fill = p.value < 0.05)) +\n",
        "  geom_tile(color = \"black\", size = 1) +  # Add borders around cells\n",
        "  geom_text(aes(label = format_pvalue(p.value)), size = font_size_text, vjust = 0.5, hjust = 0.5, color = \"black\", family = \"Times New Roman\") +  # Center text\n",
        "  scale_fill_manual(values = c(\"#EA4235\", \"#48E56D\"), labels = c(\"p > 0.05\", \"p < 0.05\"), name = \"p-value\") +  # Assign colors and labels\n",
        "  labs(x = \"Strategy\",\n",
        "       y = \"Strategy\",\n",
        "       fill = NULL,\n",
        "       title = \" \",) +\n",
        "  theme_minimal() +\n",
        "  theme(axis.text.x = element_text(angle = 0, hjust = 1, size = font_size_axes, family = \"Times New Roman\"),  # Adjust font size for x axis labels\n",
        "        axis.text.y = element_text(size = font_size_axes, family = \"Times New Roman\"),  # Adjust font size for y axis labels\n",
        "        axis.title.x = element_text(size = font_size_axes, family = \"Times New Roman\"),  # Adjust font size for x axis title\n",
        "        axis.title.y = element_text(size = font_size_axes, family = \"Times New Roman\"),  # Adjust font size for y axis title\n",
        "        legend.title = element_text(family = \"Times New Roman\", hjust = 0.5),  # Set legend title font and center it\n",
        "        legend.title.align = 0.5,  # Center the legend title\n",
        "        legend.text = element_text(size = font_size_axes, family = \"Times New Roman\", margin = margin(0, 10, 0, 0)),  # Adjust legend text size and margin\n",
        "        panel.grid = element_blank(),  # Remove grid lines\n",
        "        panel.border = element_rect(color = \"black\", fill = NA),  # Add border around plot\n",
        "        axis.line = element_line(color = \"black\"),\n",
        "        plot.title = element_text(hjust = 0.5, family = \"Times New Roman\"),\n",
        "        plot.caption = element_text(hjust = 0.5, family = \"Times New Roman\")) +  # Center the title\n",
        "  scale_x_continuous(breaks = seq(min(df_mirrored$x), max(df_mirrored$x), by = 1)) +\n",
        "  scale_y_continuous(breaks = seq(min(df_mirrored$y), max(df_mirrored$y), by = 1))\n",
        "\n",
        "# Save the plot as a scalable vector graphic (SVG) with higher resolution\n",
        "plot\n",
        "ggsave(\"HeatmapEnglishA.svg\", plot, width = 8, height = 6, dpi = 300)"
      ],
      "metadata": {
        "colab": {
          "base_uri": "https://localhost:8080/",
          "height": 437
        },
        "outputId": "36ef79ac-001f-4384-d8f9-51f46b66c316",
        "id": "tjb8FDk66ARM"
      },
      "execution_count": null,
      "outputs": [
        {
          "output_type": "display_data",
          "data": {
            "text/plain": [
              "plot without title"
            ],
            "image/png": "[encoded data removed]"
          },
          "metadata": {
            "image/png": {
              "width": 420,
              "height": 420
            }
          }
        }
      ]
    },
    {
      "cell_type": "markdown",
      "source": [
        "## English B\n"
      ],
      "metadata": {
        "id": "y76WkO053fC8"
      }
    },
    {
      "cell_type": "markdown",
      "source": [
        "### 2.0 Load Data"
      ],
      "metadata": {
        "id": "8XiG8Aty3fDE"
      }
    },
    {
      "cell_type": "code",
      "source": [
        "#This is the data that shows Language, Task, Strategy, and Likert Scores (acceptability judgements) for all tasks\n",
        "# data <- read.csv(\"https://raw.githubusercontent.com/MatthewCGalbraith/FrontiersData/main/ajfullAB.csv\")\n",
        "\n",
        "#This is the data that shows Language, Task, Strategy, and Likert Scores (acceptability judgements) for all Task A and Task B for English ONLY\n",
        "# data <- read.csv(\"https://raw.githubusercontent.com/MatthewCGalbraith/FrontiersData/main/ajfullABEnglish.csv\")\n",
        "\n",
        "#This is the data that shows Language, Task, Strategy, and Likert Scores (acceptability judgements) for all Task A and Task B for Spanish ONLY\n",
        "# data <- read.csv(\"https://raw.githubusercontent.com/MatthewCGalbraith/FrontiersData/main/ajfullABSpanish.csv\")\n",
        "\n",
        "#This is the data that shows Language, Task, Strategy, and Likert Scores (acceptability judgements) for Task A for English ONLY\n",
        "# data <- read.csv(\"https://raw.githubusercontent.com/MatthewCGalbraith/FrontiersData/main/ajEnglishA.csv\")\n",
        "\n",
        "#This is the data that shows Language, Task, Strategy, and Likert Scores (acceptability judgements) for Task B for English ONLY\n",
        "data <- read.csv(\"https://raw.githubusercontent.com/MatthewCGalbraith/FrontiersData/main/ajEnglishB.csv\")\n",
        "\n",
        "#This is the data that shows Language, Task, Strategy, and Likert Scores (acceptability judgements) for Task A for Spanish ONLY\n",
        "# data <- read.csv(\"https://raw.githubusercontent.com/MatthewCGalbraith/FrontiersData/main/ajSpanishA.csv\")\n",
        "\n",
        "#This is the data that shows Language, Task, Strategy, and Likert Scores (acceptability judgements) for Task B for Spanish ONLY\n",
        "# data <- read.csv(\"https://raw.githubusercontent.com/MatthewCGalbraith/FrontiersData/main/ajSpanishB.csv\")"
      ],
      "metadata": {
        "id": "SZznpBcE3fDE"
      },
      "execution_count": null,
      "outputs": []
    },
    {
      "cell_type": "code",
      "source": [
        "# Set excel path for the data to be written\n",
        "excel <- \"ajEnglishB.xlsx\""
      ],
      "metadata": {
        "id": "nFShKXnd3fDE"
      },
      "execution_count": null,
      "outputs": []
    },
    {
      "cell_type": "markdown",
      "source": [
        "### 2.1 Fit Ordinal Model"
      ],
      "metadata": {
        "id": "UtrN5_8Y3fDE"
      }
    },
    {
      "cell_type": "code",
      "source": [
        "# library(ordinal)\n",
        "\n",
        "# # Convert Likert to factor\n",
        "# data$Likert <- factor(data$Likert)\n",
        "\n",
        "# # Fit the Ordinal Regression Model\n",
        "# o <- clm(Likert ~ Strategy,\n",
        "#          data = data)\n",
        "# # Check summary of model\n",
        "# summary(o)"
      ],
      "metadata": {
        "id": "KAlPmd8F3fDE"
      },
      "execution_count": null,
      "outputs": []
    },
    {
      "cell_type": "code",
      "source": [
        "library(ordinal)\n",
        "library(broom)\n",
        "library(writexl)\n",
        "\n",
        "# Convert Likert to factor\n",
        "data$Likert <- factor(data$Likert)\n",
        "\n",
        "# Fit the Ordinal Regression Model\n",
        "o <- clm(Likert ~ Strategy + Assistant, data = data)\n",
        "\n",
        "# Extract coefficients and related information\n",
        "coefficients_df <- tidy(o)\n",
        "\n",
        "# Extract Odds Ratios and Confidence Intervals\n",
        "odds_ratio <- exp(coef(o))\n",
        "conf_intervals <- exp(confint.default(o))\n",
        "\n",
        "# Create a dataframe\n",
        "effect <- rownames(coefficients_df)\n",
        "coefficient <- coefficients_df$estimate\n",
        "std_error <- coefficients_df$std.error\n",
        "z_value <- coefficients_df$statistic\n",
        "p_value <- coefficients_df$p.value\n",
        "odds_ratio_val <- odds_ratio\n",
        "ci_lower <- conf_intervals[, \"2.5 %\"]\n",
        "ci_upper <- conf_intervals[, \"97.5 %\"]\n",
        "\n",
        "# Combine into a dataframe\n",
        "result_df <- data.frame(\n",
        "  Effect = effect,\n",
        "  Coefficient = round(coefficient, 2),\n",
        "  `Std. Error` = round(std_error, 2),\n",
        "  `Z Value` = round(z_value, 2),\n",
        "  `P Value` = ifelse(p_value < 0.001, \"<0.001***\", ifelse(p_value < 0.01, \"<0.01**\", ifelse(p_value < 0.05, \"<0.05*\", round(p_value, 2)))),\n",
        "  `Odds Ratio` = round(odds_ratio_val, 2),\n",
        "  `CI Lower` = round(ci_lower, 2),\n",
        "  `CI Upper` = round(ci_upper, 2)\n",
        ")\n",
        "\n",
        "# Extract main effects coefficients and related information\n",
        "main_effects <- coefficients_df[grepl(\"Strategy|Assistant\", coefficients_df$term) & !grepl(\":\", coefficients_df$term), ]\n",
        "\n",
        "# Extract main effects Odds Ratios and Confidence Intervals\n",
        "main_odds_ratio <- exp(coef(o)[grepl(\"Strategy|Assistant\", names(coef(o))) & !grepl(\":\", names(coef(o)))])\n",
        "main_conf_intervals <- exp(confint.default(o)[grepl(\"Strategy|Assistant\", names(coef(o))) & !grepl(\":\", names(coef(o))), ])\n",
        "\n",
        "# Create a dataframe for main effects\n",
        "main_effects_df <- data.frame(\n",
        "  Effect = main_effects$term,\n",
        "  Coefficient = round(main_effects$estimate, 2),\n",
        "  `Std. Error` = round(main_effects$std.error, 2),\n",
        "  `Z Value` = round(main_effects$statistic, 2),\n",
        "  `P Value` = ifelse(main_effects$p.value < 0.001, \"<0.001***\", ifelse(main_effects$p.value < 0.01, \"<0.01**\", ifelse(main_effects$p.value < 0.05, \"<0.05*\", round(main_effects$p.value, 2)))),\n",
        "  `Odds Ratio` = round(main_odds_ratio, 2),\n",
        "  `CI Lower` = round(main_conf_intervals[, \"2.5 %\"], 2),\n",
        "  `CI Upper` = round(main_conf_intervals[, \"97.5 %\"], 2)\n",
        ")\n",
        "\n",
        "# Modify Effect labels for Main Effects\n",
        "main_effects_df$Effect <- gsub(\"StrategyStrat\", \"Strategy \", main_effects_df$Effect)\n",
        "main_effects_df$Effect <- gsub(\"AssistantSiri\", \"Siri\", main_effects_df$Effect)\n",
        "\n",
        "# Add \"Strategy 1\" with a coefficient of 0 to main effects\n",
        "main_effects_df <- rbind(main_effects_df, data.frame(Effect = \"Strategy 1\", Coefficient = 0, `Std. Error` = NA, `Z Value` = NA, `P Value` = NA, `Odds Ratio` = NA, `CI Lower` = NA, `CI Upper` = NA))\n",
        "\n",
        "# Order main effects dataframe by Coefficient in descending order\n",
        "main_effects_df <- main_effects_df[order(-main_effects_df$Coefficient), ]\n",
        "\n",
        "# Print the modified main effects dataframe\n",
        "main_effects_df\n",
        "\n",
        "# Extract interaction effects coefficients and related information\n",
        "interaction_effects <- coefficients_df[grepl(\":\", coefficients_df$term), ]\n",
        "\n",
        "# Extract interaction effects Odds Ratios and Confidence Intervals\n",
        "interaction_odds_ratio <- exp(coef(o)[grepl(\":\", names(coef(o)))])\n",
        "interaction_conf_intervals <- exp(confint.default(o)[grepl(\":\", names(coef(o))), ])\n",
        "\n",
        "# Create a dataframe for interaction effects\n",
        "interaction_effects_df <- data.frame(\n",
        "  Effect = interaction_effects$term,\n",
        "  Coefficient = round(interaction_effects$estimate, 2),\n",
        "  `Std. Error` = round(interaction_effects$std.error, 2),\n",
        "  `Z Value` = round(interaction_effects$statistic, 2),\n",
        "  `P Value` = ifelse(interaction_effects$p.value < 0.001, \"<0.001***\", ifelse(interaction_effects$p.value < 0.01, \"<0.01**\", ifelse(interaction_effects$p.value < 0.05, \"<0.05*\", round(interaction_effects$p.value, 2)))),\n",
        "  `Odds Ratio` = round(interaction_odds_ratio, 2),\n",
        "  `CI Lower` = round(interaction_conf_intervals[, \"2.5 %\"], 2),\n",
        "  `CI Upper` = round(interaction_conf_intervals[, \"97.5 %\"], 2)\n",
        ")\n",
        "\n",
        "# Modify Effect labels for Interaction Effects\n",
        "interaction_effects_df$Effect <- gsub(\":AssistantSiri\", \" - Siri\", interaction_effects_df$Effect)\n",
        "interaction_effects_df$Effect <- gsub(\"StrategyStrat\", \"Strategy \", interaction_effects_df$Effect)\n",
        "interaction_effects_df$Effect <- gsub(\"AssistantSiri\", \"Siri\", interaction_effects_df$Effect)\n",
        "\n",
        "# Add \"Strategy 1 - Siri\" with a coefficient of 0 to interaction effects\n",
        "interaction_effects_df <- rbind(interaction_effects_df, data.frame(Effect = \"Strategy 1 - Siri\", Coefficient = 0, `Std. Error` = NA, `Z Value` = NA, `P Value` = NA, `Odds Ratio` = NA, `CI Lower` = NA, `CI Upper` = NA))\n",
        "\n",
        "# Order interaction effects dataframe by Coefficient in descending order\n",
        "interaction_effects_df <- interaction_effects_df[order(-interaction_effects_df$Coefficient), ]\n",
        "\n",
        "# Print the modified interaction effects dataframe\n",
        "interaction_effects_df\n",
        "\n",
        "# Create a workbook\n",
        "wb <- createWorkbook()\n",
        "\n",
        "# Add main_effects_df to the workbook\n",
        "addWorksheet(wb, \"Main Effects\")\n",
        "writeData(wb, \"Main Effects\", main_effects_df)\n",
        "\n",
        "# Add interaction_effects_df to the workbook\n",
        "addWorksheet(wb, \"Interaction Effects\")\n",
        "writeData(wb, \"Interaction Effects\", interaction_effects_df)\n",
        "\n",
        "# Save the workbook to Excel file\n",
        "saveWorkbook(wb, file = excel, overwrite = TRUE)\n",
        "\n",
        "# Confirm completion\n",
        "cat(\"Dataframes written to 'excel' successfully!\\n\")"
      ],
      "metadata": {
        "colab": {
          "base_uri": "https://localhost:8080/",
          "height": 572
        },
        "outputId": "83757e2b-6886-45eb-dc3d-cc7c39f4cacb",
        "id": "jpWkl6If3fDE"
      },
      "execution_count": null,
      "outputs": [
        {
          "output_type": "display_data",
          "data": {
            "text/html": [
              "<table class=\"dataframe\">\n",
              "<caption>A data.frame: 11 × 8</caption>\n",
              "<thead>\n",
              "\t<tr><th></th><th scope=col>Effect</th><th scope=col>Coefficient</th><th scope=col>Std..Error</th><th scope=col>Z.Value</th><th scope=col>P.Value</th><th scope=col>Odds.Ratio</th><th scope=col>CI.Lower</th><th scope=col>CI.Upper</th></tr>\n",
              "\t<tr><th></th><th scope=col>&lt;chr&gt;</th><th scope=col>&lt;dbl&gt;</th><th scope=col>&lt;dbl&gt;</th><th scope=col>&lt;dbl&gt;</th><th scope=col>&lt;chr&gt;</th><th scope=col>&lt;dbl&gt;</th><th scope=col>&lt;dbl&gt;</th><th scope=col>&lt;dbl&gt;</th></tr>\n",
              "</thead>\n",
              "<tbody>\n",
              "\t<tr><th scope=row>StrategyStrat5</th><td>Strategy 5 </td><td> 1.99</td><td>0.32</td><td> 6.29</td><td>&lt;0.001***</td><td>7.29</td><td>3.92</td><td>13.53</td></tr>\n",
              "\t<tr><th scope=row>StrategyStrat3</th><td>Strategy 3 </td><td> 1.28</td><td>0.28</td><td> 4.52</td><td>&lt;0.001***</td><td>3.59</td><td>2.06</td><td> 6.25</td></tr>\n",
              "\t<tr><th scope=row>StrategyStrat8</th><td>Strategy 8 </td><td> 0.89</td><td>0.27</td><td> 3.27</td><td><span style=white-space:pre-wrap>&lt;0.01**  </span></td><td>2.43</td><td>1.43</td><td> 4.13</td></tr>\n",
              "\t<tr><th scope=row>StrategyStrat2</th><td>Strategy 2 </td><td> 0.46</td><td>0.27</td><td> 1.70</td><td>0.09     </td><td>1.59</td><td>0.93</td><td> 2.71</td></tr>\n",
              "\t<tr><th scope=row>1</th><td>Strategy 1 </td><td> 0.00</td><td>  NA</td><td>   NA</td><td>NA       </td><td>  NA</td><td>  NA</td><td>   NA</td></tr>\n",
              "\t<tr><th scope=row>StrategyStrat10</th><td>Strategy 10</td><td>-0.14</td><td>0.26</td><td>-0.55</td><td>0.58     </td><td>0.87</td><td>0.52</td><td> 1.45</td></tr>\n",
              "\t<tr><th scope=row>AssistantSiri</th><td>Siri       </td><td>-0.14</td><td>0.12</td><td>-1.15</td><td>0.25     </td><td>0.87</td><td>0.69</td><td> 1.10</td></tr>\n",
              "\t<tr><th scope=row>StrategyStrat4</th><td>Strategy 4 </td><td>-0.46</td><td>0.26</td><td>-1.79</td><td>0.07     </td><td>0.63</td><td>0.38</td><td> 1.05</td></tr>\n",
              "\t<tr><th scope=row>StrategyStrat9</th><td>Strategy 9 </td><td>-0.80</td><td>0.26</td><td>-3.10</td><td><span style=white-space:pre-wrap>&lt;0.01**  </span></td><td>0.45</td><td>0.27</td><td> 0.74</td></tr>\n",
              "\t<tr><th scope=row>StrategyStrat7</th><td>Strategy 7 </td><td>-1.16</td><td>0.26</td><td>-4.39</td><td>&lt;0.001***</td><td>0.31</td><td>0.19</td><td> 0.53</td></tr>\n",
              "\t<tr><th scope=row>StrategyStrat6</th><td>Strategy 6 </td><td>-1.61</td><td>0.26</td><td>-6.09</td><td>&lt;0.001***</td><td>0.20</td><td>0.12</td><td> 0.34</td></tr>\n",
              "</tbody>\n",
              "</table>\n"
            ],
            "text/markdown": "\nA data.frame: 11 × 8\n\n| <!--/--> | Effect &lt;chr&gt; | Coefficient &lt;dbl&gt; | Std..Error &lt;dbl&gt; | Z.Value &lt;dbl&gt; | P.Value &lt;chr&gt; | Odds.Ratio &lt;dbl&gt; | CI.Lower &lt;dbl&gt; | CI.Upper &lt;dbl&gt; |\n|---|---|---|---|---|---|---|---|---|\n| StrategyStrat5 | Strategy 5  |  1.99 | 0.32 |  6.29 | &lt;0.001*** | 7.29 | 3.92 | 13.53 |\n| StrategyStrat3 | Strategy 3  |  1.28 | 0.28 |  4.52 | &lt;0.001*** | 3.59 | 2.06 |  6.25 |\n| StrategyStrat8 | Strategy 8  |  0.89 | 0.27 |  3.27 | &lt;0.01**   | 2.43 | 1.43 |  4.13 |\n| StrategyStrat2 | Strategy 2  |  0.46 | 0.27 |  1.70 | 0.09      | 1.59 | 0.93 |  2.71 |\n| 1 | Strategy 1  |  0.00 |   NA |    NA | NA        |   NA |   NA |    NA |\n| StrategyStrat10 | Strategy 10 | -0.14 | 0.26 | -0.55 | 0.58      | 0.87 | 0.52 |  1.45 |\n| AssistantSiri | Siri        | -0.14 | 0.12 | -1.15 | 0.25      | 0.87 | 0.69 |  1.10 |\n| StrategyStrat4 | Strategy 4  | -0.46 | 0.26 | -1.79 | 0.07      | 0.63 | 0.38 |  1.05 |\n| StrategyStrat9 | Strategy 9  | -0.80 | 0.26 | -3.10 | &lt;0.01**   | 0.45 | 0.27 |  0.74 |\n| StrategyStrat7 | Strategy 7  | -1.16 | 0.26 | -4.39 | &lt;0.001*** | 0.31 | 0.19 |  0.53 |\n| StrategyStrat6 | Strategy 6  | -1.61 | 0.26 | -6.09 | &lt;0.001*** | 0.20 | 0.12 |  0.34 |\n\n",
            "text/latex": "A data.frame: 11 × 8\n\\begin{tabular}{r|llllllll}\n  & Effect & Coefficient & Std..Error & Z.Value & P.Value & Odds.Ratio & CI.Lower & CI.Upper\\\\\n  & <chr> & <dbl> & <dbl> & <dbl> & <chr> & <dbl> & <dbl> & <dbl>\\\\\n\\hline\n\tStrategyStrat5 & Strategy 5  &  1.99 & 0.32 &  6.29 & <0.001*** & 7.29 & 3.92 & 13.53\\\\\n\tStrategyStrat3 & Strategy 3  &  1.28 & 0.28 &  4.52 & <0.001*** & 3.59 & 2.06 &  6.25\\\\\n\tStrategyStrat8 & Strategy 8  &  0.89 & 0.27 &  3.27 & <0.01**   & 2.43 & 1.43 &  4.13\\\\\n\tStrategyStrat2 & Strategy 2  &  0.46 & 0.27 &  1.70 & 0.09      & 1.59 & 0.93 &  2.71\\\\\n\t1 & Strategy 1  &  0.00 &   NA &    NA & NA        &   NA &   NA &    NA\\\\\n\tStrategyStrat10 & Strategy 10 & -0.14 & 0.26 & -0.55 & 0.58      & 0.87 & 0.52 &  1.45\\\\\n\tAssistantSiri & Siri        & -0.14 & 0.12 & -1.15 & 0.25      & 0.87 & 0.69 &  1.10\\\\\n\tStrategyStrat4 & Strategy 4  & -0.46 & 0.26 & -1.79 & 0.07      & 0.63 & 0.38 &  1.05\\\\\n\tStrategyStrat9 & Strategy 9  & -0.80 & 0.26 & -3.10 & <0.01**   & 0.45 & 0.27 &  0.74\\\\\n\tStrategyStrat7 & Strategy 7  & -1.16 & 0.26 & -4.39 & <0.001*** & 0.31 & 0.19 &  0.53\\\\\n\tStrategyStrat6 & Strategy 6  & -1.61 & 0.26 & -6.09 & <0.001*** & 0.20 & 0.12 &  0.34\\\\\n\\end{tabular}\n",
            "text/plain": [
              "                Effect      Coefficient Std..Error Z.Value P.Value   Odds.Ratio\n",
              "StrategyStrat5  Strategy 5   1.99       0.32        6.29   <0.001*** 7.29      \n",
              "StrategyStrat3  Strategy 3   1.28       0.28        4.52   <0.001*** 3.59      \n",
              "StrategyStrat8  Strategy 8   0.89       0.27        3.27   <0.01**   2.43      \n",
              "StrategyStrat2  Strategy 2   0.46       0.27        1.70   0.09      1.59      \n",
              "1               Strategy 1   0.00         NA          NA   NA          NA      \n",
              "StrategyStrat10 Strategy 10 -0.14       0.26       -0.55   0.58      0.87      \n",
              "AssistantSiri   Siri        -0.14       0.12       -1.15   0.25      0.87      \n",
              "StrategyStrat4  Strategy 4  -0.46       0.26       -1.79   0.07      0.63      \n",
              "StrategyStrat9  Strategy 9  -0.80       0.26       -3.10   <0.01**   0.45      \n",
              "StrategyStrat7  Strategy 7  -1.16       0.26       -4.39   <0.001*** 0.31      \n",
              "StrategyStrat6  Strategy 6  -1.61       0.26       -6.09   <0.001*** 0.20      \n",
              "                CI.Lower CI.Upper\n",
              "StrategyStrat5  3.92     13.53   \n",
              "StrategyStrat3  2.06      6.25   \n",
              "StrategyStrat8  1.43      4.13   \n",
              "StrategyStrat2  0.93      2.71   \n",
              "1                 NA        NA   \n",
              "StrategyStrat10 0.52      1.45   \n",
              "AssistantSiri   0.69      1.10   \n",
              "StrategyStrat4  0.38      1.05   \n",
              "StrategyStrat9  0.27      0.74   \n",
              "StrategyStrat7  0.19      0.53   \n",
              "StrategyStrat6  0.12      0.34   "
            ]
          },
          "metadata": {}
        },
        {
          "output_type": "display_data",
          "data": {
            "text/html": [
              "<table class=\"dataframe\">\n",
              "<caption>A data.frame: 1 × 8</caption>\n",
              "<thead>\n",
              "\t<tr><th></th><th scope=col>Effect</th><th scope=col>Coefficient</th><th scope=col>Std..Error</th><th scope=col>Z.Value</th><th scope=col>P.Value</th><th scope=col>Odds.Ratio</th><th scope=col>CI.Lower</th><th scope=col>CI.Upper</th></tr>\n",
              "\t<tr><th></th><th scope=col>&lt;chr&gt;</th><th scope=col>&lt;dbl&gt;</th><th scope=col>&lt;lgl&gt;</th><th scope=col>&lt;lgl&gt;</th><th scope=col>&lt;lgl&gt;</th><th scope=col>&lt;lgl&gt;</th><th scope=col>&lt;lgl&gt;</th><th scope=col>&lt;lgl&gt;</th></tr>\n",
              "</thead>\n",
              "<tbody>\n",
              "\t<tr><th scope=row>1</th><td>Strategy 1 - Siri</td><td>0</td><td>NA</td><td>NA</td><td>NA</td><td>NA</td><td>NA</td><td>NA</td></tr>\n",
              "</tbody>\n",
              "</table>\n"
            ],
            "text/markdown": "\nA data.frame: 1 × 8\n\n| <!--/--> | Effect &lt;chr&gt; | Coefficient &lt;dbl&gt; | Std..Error &lt;lgl&gt; | Z.Value &lt;lgl&gt; | P.Value &lt;lgl&gt; | Odds.Ratio &lt;lgl&gt; | CI.Lower &lt;lgl&gt; | CI.Upper &lt;lgl&gt; |\n|---|---|---|---|---|---|---|---|---|\n| 1 | Strategy 1 - Siri | 0 | NA | NA | NA | NA | NA | NA |\n\n",
            "text/latex": "A data.frame: 1 × 8\n\\begin{tabular}{r|llllllll}\n  & Effect & Coefficient & Std..Error & Z.Value & P.Value & Odds.Ratio & CI.Lower & CI.Upper\\\\\n  & <chr> & <dbl> & <lgl> & <lgl> & <lgl> & <lgl> & <lgl> & <lgl>\\\\\n\\hline\n\t1 & Strategy 1 - Siri & 0 & NA & NA & NA & NA & NA & NA\\\\\n\\end{tabular}\n",
            "text/plain": [
              "  Effect            Coefficient Std..Error Z.Value P.Value Odds.Ratio CI.Lower\n",
              "1 Strategy 1 - Siri 0           NA         NA      NA      NA         NA      \n",
              "  CI.Upper\n",
              "1 NA      "
            ]
          },
          "metadata": {}
        },
        {
          "output_type": "stream",
          "name": "stdout",
          "text": [
            "Dataframes written to 'excel' successfully!\n"
          ]
        }
      ]
    },
    {
      "cell_type": "markdown",
      "source": [
        "### 2.2 Pairwise Comparisons for Strategies"
      ],
      "metadata": {
        "id": "gepeluk-3fDF"
      }
    },
    {
      "cell_type": "code",
      "source": [
        "library(emmeans)\n",
        "\n",
        "# Calculate Estimated Marginal Means for Strategy variable\n",
        "emm_strategy <- emmeans(o, pairwise ~ Strategy)\n",
        "\n",
        "# Extract the results\n",
        "results <- summary(emm_strategy, adjust = \"holm\")\n",
        "\n",
        "# Convert the contrasts table to a dataframe\n",
        "df_contrasts <- as.data.frame(results$contrasts)\n",
        "\n",
        "# Create a function to format P values\n",
        "format_pvalue <- function(p_value) {\n",
        "  if (p_value < 0.001) {\n",
        "    return(\"<0.001***\")\n",
        "  } else if (p_value < 0.01) {\n",
        "    return(\"<0.01**\")\n",
        "  } else if (p_value < 0.05) {\n",
        "    return(\"<0.05*\")\n",
        "  } else {\n",
        "    return(paste0(\"\", round(p_value, 4)))\n",
        "  }\n",
        "}\n",
        "\n",
        "# Create dataframe for pairwise comparisons\n",
        "df_pairwise <- data.frame(\n",
        "  Effect = df_contrasts$contrast,\n",
        "  Coefficient = round(df_contrasts$estimate, 2),\n",
        "  `Std. Error` = round(df_contrasts$SE, 2),\n",
        "  `Z Value` = round(df_contrasts$z.ratio, 2),\n",
        "  `P Value` = sapply(df_contrasts$p.value, format_pvalue),\n",
        "  Odds_Ratio = round(exp(df_contrasts$estimate), 2),\n",
        "  CI_Lower = round(exp(df_contrasts$estimate - 1.96 * df_contrasts$SE), 2),\n",
        "  CI_Upper = round(exp(df_contrasts$estimate + 1.96 * df_contrasts$SE), 2)\n",
        ")\n",
        "\n",
        "# Print the new pairwise dataframe\n",
        "print(df_pairwise)\n",
        "\n",
        "# Load the existing workbook\n",
        "wb <- loadWorkbook(excel)\n",
        "\n",
        "# Add a new sheet to the existing workbook\n",
        "addWorksheet(wb, \"Pairwise_Comparisons\")\n",
        "\n",
        "# Write the dataframe to the new sheet in the existing workbook\n",
        "writeData(wb, sheet = \"Pairwise_Comparisons\", x = df_pairwise)\n",
        "\n",
        "# Save the workbook with the new sheet, overwriting the existing file\n",
        "saveWorkbook(wb, excel, overwrite = TRUE)"
      ],
      "metadata": {
        "colab": {
          "base_uri": "https://localhost:8080/"
        },
        "outputId": "8c34e61e-32e3-4bec-9502-9d39d026a874",
        "id": "BbpywGuP3fDF"
      },
      "execution_count": null,
      "outputs": [
        {
          "output_type": "stream",
          "name": "stdout",
          "text": [
            "             Effect Coefficient Std..Error Z.Value   P.Value Odds_Ratio\n",
            "1  Strat1 - Strat10        0.14       0.26    0.55    0.8034       1.15\n",
            "2   Strat1 - Strat2       -0.46       0.27   -1.70    0.6508       0.63\n",
            "3   Strat1 - Strat3       -1.28       0.28   -4.52 <0.001***       0.28\n",
            "4   Strat1 - Strat4        0.46       0.26    1.79    0.6508       1.59\n",
            "5   Strat1 - Strat5       -1.99       0.32   -6.29 <0.001***       0.14\n",
            "6   Strat1 - Strat6        1.61       0.26    6.09 <0.001***       4.99\n",
            "7   Strat1 - Strat7        1.16       0.26    4.39 <0.001***       3.18\n",
            "8   Strat1 - Strat8       -0.89       0.27   -3.27    <0.05*       0.41\n",
            "9   Strat1 - Strat9        0.80       0.26    3.10    <0.05*       2.24\n",
            "10 Strat10 - Strat2       -0.61       0.26   -2.29    0.2434       0.55\n",
            "11 Strat10 - Strat3       -1.42       0.28   -5.16 <0.001***       0.24\n",
            "12 Strat10 - Strat4        0.32       0.25    1.28    0.8034       1.38\n",
            "13 Strat10 - Strat5       -2.13       0.31   -6.89 <0.001***       0.12\n",
            "14 Strat10 - Strat6        1.46       0.26    5.74 <0.001***       4.32\n",
            "15 Strat10 - Strat7        1.01       0.25    3.98   <0.01**       2.75\n",
            "16 Strat10 - Strat8       -1.03       0.26   -3.92   <0.01**       0.36\n",
            "17 Strat10 - Strat9        0.66       0.25    2.64    0.0998       1.94\n",
            "18  Strat2 - Strat3       -0.82       0.28   -2.87    0.0568       0.44\n",
            "19  Strat2 - Strat4        0.93       0.26    3.51   <0.01**       2.53\n",
            "20  Strat2 - Strat5       -1.52       0.32   -4.82 <0.001***       0.22\n",
            "21  Strat2 - Strat6        2.07       0.27    7.66 <0.001***       7.92\n",
            "22  Strat2 - Strat7        1.62       0.27    6.02 <0.001***       5.05\n",
            "23  Strat2 - Strat8       -0.42       0.27   -1.56    0.7142       0.65\n",
            "24  Strat2 - Strat9        1.27       0.26    4.79 <0.001***       3.55\n",
            "25  Strat3 - Strat4        1.74       0.27    6.34 <0.001***       5.71\n",
            "26  Strat3 - Strat5       -0.71       0.32   -2.18    0.2907       0.49\n",
            "27  Strat3 - Strat6        2.89       0.28   10.23 <0.001***      17.91\n",
            "28  Strat3 - Strat7        2.43       0.28    8.68 <0.001***      11.41\n",
            "29  Strat3 - Strat8        0.39       0.28    1.39    0.8034       1.48\n",
            "30  Strat3 - Strat9        2.08       0.28    7.55 <0.001***       8.03\n",
            "31  Strat4 - Strat5       -2.45       0.31   -7.94 <0.001***       0.09\n",
            "32  Strat4 - Strat6        1.14       0.25    4.54 <0.001***       3.13\n",
            "33  Strat4 - Strat7        0.69       0.25    2.75    0.0774       2.00\n",
            "34  Strat4 - Strat8       -1.35       0.26   -5.15 <0.001***       0.26\n",
            "35  Strat4 - Strat9        0.34       0.25    1.37    0.8034       1.41\n",
            "36  Strat5 - Strat6        3.59       0.32   11.38 <0.001***      36.33\n",
            "37  Strat5 - Strat7        3.14       0.31   10.00 <0.001***      23.15\n",
            "38  Strat5 - Strat8        1.10       0.31    3.50   <0.01**       3.00\n",
            "39  Strat5 - Strat9        2.79       0.31    9.01 <0.001***      16.29\n",
            "40  Strat6 - Strat7       -0.45       0.25   -1.80    0.6508       0.64\n",
            "41  Strat6 - Strat8       -2.49       0.27   -9.25 <0.001***       0.08\n",
            "42  Strat6 - Strat9       -0.80       0.25   -3.21    <0.05*       0.45\n",
            "43  Strat7 - Strat8       -2.04       0.27   -7.62 <0.001***       0.13\n",
            "44  Strat7 - Strat9       -0.35       0.25   -1.40    0.8034       0.70\n",
            "45  Strat8 - Strat9        1.69       0.26    6.43 <0.001***       5.43\n",
            "   CI_Lower CI_Upper\n",
            "1      0.69     1.93\n",
            "2      0.37     1.07\n",
            "3      0.16     0.48\n",
            "4      0.96     2.65\n",
            "5      0.07     0.25\n",
            "6      2.97     8.36\n",
            "7      1.90     5.32\n",
            "8      0.24     0.70\n",
            "9      1.34     3.72\n",
            "10     0.32     0.92\n",
            "11     0.14     0.41\n",
            "12     0.84     2.25\n",
            "13     0.06     0.22\n",
            "14     2.62     7.13\n",
            "15     1.67     4.53\n",
            "16     0.21     0.60\n",
            "17     1.19     3.17\n",
            "18     0.25     0.77\n",
            "19     1.51     4.24\n",
            "20     0.12     0.41\n",
            "21     4.66    13.45\n",
            "22     2.98     8.55\n",
            "23     0.38     1.12\n",
            "24     2.12     5.96\n",
            "25     3.33     9.79\n",
            "26     0.26     0.93\n",
            "27    10.31    31.13\n",
            "28     6.59    19.77\n",
            "29     0.85     2.57\n",
            "30     4.68    13.79\n",
            "31     0.05     0.16\n",
            "32     1.91     5.13\n",
            "33     1.22     3.27\n",
            "34     0.15     0.43\n",
            "35     0.86     2.29\n",
            "36    19.57    67.45\n",
            "37    12.51    42.84\n",
            "38     1.62     5.55\n",
            "39     8.88    29.89\n",
            "40     0.39     1.04\n",
            "41     0.05     0.14\n",
            "42     0.27     0.73\n",
            "43     0.08     0.22\n",
            "44     0.43     1.15\n",
            "45     3.24     9.10\n"
          ]
        }
      ]
    },
    {
      "cell_type": "markdown",
      "source": [
        "### 2.3 Create Heatmap for Strategies"
      ],
      "metadata": {
        "id": "rxpTDP_d3fDF"
      }
    },
    {
      "cell_type": "code",
      "source": [
        "# Load necessary libraries\n",
        "library(ggplot2)\n",
        "library(scales)\n",
        "\n",
        "# Convert x and y to factors with the desired order\n",
        "df_contrasts <- transform(df_contrasts,\n",
        "                          x = as.numeric(gsub(\"Strat\", \"\", sapply(strsplit(as.character(contrast), \" - \"), \"[[\", 1))),\n",
        "                          y = as.numeric(gsub(\"Strat\", \"\", sapply(strsplit(as.character(contrast), \" - \"), \"[[\", 2))))\n",
        "\n",
        "# Reordering columns\n",
        "df_contrasts <- df_contrasts[, c(\"x\", \"y\", \"p.value\")]\n",
        "\n",
        "# Create mirrored data\n",
        "df_mirrored <- rbind(df_contrasts, transform(df_contrasts, x = y, y = x))\n",
        "\n",
        "# Create function to format p-values\n",
        "# Create function to format p-values\n",
        "format_pvalue <- function(pvalue) {\n",
        "  if (is.numeric(pvalue)) {\n",
        "    ifelse(pvalue < 0.001, \"<0.001\",\n",
        "           ifelse(pvalue < 0.01, \"<0.01\",\n",
        "                  ifelse(pvalue < 0.05, \"<0.05\", sprintf(\"%.2f\", pvalue))))\n",
        "  } else {\n",
        "    pvalue\n",
        "  }\n",
        "}\n",
        "\n",
        "# Set font sizes\n",
        "font_size_text <- 3  # Adjust font size for values in the heatmap\n",
        "font_size_axes <- 12  # Adjust font size for axes labels\n",
        "\n",
        "# Create a custom color palette\n",
        "my_colors <- c(\"#EA4235\", \"#48E56D\")\n",
        "\n",
        "# Create heatmap with borders and a distinct color palette\n",
        "plot <- ggplot(df_mirrored, aes(x = x, y = y, fill = p.value < 0.05)) +\n",
        "  geom_tile(color = \"black\", size = 1) +  # Add borders around cells\n",
        "  geom_text(aes(label = format_pvalue(p.value)), size = font_size_text, vjust = 0.5, hjust = 0.5, color = \"black\", family = \"Times New Roman\") +  # Center text\n",
        "  scale_fill_manual(values = c(\"#EA4235\", \"#48E56D\"), labels = c(\"p > 0.05\", \"p < 0.05\"), name = \"p-value\") +  # Assign colors and labels\n",
        "  labs(x = \"Strategy\",\n",
        "       y = \"Strategy\",\n",
        "       fill = NULL,\n",
        "       title = \" \",) +\n",
        "  theme_minimal() +\n",
        "  theme(axis.text.x = element_text(angle = 0, hjust = 1, size = font_size_axes, family = \"Times New Roman\"),  # Adjust font size for x axis labels\n",
        "        axis.text.y = element_text(size = font_size_axes, family = \"Times New Roman\"),  # Adjust font size for y axis labels\n",
        "        axis.title.x = element_text(size = font_size_axes, family = \"Times New Roman\"),  # Adjust font size for x axis title\n",
        "        axis.title.y = element_text(size = font_size_axes, family = \"Times New Roman\"),  # Adjust font size for y axis title\n",
        "        legend.title = element_text(family = \"Times New Roman\", hjust = 0.5),  # Set legend title font and center it\n",
        "        legend.title.align = 0.5,  # Center the legend title\n",
        "        legend.text = element_text(size = font_size_axes, family = \"Times New Roman\", margin = margin(0, 10, 0, 0)),  # Adjust legend text size and margin\n",
        "        panel.grid = element_blank(),  # Remove grid lines\n",
        "        panel.border = element_rect(color = \"black\", fill = NA),  # Add border around plot\n",
        "        axis.line = element_line(color = \"black\"),\n",
        "        plot.title = element_text(hjust = 0.5, family = \"Times New Roman\"),\n",
        "        plot.caption = element_text(hjust = 0.5, family = \"Times New Roman\")) +  # Center the title\n",
        "  scale_x_continuous(breaks = seq(min(df_mirrored$x), max(df_mirrored$x), by = 1)) +\n",
        "  scale_y_continuous(breaks = seq(min(df_mirrored$y), max(df_mirrored$y), by = 1))\n",
        "\n",
        "# Save the plot as a scalable vector graphic (SVG) with higher resolution\n",
        "plot\n",
        "ggsave(\"HeatmapEnglishB.svg\", plot, width = 8, height = 6, dpi = 300)"
      ],
      "metadata": {
        "colab": {
          "base_uri": "https://localhost:8080/",
          "height": 437
        },
        "outputId": "cb27bb32-6f83-43dc-f88e-0ef55ad77c48",
        "id": "SybIzT_Y3fDF"
      },
      "execution_count": null,
      "outputs": [
        {
          "output_type": "display_data",
          "data": {
            "text/plain": [
              "plot without title"
            ],
            "image/png": "[encoded data removed]"
          },
          "metadata": {
            "image/png": {
              "width": 420,
              "height": 420
            }
          }
        }
      ]
    },
    {
      "cell_type": "markdown",
      "source": [
        "## Spanish Full\n"
      ],
      "metadata": {
        "id": "BRn5rDy54R4U"
      }
    },
    {
      "cell_type": "markdown",
      "source": [
        "### 2.0 Load Data"
      ],
      "metadata": {
        "id": "53qK9zPT4R4c"
      }
    },
    {
      "cell_type": "code",
      "source": [
        "#This is the data that shows Language, Task, Strategy, and Likert Scores (acceptability judgements) for all tasks\n",
        "# data <- read.csv(\"https://raw.githubusercontent.com/MatthewCGalbraith/FrontiersData/main/ajfullAB.csv\")\n",
        "\n",
        "#This is the data that shows Language, Task, Strategy, and Likert Scores (acceptability judgements) for all Task A and Task B for English ONLY\n",
        "# data <- read.csv(\"https://raw.githubusercontent.com/MatthewCGalbraith/FrontiersData/main/ajfullABEnglish.csv\")\n",
        "\n",
        "#This is the data that shows Language, Task, Strategy, and Likert Scores (acceptability judgements) for all Task A and Task B for Spanish ONLY\n",
        "data <- read.csv(\"https://raw.githubusercontent.com/MatthewCGalbraith/FrontiersData/main/ajfullABSpanish.csv\")\n",
        "\n",
        "#This is the data that shows Language, Task, Strategy, and Likert Scores (acceptability judgements) for Task A for English ONLY\n",
        "# data <- read.csv(\"https://raw.githubusercontent.com/MatthewCGalbraith/FrontiersData/main/ajEnglishA.csv\")\n",
        "\n",
        "#This is the data that shows Language, Task, Strategy, and Likert Scores (acceptability judgements) for Task B for English ONLY\n",
        "# data <- read.csv(\"https://raw.githubusercontent.com/MatthewCGalbraith/FrontiersData/main/ajEnglishB.csv\")\n",
        "\n",
        "#This is the data that shows Language, Task, Strategy, and Likert Scores (acceptability judgements) for Task A for Spanish ONLY\n",
        "# data <- read.csv(\"https://raw.githubusercontent.com/MatthewCGalbraith/FrontiersData/main/ajSpanishA.csv\")\n",
        "\n",
        "#This is the data that shows Language, Task, Strategy, and Likert Scores (acceptability judgements) for Task B for Spanish ONLY\n",
        "# data <- read.csv(\"https://raw.githubusercontent.com/MatthewCGalbraith/FrontiersData/main/ajSpanishB.csv\")"
      ],
      "metadata": {
        "id": "Ezbcfw_U4R4c"
      },
      "execution_count": null,
      "outputs": []
    },
    {
      "cell_type": "code",
      "source": [
        "# Set excel path for the data to be written\n",
        "excel <- \"ajfullABSpanish.xlsx\""
      ],
      "metadata": {
        "id": "PaS2bIUS4R4d"
      },
      "execution_count": null,
      "outputs": []
    },
    {
      "cell_type": "markdown",
      "source": [
        "### 2.1 Fit Ordinal Model"
      ],
      "metadata": {
        "id": "DGzYa3-34R4d"
      }
    },
    {
      "cell_type": "code",
      "source": [
        "# library(ordinal)\n",
        "\n",
        "# # Convert Likert to factor\n",
        "# data$Likert <- factor(data$Likert)\n",
        "\n",
        "# # Fit the Ordinal Regression Model\n",
        "# o <- clm(Likert ~ Strategy,\n",
        "#          data = data)\n",
        "# # Check summary of model\n",
        "# summary(o)"
      ],
      "metadata": {
        "id": "haQJHO_t4R4d"
      },
      "execution_count": null,
      "outputs": []
    },
    {
      "cell_type": "code",
      "source": [
        "library(ordinal)\n",
        "library(broom)\n",
        "library(writexl)\n",
        "library(readxl)\n",
        "library(openxlsx)\n",
        "\n",
        "# Convert Likert to factor\n",
        "data$Likert <- factor(data$Likert)\n",
        "\n",
        "# Fit the Ordinal Regression Model\n",
        "o <- clm(Likert ~ Strategy + Assistant + Task, data = data)\n",
        "\n",
        "# Extract coefficients and related information\n",
        "coefficients_df <- tidy(o)\n",
        "\n",
        "# Extract Odds Ratios and Confidence Intervals\n",
        "odds_ratio <- exp(coef(o))\n",
        "conf_intervals <- exp(confint.default(o))\n",
        "\n",
        "# Create a dataframe\n",
        "effect <- rownames(coefficients_df)\n",
        "coefficient <- coefficients_df$estimate\n",
        "std_error <- coefficients_df$std.error\n",
        "z_value <- coefficients_df$statistic\n",
        "p_value <- coefficients_df$p.value\n",
        "odds_ratio_val <- odds_ratio\n",
        "ci_lower <- conf_intervals[, \"2.5 %\"]\n",
        "ci_upper <- conf_intervals[, \"97.5 %\"]\n",
        "\n",
        "# Combine into a dataframe\n",
        "result_df <- data.frame(\n",
        "  Effect = effect,\n",
        "  Coefficient = round(coefficient, 2),\n",
        "  `Std. Error` = round(std_error, 2),\n",
        "  `Z Value` = round(z_value, 2),\n",
        "  `P Value` = ifelse(p_value < 0.001, \"<0.001***\", ifelse(p_value < 0.01, \"<0.01**\", ifelse(p_value < 0.05, \"<0.05*\", round(p_value, 2)))),\n",
        "  `Odds Ratio` = round(odds_ratio_val, 2),\n",
        "  `CI Lower` = round(ci_lower, 2),\n",
        "  `CI Upper` = round(ci_upper, 2)\n",
        ")\n",
        "\n",
        "# Extract main effects coefficients and related information\n",
        "main_effects <- coefficients_df[grepl(\"Strategy|Assistant|Task\", coefficients_df$term) & !grepl(\":\", coefficients_df$term), ]\n",
        "\n",
        "# Extract main effects Odds Ratios and Confidence Intervals\n",
        "main_odds_ratio <- exp(coef(o)[grepl(\"Strategy|Assistant|Task\", names(coef(o))) & !grepl(\":\", names(coef(o)))])\n",
        "main_conf_intervals <- exp(confint.default(o)[grepl(\"Strategy|Assistant|Task\", names(coef(o))) & !grepl(\":\", names(coef(o))), ])\n",
        "\n",
        "# Create a dataframe for main effects\n",
        "main_effects_df <- data.frame(\n",
        "  Effect = main_effects$term,\n",
        "  Coefficient = round(main_effects$estimate, 2),\n",
        "  `Std. Error` = round(main_effects$std.error, 2),\n",
        "  `Z Value` = round(main_effects$statistic, 2),\n",
        "  `P Value` = ifelse(main_effects$p.value < 0.001, \"<0.001***\", ifelse(main_effects$p.value < 0.01, \"<0.01**\", ifelse(main_effects$p.value < 0.05, \"<0.05*\", round(main_effects$p.value, 2)))),\n",
        "  `Odds Ratio` = round(main_odds_ratio, 2),\n",
        "  `CI Lower` = round(main_conf_intervals[, \"2.5 %\"], 2),\n",
        "  `CI Upper` = round(main_conf_intervals[, \"97.5 %\"], 2)\n",
        ")\n",
        "\n",
        "# Modify Effect labels for Main Effects\n",
        "main_effects_df$Effect <- gsub(\"StrategyStrat\", \"Strategy \", main_effects_df$Effect)\n",
        "main_effects_df$Effect <- gsub(\"AssistantSiri\", \"Siri\", main_effects_df$Effect)\n",
        "\n",
        "# Add \"Strategy 1\" with a coefficient of 0 to main effects\n",
        "main_effects_df <- rbind(main_effects_df, data.frame(Effect = \"Strategy 1\", Coefficient = 0, `Std. Error` = NA, `Z Value` = NA, `P Value` = NA, `Odds Ratio` = NA, `CI Lower` = NA, `CI Upper` = NA))\n",
        "\n",
        "# Order main effects dataframe by Coefficient in descending order\n",
        "main_effects_df <- main_effects_df[order(-main_effects_df$Coefficient), ]\n",
        "\n",
        "# Print the modified main effects dataframe\n",
        "main_effects_df\n",
        "\n",
        "# Extract interaction effects coefficients and related information\n",
        "interaction_effects <- coefficients_df[grepl(\":\", coefficients_df$term), ]\n",
        "\n",
        "# Extract interaction effects Odds Ratios and Confidence Intervals\n",
        "interaction_odds_ratio <- exp(coef(o)[grepl(\":\", names(coef(o)))])\n",
        "interaction_conf_intervals <- exp(confint.default(o)[grepl(\":\", names(coef(o))), ])\n",
        "\n",
        "# Create a dataframe for interaction effects\n",
        "interaction_effects_df <- data.frame(\n",
        "  Effect = interaction_effects$term,\n",
        "  Coefficient = round(interaction_effects$estimate, 2),\n",
        "  `Std. Error` = round(interaction_effects$std.error, 2),\n",
        "  `Z Value` = round(interaction_effects$statistic, 2),\n",
        "  `P Value` = ifelse(interaction_effects$p.value < 0.001, \"<0.001***\", ifelse(interaction_effects$p.value < 0.01, \"<0.01**\", ifelse(interaction_effects$p.value < 0.05, \"<0.05*\", round(interaction_effects$p.value, 2)))),\n",
        "  `Odds Ratio` = round(interaction_odds_ratio, 2),\n",
        "  `CI Lower` = round(interaction_conf_intervals[, \"2.5 %\"], 2),\n",
        "  `CI Upper` = round(interaction_conf_intervals[, \"97.5 %\"], 2)\n",
        ")\n",
        "\n",
        "# Modify Effect labels for Interaction Effects\n",
        "interaction_effects_df$Effect <- gsub(\":AssistantSiri\", \" - Siri\", interaction_effects_df$Effect)\n",
        "interaction_effects_df$Effect <- gsub(\"StrategyStrat\", \"Strategy \", interaction_effects_df$Effect)\n",
        "interaction_effects_df$Effect <- gsub(\"AssistantSiri\", \"Siri\", interaction_effects_df$Effect)\n",
        "\n",
        "# Add \"Strategy 1 - Siri\" with a coefficient of 0 to interaction effects\n",
        "interaction_effects_df <- rbind(interaction_effects_df, data.frame(Effect = \"Strategy 1 - Siri\", Coefficient = 0, `Std. Error` = NA, `Z Value` = NA, `P Value` = NA, `Odds Ratio` = NA, `CI Lower` = NA, `CI Upper` = NA))\n",
        "\n",
        "# Order interaction effects dataframe by Coefficient in descending order\n",
        "interaction_effects_df <- interaction_effects_df[order(-interaction_effects_df$Coefficient), ]\n",
        "\n",
        "# Print the modified interaction effects dataframe\n",
        "interaction_effects_df\n",
        "\n",
        "# Create a workbook\n",
        "wb <- createWorkbook()\n",
        "\n",
        "# Add main_effects_df to the workbook\n",
        "addWorksheet(wb, \"Main Effects\")\n",
        "writeData(wb, \"Main Effects\", main_effects_df)\n",
        "\n",
        "# Add interaction_effects_df to the workbook\n",
        "addWorksheet(wb, \"Interaction Effects\")\n",
        "writeData(wb, \"Interaction Effects\", interaction_effects_df)\n",
        "\n",
        "# Save the workbook to Excel file\n",
        "saveWorkbook(wb, file = excel, overwrite = TRUE)\n",
        "\n",
        "# Confirm completion\n",
        "cat(\"Dataframes written to 'excel' successfully!\\n\")"
      ],
      "metadata": {
        "colab": {
          "base_uri": "https://localhost:8080/",
          "height": 603
        },
        "outputId": "e58e47e4-9a0c-4ebd-c6f6-5defe7a9d8ac",
        "id": "-mAGnF0R4R4d"
      },
      "execution_count": null,
      "outputs": [
        {
          "output_type": "display_data",
          "data": {
            "text/html": [
              "<table class=\"dataframe\">\n",
              "<caption>A data.frame: 12 × 8</caption>\n",
              "<thead>\n",
              "\t<tr><th></th><th scope=col>Effect</th><th scope=col>Coefficient</th><th scope=col>Std..Error</th><th scope=col>Z.Value</th><th scope=col>P.Value</th><th scope=col>Odds.Ratio</th><th scope=col>CI.Lower</th><th scope=col>CI.Upper</th></tr>\n",
              "\t<tr><th></th><th scope=col>&lt;chr&gt;</th><th scope=col>&lt;dbl&gt;</th><th scope=col>&lt;dbl&gt;</th><th scope=col>&lt;dbl&gt;</th><th scope=col>&lt;chr&gt;</th><th scope=col>&lt;dbl&gt;</th><th scope=col>&lt;dbl&gt;</th><th scope=col>&lt;dbl&gt;</th></tr>\n",
              "</thead>\n",
              "<tbody>\n",
              "\t<tr><th scope=row>StrategyStrat5</th><td>Strategy 5 </td><td> 2.08</td><td>0.20</td><td> 10.32</td><td>&lt;0.001***</td><td>7.97</td><td>5.37</td><td>11.82</td></tr>\n",
              "\t<tr><th scope=row>StrategyStrat3</th><td>Strategy 3 </td><td> 1.38</td><td>0.20</td><td><span style=white-space:pre-wrap>  7.02</span></td><td>&lt;0.001***</td><td>3.96</td><td>2.70</td><td> 5.82</td></tr>\n",
              "\t<tr><th scope=row>TaskB</th><td><span style=white-space:pre-wrap>TaskB      </span></td><td> 0.49</td><td>0.08</td><td><span style=white-space:pre-wrap>  5.90</span></td><td>&lt;0.001***</td><td>1.63</td><td>1.38</td><td> 1.91</td></tr>\n",
              "\t<tr><th scope=row>AssistantSiri</th><td><span style=white-space:pre-wrap>Siri       </span></td><td> 0.41</td><td>0.08</td><td><span style=white-space:pre-wrap>  4.97</span></td><td>&lt;0.001***</td><td>1.51</td><td>1.28</td><td> 1.77</td></tr>\n",
              "\t<tr><th scope=row>StrategyStrat8</th><td>Strategy 8 </td><td> 0.06</td><td>0.17</td><td>  0.37</td><td>0.71     </td><td>1.07</td><td>0.76</td><td> 1.50</td></tr>\n",
              "\t<tr><th scope=row>1</th><td>Strategy 1 </td><td> 0.00</td><td>  NA</td><td>    NA</td><td>NA       </td><td>  NA</td><td>  NA</td><td>   NA</td></tr>\n",
              "\t<tr><th scope=row>StrategyStrat4</th><td>Strategy 4 </td><td>-0.20</td><td>0.18</td><td> -1.14</td><td>0.26     </td><td>0.82</td><td>0.58</td><td> 1.16</td></tr>\n",
              "\t<tr><th scope=row>StrategyStrat7</th><td>Strategy 7 </td><td>-0.34</td><td>0.18</td><td> -1.86</td><td>0.06     </td><td>0.71</td><td>0.50</td><td> 1.02</td></tr>\n",
              "\t<tr><th scope=row>StrategyStrat2</th><td>Strategy 2 </td><td>-0.50</td><td>0.18</td><td> -2.76</td><td><span style=white-space:pre-wrap>&lt;0.01**  </span></td><td>0.61</td><td>0.43</td><td> 0.87</td></tr>\n",
              "\t<tr><th scope=row>StrategyStrat10</th><td>Strategy 10</td><td>-1.04</td><td>0.18</td><td> -5.77</td><td>&lt;0.001***</td><td>0.35</td><td>0.25</td><td> 0.50</td></tr>\n",
              "\t<tr><th scope=row>StrategyStrat9</th><td>Strategy 9 </td><td>-1.34</td><td>0.18</td><td> -7.49</td><td>&lt;0.001***</td><td>0.26</td><td>0.18</td><td> 0.37</td></tr>\n",
              "\t<tr><th scope=row>StrategyStrat6</th><td>Strategy 6 </td><td>-1.87</td><td>0.18</td><td>-10.27</td><td>&lt;0.001***</td><td>0.15</td><td>0.11</td><td> 0.22</td></tr>\n",
              "</tbody>\n",
              "</table>\n"
            ],
            "text/markdown": "\nA data.frame: 12 × 8\n\n| <!--/--> | Effect &lt;chr&gt; | Coefficient &lt;dbl&gt; | Std..Error &lt;dbl&gt; | Z.Value &lt;dbl&gt; | P.Value &lt;chr&gt; | Odds.Ratio &lt;dbl&gt; | CI.Lower &lt;dbl&gt; | CI.Upper &lt;dbl&gt; |\n|---|---|---|---|---|---|---|---|---|\n| StrategyStrat5 | Strategy 5  |  2.08 | 0.20 |  10.32 | &lt;0.001*** | 7.97 | 5.37 | 11.82 |\n| StrategyStrat3 | Strategy 3  |  1.38 | 0.20 |   7.02 | &lt;0.001*** | 3.96 | 2.70 |  5.82 |\n| TaskB | TaskB       |  0.49 | 0.08 |   5.90 | &lt;0.001*** | 1.63 | 1.38 |  1.91 |\n| AssistantSiri | Siri        |  0.41 | 0.08 |   4.97 | &lt;0.001*** | 1.51 | 1.28 |  1.77 |\n| StrategyStrat8 | Strategy 8  |  0.06 | 0.17 |   0.37 | 0.71      | 1.07 | 0.76 |  1.50 |\n| 1 | Strategy 1  |  0.00 |   NA |     NA | NA        |   NA |   NA |    NA |\n| StrategyStrat4 | Strategy 4  | -0.20 | 0.18 |  -1.14 | 0.26      | 0.82 | 0.58 |  1.16 |\n| StrategyStrat7 | Strategy 7  | -0.34 | 0.18 |  -1.86 | 0.06      | 0.71 | 0.50 |  1.02 |\n| StrategyStrat2 | Strategy 2  | -0.50 | 0.18 |  -2.76 | &lt;0.01**   | 0.61 | 0.43 |  0.87 |\n| StrategyStrat10 | Strategy 10 | -1.04 | 0.18 |  -5.77 | &lt;0.001*** | 0.35 | 0.25 |  0.50 |\n| StrategyStrat9 | Strategy 9  | -1.34 | 0.18 |  -7.49 | &lt;0.001*** | 0.26 | 0.18 |  0.37 |\n| StrategyStrat6 | Strategy 6  | -1.87 | 0.18 | -10.27 | &lt;0.001*** | 0.15 | 0.11 |  0.22 |\n\n",
            "text/latex": "A data.frame: 12 × 8\n\\begin{tabular}{r|llllllll}\n  & Effect & Coefficient & Std..Error & Z.Value & P.Value & Odds.Ratio & CI.Lower & CI.Upper\\\\\n  & <chr> & <dbl> & <dbl> & <dbl> & <chr> & <dbl> & <dbl> & <dbl>\\\\\n\\hline\n\tStrategyStrat5 & Strategy 5  &  2.08 & 0.20 &  10.32 & <0.001*** & 7.97 & 5.37 & 11.82\\\\\n\tStrategyStrat3 & Strategy 3  &  1.38 & 0.20 &   7.02 & <0.001*** & 3.96 & 2.70 &  5.82\\\\\n\tTaskB & TaskB       &  0.49 & 0.08 &   5.90 & <0.001*** & 1.63 & 1.38 &  1.91\\\\\n\tAssistantSiri & Siri        &  0.41 & 0.08 &   4.97 & <0.001*** & 1.51 & 1.28 &  1.77\\\\\n\tStrategyStrat8 & Strategy 8  &  0.06 & 0.17 &   0.37 & 0.71      & 1.07 & 0.76 &  1.50\\\\\n\t1 & Strategy 1  &  0.00 &   NA &     NA & NA        &   NA &   NA &    NA\\\\\n\tStrategyStrat4 & Strategy 4  & -0.20 & 0.18 &  -1.14 & 0.26      & 0.82 & 0.58 &  1.16\\\\\n\tStrategyStrat7 & Strategy 7  & -0.34 & 0.18 &  -1.86 & 0.06      & 0.71 & 0.50 &  1.02\\\\\n\tStrategyStrat2 & Strategy 2  & -0.50 & 0.18 &  -2.76 & <0.01**   & 0.61 & 0.43 &  0.87\\\\\n\tStrategyStrat10 & Strategy 10 & -1.04 & 0.18 &  -5.77 & <0.001*** & 0.35 & 0.25 &  0.50\\\\\n\tStrategyStrat9 & Strategy 9  & -1.34 & 0.18 &  -7.49 & <0.001*** & 0.26 & 0.18 &  0.37\\\\\n\tStrategyStrat6 & Strategy 6  & -1.87 & 0.18 & -10.27 & <0.001*** & 0.15 & 0.11 &  0.22\\\\\n\\end{tabular}\n",
            "text/plain": [
              "                Effect      Coefficient Std..Error Z.Value P.Value   Odds.Ratio\n",
              "StrategyStrat5  Strategy 5   2.08       0.20        10.32  <0.001*** 7.97      \n",
              "StrategyStrat3  Strategy 3   1.38       0.20         7.02  <0.001*** 3.96      \n",
              "TaskB           TaskB        0.49       0.08         5.90  <0.001*** 1.63      \n",
              "AssistantSiri   Siri         0.41       0.08         4.97  <0.001*** 1.51      \n",
              "StrategyStrat8  Strategy 8   0.06       0.17         0.37  0.71      1.07      \n",
              "1               Strategy 1   0.00         NA           NA  NA          NA      \n",
              "StrategyStrat4  Strategy 4  -0.20       0.18        -1.14  0.26      0.82      \n",
              "StrategyStrat7  Strategy 7  -0.34       0.18        -1.86  0.06      0.71      \n",
              "StrategyStrat2  Strategy 2  -0.50       0.18        -2.76  <0.01**   0.61      \n",
              "StrategyStrat10 Strategy 10 -1.04       0.18        -5.77  <0.001*** 0.35      \n",
              "StrategyStrat9  Strategy 9  -1.34       0.18        -7.49  <0.001*** 0.26      \n",
              "StrategyStrat6  Strategy 6  -1.87       0.18       -10.27  <0.001*** 0.15      \n",
              "                CI.Lower CI.Upper\n",
              "StrategyStrat5  5.37     11.82   \n",
              "StrategyStrat3  2.70      5.82   \n",
              "TaskB           1.38      1.91   \n",
              "AssistantSiri   1.28      1.77   \n",
              "StrategyStrat8  0.76      1.50   \n",
              "1                 NA        NA   \n",
              "StrategyStrat4  0.58      1.16   \n",
              "StrategyStrat7  0.50      1.02   \n",
              "StrategyStrat2  0.43      0.87   \n",
              "StrategyStrat10 0.25      0.50   \n",
              "StrategyStrat9  0.18      0.37   \n",
              "StrategyStrat6  0.11      0.22   "
            ]
          },
          "metadata": {}
        },
        {
          "output_type": "display_data",
          "data": {
            "text/html": [
              "<table class=\"dataframe\">\n",
              "<caption>A data.frame: 1 × 8</caption>\n",
              "<thead>\n",
              "\t<tr><th></th><th scope=col>Effect</th><th scope=col>Coefficient</th><th scope=col>Std..Error</th><th scope=col>Z.Value</th><th scope=col>P.Value</th><th scope=col>Odds.Ratio</th><th scope=col>CI.Lower</th><th scope=col>CI.Upper</th></tr>\n",
              "\t<tr><th></th><th scope=col>&lt;chr&gt;</th><th scope=col>&lt;dbl&gt;</th><th scope=col>&lt;lgl&gt;</th><th scope=col>&lt;lgl&gt;</th><th scope=col>&lt;lgl&gt;</th><th scope=col>&lt;lgl&gt;</th><th scope=col>&lt;lgl&gt;</th><th scope=col>&lt;lgl&gt;</th></tr>\n",
              "</thead>\n",
              "<tbody>\n",
              "\t<tr><th scope=row>1</th><td>Strategy 1 - Siri</td><td>0</td><td>NA</td><td>NA</td><td>NA</td><td>NA</td><td>NA</td><td>NA</td></tr>\n",
              "</tbody>\n",
              "</table>\n"
            ],
            "text/markdown": "\nA data.frame: 1 × 8\n\n| <!--/--> | Effect &lt;chr&gt; | Coefficient &lt;dbl&gt; | Std..Error &lt;lgl&gt; | Z.Value &lt;lgl&gt; | P.Value &lt;lgl&gt; | Odds.Ratio &lt;lgl&gt; | CI.Lower &lt;lgl&gt; | CI.Upper &lt;lgl&gt; |\n|---|---|---|---|---|---|---|---|---|\n| 1 | Strategy 1 - Siri | 0 | NA | NA | NA | NA | NA | NA |\n\n",
            "text/latex": "A data.frame: 1 × 8\n\\begin{tabular}{r|llllllll}\n  & Effect & Coefficient & Std..Error & Z.Value & P.Value & Odds.Ratio & CI.Lower & CI.Upper\\\\\n  & <chr> & <dbl> & <lgl> & <lgl> & <lgl> & <lgl> & <lgl> & <lgl>\\\\\n\\hline\n\t1 & Strategy 1 - Siri & 0 & NA & NA & NA & NA & NA & NA\\\\\n\\end{tabular}\n",
            "text/plain": [
              "  Effect            Coefficient Std..Error Z.Value P.Value Odds.Ratio CI.Lower\n",
              "1 Strategy 1 - Siri 0           NA         NA      NA      NA         NA      \n",
              "  CI.Upper\n",
              "1 NA      "
            ]
          },
          "metadata": {}
        },
        {
          "output_type": "stream",
          "name": "stdout",
          "text": [
            "Dataframes written to 'excel' successfully!\n"
          ]
        }
      ]
    },
    {
      "cell_type": "markdown",
      "source": [
        "### 2.2 Pairwise Comparisons for Strategies"
      ],
      "metadata": {
        "id": "Qc1uBV3r4R4e"
      }
    },
    {
      "cell_type": "code",
      "source": [
        "library(emmeans)\n",
        "\n",
        "# Calculate Estimated Marginal Means for Strategy variable\n",
        "emm_strategy <- emmeans(o, pairwise ~ Strategy)\n",
        "\n",
        "# Extract the results\n",
        "results <- summary(emm_strategy, adjust = \"holm\")\n",
        "\n",
        "# Convert the contrasts table to a dataframe\n",
        "df_contrasts <- as.data.frame(results$contrasts)\n",
        "\n",
        "# Create a function to format P values\n",
        "format_pvalue <- function(p_value) {\n",
        "  if (p_value < 0.001) {\n",
        "    return(\"<0.001***\")\n",
        "  } else if (p_value < 0.01) {\n",
        "    return(\"<0.01**\")\n",
        "  } else if (p_value < 0.05) {\n",
        "    return(\"<0.05*\")\n",
        "  } else {\n",
        "    return(paste0(\"\", round(p_value, 4)))\n",
        "  }\n",
        "}\n",
        "\n",
        "# Create dataframe for pairwise comparisons\n",
        "df_pairwise <- data.frame(\n",
        "  Effect = df_contrasts$contrast,\n",
        "  Coefficient = round(df_contrasts$estimate, 2),\n",
        "  `Std. Error` = round(df_contrasts$SE, 2),\n",
        "  `Z Value` = round(df_contrasts$z.ratio, 2),\n",
        "  `P Value` = sapply(df_contrasts$p.value, format_pvalue),\n",
        "  Odds_Ratio = round(exp(df_contrasts$estimate), 2),\n",
        "  CI_Lower = round(exp(df_contrasts$estimate - 1.96 * df_contrasts$SE), 2),\n",
        "  CI_Upper = round(exp(df_contrasts$estimate + 1.96 * df_contrasts$SE), 2)\n",
        ")\n",
        "\n",
        "# Print the new pairwise dataframe\n",
        "print(df_pairwise)\n",
        "\n",
        "# Load the existing workbook\n",
        "wb <- loadWorkbook(excel)\n",
        "\n",
        "# Add a new sheet to the existing workbook\n",
        "addWorksheet(wb, \"Pairwise_Comparisons\")\n",
        "\n",
        "# Write the dataframe to the new sheet in the existing workbook\n",
        "writeData(wb, sheet = \"Pairwise_Comparisons\", x = df_pairwise)\n",
        "\n",
        "# Save the workbook with the new sheet, overwriting the existing file\n",
        "saveWorkbook(wb, excel, overwrite = TRUE)"
      ],
      "metadata": {
        "colab": {
          "base_uri": "https://localhost:8080/"
        },
        "outputId": "150e3ef0-76a8-43e2-9deb-30b80157e76e",
        "id": "mYXo4RAV4R4e"
      },
      "execution_count": null,
      "outputs": [
        {
          "output_type": "stream",
          "name": "stdout",
          "text": [
            "             Effect Coefficient Std..Error Z.Value   P.Value Odds_Ratio\n",
            "1  Strat1 - Strat10        1.04       0.18    5.77 <0.001***       2.82\n",
            "2   Strat1 - Strat2        0.50       0.18    2.76    0.0576       1.64\n",
            "3   Strat1 - Strat3       -1.38       0.20   -7.02 <0.001***       0.25\n",
            "4   Strat1 - Strat4        0.20       0.18    1.14         1       1.22\n",
            "5   Strat1 - Strat5       -2.08       0.20  -10.32 <0.001***       0.13\n",
            "6   Strat1 - Strat6        1.87       0.18   10.27 <0.001***       6.51\n",
            "7   Strat1 - Strat7        0.34       0.18    1.86    0.5036       1.40\n",
            "8   Strat1 - Strat8       -0.06       0.17   -0.37         1       0.94\n",
            "9   Strat1 - Strat9        1.34       0.18    7.49 <0.001***       3.83\n",
            "10 Strat10 - Strat2       -0.54       0.18   -2.99    <0.05*       0.58\n",
            "11 Strat10 - Strat3       -2.41       0.20  -12.04 <0.001***       0.09\n",
            "12 Strat10 - Strat4       -0.84       0.18   -4.69 <0.001***       0.43\n",
            "13 Strat10 - Strat5       -3.11       0.21  -15.14 <0.001***       0.04\n",
            "14 Strat10 - Strat6        0.84       0.18    4.65 <0.001***       2.31\n",
            "15 Strat10 - Strat7       -0.70       0.18   -3.84   <0.01**       0.50\n",
            "16 Strat10 - Strat8       -1.10       0.18   -6.28 <0.001***       0.33\n",
            "17 Strat10 - Strat9        0.31       0.18    1.72    0.6011       1.36\n",
            "18  Strat2 - Strat3       -1.87       0.20   -9.39 <0.001***       0.15\n",
            "19  Strat2 - Strat4       -0.30       0.18   -1.65    0.6011       0.74\n",
            "20  Strat2 - Strat5       -2.57       0.20  -12.59 <0.001***       0.08\n",
            "21  Strat2 - Strat6        1.38       0.18    7.55 <0.001***       3.96\n",
            "22  Strat2 - Strat7       -0.16       0.18   -0.87         1       0.85\n",
            "23  Strat2 - Strat8       -0.56       0.18   -3.20    <0.05*       0.57\n",
            "24  Strat2 - Strat9        0.85       0.18    4.71 <0.001***       2.33\n",
            "25  Strat3 - Strat4        1.58       0.20    8.03 <0.001***       4.85\n",
            "26  Strat3 - Strat5       -0.70       0.21   -3.28    <0.05*       0.50\n",
            "27  Strat3 - Strat6        3.25       0.20   15.94 <0.001***      25.79\n",
            "28  Strat3 - Strat7        1.71       0.20    8.56 <0.001***       5.55\n",
            "29  Strat3 - Strat8        1.31       0.19    6.83 <0.001***       3.71\n",
            "30  Strat3 - Strat9        2.72       0.20   13.57 <0.001***      15.18\n",
            "31  Strat4 - Strat5       -2.28       0.20  -11.31 <0.001***       0.10\n",
            "32  Strat4 - Strat6        1.67       0.18    9.25 <0.001***       5.32\n",
            "33  Strat4 - Strat7        0.14       0.18    0.75         1       1.15\n",
            "34  Strat4 - Strat8       -0.27       0.17   -1.54    0.6153       0.77\n",
            "35  Strat4 - Strat9        1.14       0.18    6.42 <0.001***       3.13\n",
            "36  Strat5 - Strat6        3.95       0.21   18.87 <0.001***      51.88\n",
            "37  Strat5 - Strat7        2.41       0.20   11.78 <0.001***      11.17\n",
            "38  Strat5 - Strat8        2.01       0.20   10.22 <0.001***       7.47\n",
            "39  Strat5 - Strat9        3.42       0.21   16.62 <0.001***      30.54\n",
            "40  Strat6 - Strat7       -1.54       0.18   -8.32 <0.001***       0.22\n",
            "41  Strat6 - Strat8       -1.94       0.18  -10.86 <0.001***       0.14\n",
            "42  Strat6 - Strat9       -0.53       0.18   -2.97    <0.05*       0.59\n",
            "43  Strat7 - Strat8       -0.40       0.18   -2.27     0.207       0.67\n",
            "44  Strat7 - Strat9        1.01       0.18    5.53 <0.001***       2.73\n",
            "45  Strat8 - Strat9        1.41       0.17    8.05 <0.001***       4.09\n",
            "   CI_Lower CI_Upper\n",
            "1      1.98     4.02\n",
            "2      1.16     2.34\n",
            "3      0.17     0.37\n",
            "4      0.86     1.73\n",
            "5      0.08     0.19\n",
            "6      4.55     9.31\n",
            "7      0.98     2.00\n",
            "8      0.67     1.32\n",
            "9      2.70     5.45\n",
            "10     0.41     0.83\n",
            "11     0.06     0.13\n",
            "12     0.31     0.61\n",
            "13     0.03     0.07\n",
            "14     1.62     3.28\n",
            "15     0.35     0.71\n",
            "16     0.24     0.47\n",
            "17     0.96     1.92\n",
            "18     0.10     0.23\n",
            "19     0.52     1.06\n",
            "20     0.05     0.11\n",
            "21     2.77     5.66\n",
            "22     0.60     1.22\n",
            "23     0.40     0.80\n",
            "24     1.64     3.31\n",
            "25     3.30     7.13\n",
            "26     0.33     0.76\n",
            "27    17.30    38.47\n",
            "28     3.75     8.22\n",
            "29     2.55     5.41\n",
            "30    10.25    22.49\n",
            "31     0.07     0.15\n",
            "32     3.73     7.58\n",
            "33     0.80     1.63\n",
            "34     0.55     1.07\n",
            "35     2.21     4.44\n",
            "36    34.42    78.18\n",
            "37     7.47    16.69\n",
            "38     5.08    10.99\n",
            "39    20.41    45.70\n",
            "40     0.15     0.31\n",
            "41     0.10     0.20\n",
            "42     0.42     0.83\n",
            "43     0.47     0.95\n",
            "44     1.91     3.91\n",
            "45     2.90     5.76\n"
          ]
        }
      ]
    },
    {
      "cell_type": "markdown",
      "source": [
        "### 2.3 Create Heatmap for Strategies"
      ],
      "metadata": {
        "id": "KvlojeAS4R4e"
      }
    },
    {
      "cell_type": "code",
      "source": [
        "# Load necessary libraries\n",
        "library(ggplot2)\n",
        "library(scales)\n",
        "\n",
        "# Convert x and y to factors with the desired order\n",
        "df_contrasts <- transform(df_contrasts,\n",
        "                          x = as.numeric(gsub(\"Strat\", \"\", sapply(strsplit(as.character(contrast), \" - \"), \"[[\", 1))),\n",
        "                          y = as.numeric(gsub(\"Strat\", \"\", sapply(strsplit(as.character(contrast), \" - \"), \"[[\", 2))))\n",
        "\n",
        "# Reordering columns\n",
        "df_contrasts <- df_contrasts[, c(\"x\", \"y\", \"p.value\")]\n",
        "\n",
        "# Create mirrored data\n",
        "df_mirrored <- rbind(df_contrasts, transform(df_contrasts, x = y, y = x))\n",
        "\n",
        "# Create function to format p-values\n",
        "# Create function to format p-values\n",
        "format_pvalue <- function(pvalue) {\n",
        "  if (is.numeric(pvalue)) {\n",
        "    ifelse(pvalue < 0.001, \"<0.001\",\n",
        "           ifelse(pvalue < 0.01, \"<0.01\",\n",
        "                  ifelse(pvalue < 0.05, \"<0.05\", sprintf(\"%.2f\", pvalue))))\n",
        "  } else {\n",
        "    pvalue\n",
        "  }\n",
        "}\n",
        "\n",
        "# Set font sizes\n",
        "font_size_text <- 3  # Adjust font size for values in the heatmap\n",
        "font_size_axes <- 12  # Adjust font size for axes labels\n",
        "\n",
        "# Create a custom color palette\n",
        "my_colors <- c(\"#EA4235\", \"#48E56D\")\n",
        "\n",
        "# Create heatmap with borders and a distinct color palette\n",
        "plot <- ggplot(df_mirrored, aes(x = x, y = y, fill = p.value < 0.05)) +\n",
        "  geom_tile(color = \"black\", size = 1) +  # Add borders around cells\n",
        "  geom_text(aes(label = format_pvalue(p.value)), size = font_size_text, vjust = 0.5, hjust = 0.5, color = \"black\", family = \"Times New Roman\") +  # Center text\n",
        "  scale_fill_manual(values = c(\"#EA4235\", \"#48E56D\"), labels = c(\"p > 0.05\", \"p < 0.05\"), name = \"p-value\") +  # Assign colors and labels\n",
        "  labs(x = \"Strategy\",\n",
        "       y = \"Strategy\",\n",
        "       fill = NULL,\n",
        "       title = \" \",) +\n",
        "  theme_minimal() +\n",
        "  theme(axis.text.x = element_text(angle = 0, hjust = 1, size = font_size_axes, family = \"Times New Roman\"),  # Adjust font size for x axis labels\n",
        "        axis.text.y = element_text(size = font_size_axes, family = \"Times New Roman\"),  # Adjust font size for y axis labels\n",
        "        axis.title.x = element_text(size = font_size_axes, family = \"Times New Roman\"),  # Adjust font size for x axis title\n",
        "        axis.title.y = element_text(size = font_size_axes, family = \"Times New Roman\"),  # Adjust font size for y axis title\n",
        "        legend.title = element_text(family = \"Times New Roman\", hjust = 0.5),  # Set legend title font and center it\n",
        "        legend.title.align = 0.5,  # Center the legend title\n",
        "        legend.text = element_text(size = font_size_axes, family = \"Times New Roman\", margin = margin(0, 10, 0, 0)),  # Adjust legend text size and margin\n",
        "        panel.grid = element_blank(),  # Remove grid lines\n",
        "        panel.border = element_rect(color = \"black\", fill = NA),  # Add border around plot\n",
        "        axis.line = element_line(color = \"black\"),\n",
        "        plot.title = element_text(hjust = 0.5, family = \"Times New Roman\"),\n",
        "        plot.caption = element_text(hjust = 0.5, family = \"Times New Roman\")) +  # Center the title\n",
        "  scale_x_continuous(breaks = seq(min(df_mirrored$x), max(df_mirrored$x), by = 1)) +\n",
        "  scale_y_continuous(breaks = seq(min(df_mirrored$y), max(df_mirrored$y), by = 1))\n",
        "\n",
        "# Save the plot as a scalable vector graphic (SVG) with higher resolution\n",
        "plot\n",
        "ggsave(\"HeatmapSpanishFull.svg\", plot, width = 8, height = 6, dpi = 300)"
      ],
      "metadata": {
        "colab": {
          "base_uri": "https://localhost:8080/",
          "height": 437
        },
        "outputId": "199325f0-cc9a-405c-d817-195c3b98f7c5",
        "id": "nmC6D-2b4R4e"
      },
      "execution_count": null,
      "outputs": [
        {
          "output_type": "display_data",
          "data": {
            "text/plain": [
              "plot without title"
            ],
            "image/png": "[encoded data removed]"
          },
          "metadata": {
            "image/png": {
              "width": 420,
              "height": 420
            }
          }
        }
      ]
    },
    {
      "cell_type": "markdown",
      "source": [
        "## Spanish A\n"
      ],
      "metadata": {
        "id": "L88NsfkJ4-zk"
      }
    },
    {
      "cell_type": "markdown",
      "source": [
        "### 2.0 Load Data"
      ],
      "metadata": {
        "id": "PaskDxeL4-zr"
      }
    },
    {
      "cell_type": "code",
      "source": [
        "#This is the data that shows Language, Task, Strategy, and Likert Scores (acceptability judgements) for all tasks\n",
        "# data <- read.csv(\"https://raw.githubusercontent.com/MatthewCGalbraith/FrontiersData/main/ajfullAB.csv\")\n",
        "\n",
        "#This is the data that shows Language, Task, Strategy, and Likert Scores (acceptability judgements) for all Task A and Task B for English ONLY\n",
        "# data <- read.csv(\"https://raw.githubusercontent.com/MatthewCGalbraith/FrontiersData/main/ajfullABEnglish.csv\")\n",
        "\n",
        "#This is the data that shows Language, Task, Strategy, and Likert Scores (acceptability judgements) for all Task A and Task B for Spanish ONLY\n",
        "# data <- read.csv(\"https://raw.githubusercontent.com/MatthewCGalbraith/FrontiersData/main/ajfullABSpanish.csv\")\n",
        "\n",
        "#This is the data that shows Language, Task, Strategy, and Likert Scores (acceptability judgements) for Task A for English ONLY\n",
        "# data <- read.csv(\"https://raw.githubusercontent.com/MatthewCGalbraith/FrontiersData/main/ajEnglishA.csv\")\n",
        "\n",
        "#This is the data that shows Language, Task, Strategy, and Likert Scores (acceptability judgements) for Task B for English ONLY\n",
        "# data <- read.csv(\"https://raw.githubusercontent.com/MatthewCGalbraith/FrontiersData/main/ajEnglishB.csv\")\n",
        "\n",
        "#This is the data that shows Language, Task, Strategy, and Likert Scores (acceptability judgements) for Task A for Spanish ONLY\n",
        "data <- read.csv(\"https://raw.githubusercontent.com/MatthewCGalbraith/FrontiersData/main/ajSpanishA.csv\")\n",
        "\n",
        "#This is the data that shows Language, Task, Strategy, and Likert Scores (acceptability judgements) for Task B for Spanish ONLY\n",
        "# data <- read.csv(\"https://raw.githubusercontent.com/MatthewCGalbraith/FrontiersData/main/ajSpanishB.csv\")"
      ],
      "metadata": {
        "id": "oYFuSm114-zr"
      },
      "execution_count": null,
      "outputs": []
    },
    {
      "cell_type": "code",
      "source": [
        "# Set excel path for the data to be written\n",
        "excel <- \"ajSpanishA.xlsx\""
      ],
      "metadata": {
        "id": "mE0YdpHs4-zr"
      },
      "execution_count": null,
      "outputs": []
    },
    {
      "cell_type": "markdown",
      "source": [
        "### 2.1 Fit Ordinal Model"
      ],
      "metadata": {
        "id": "Qr9eSiOQ4-zr"
      }
    },
    {
      "cell_type": "code",
      "source": [
        "# library(ordinal)\n",
        "\n",
        "# # Convert Likert to factor\n",
        "# data$Likert <- factor(data$Likert)\n",
        "\n",
        "# # Fit the Ordinal Regression Model\n",
        "# o <- clm(Likert ~ Strategy,\n",
        "#          data = data)\n",
        "# # Check summary of model\n",
        "# summary(o)"
      ],
      "metadata": {
        "id": "JGtwXIed4-zr"
      },
      "execution_count": null,
      "outputs": []
    },
    {
      "cell_type": "code",
      "source": [
        "library(ordinal)\n",
        "library(broom)\n",
        "library(writexl)\n",
        "\n",
        "# Convert Likert to factor\n",
        "data$Likert <- factor(data$Likert)\n",
        "\n",
        "# Fit the Ordinal Regression Model\n",
        "o <- clm(Likert ~ Strategy + Assistant, data = data)\n",
        "\n",
        "# Extract coefficients and related information\n",
        "coefficients_df <- tidy(o)\n",
        "\n",
        "# Extract Odds Ratios and Confidence Intervals\n",
        "odds_ratio <- exp(coef(o))\n",
        "conf_intervals <- exp(confint.default(o))\n",
        "\n",
        "# Create a dataframe\n",
        "effect <- rownames(coefficients_df)\n",
        "coefficient <- coefficients_df$estimate\n",
        "std_error <- coefficients_df$std.error\n",
        "z_value <- coefficients_df$statistic\n",
        "p_value <- coefficients_df$p.value\n",
        "odds_ratio_val <- odds_ratio\n",
        "ci_lower <- conf_intervals[, \"2.5 %\"]\n",
        "ci_upper <- conf_intervals[, \"97.5 %\"]\n",
        "\n",
        "# Combine into a dataframe\n",
        "result_df <- data.frame(\n",
        "  Effect = effect,\n",
        "  Coefficient = round(coefficient, 2),\n",
        "  `Std. Error` = round(std_error, 2),\n",
        "  `Z Value` = round(z_value, 2),\n",
        "  `P Value` = ifelse(p_value < 0.001, \"<0.001***\", ifelse(p_value < 0.01, \"<0.01**\", ifelse(p_value < 0.05, \"<0.05*\", round(p_value, 2)))),\n",
        "  `Odds Ratio` = round(odds_ratio_val, 2),\n",
        "  `CI Lower` = round(ci_lower, 2),\n",
        "  `CI Upper` = round(ci_upper, 2)\n",
        ")\n",
        "\n",
        "# Extract main effects coefficients and related information\n",
        "main_effects <- coefficients_df[grepl(\"Strategy|Assistant\", coefficients_df$term) & !grepl(\":\", coefficients_df$term), ]\n",
        "\n",
        "# Extract main effects Odds Ratios and Confidence Intervals\n",
        "main_odds_ratio <- exp(coef(o)[grepl(\"Strategy|Assistant\", names(coef(o))) & !grepl(\":\", names(coef(o)))])\n",
        "main_conf_intervals <- exp(confint.default(o)[grepl(\"Strategy|Assistant\", names(coef(o))) & !grepl(\":\", names(coef(o))), ])\n",
        "\n",
        "# Create a dataframe for main effects\n",
        "main_effects_df <- data.frame(\n",
        "  Effect = main_effects$term,\n",
        "  Coefficient = round(main_effects$estimate, 2),\n",
        "  `Std. Error` = round(main_effects$std.error, 2),\n",
        "  `Z Value` = round(main_effects$statistic, 2),\n",
        "  `P Value` = ifelse(main_effects$p.value < 0.001, \"<0.001***\", ifelse(main_effects$p.value < 0.01, \"<0.01**\", ifelse(main_effects$p.value < 0.05, \"<0.05*\", round(main_effects$p.value, 2)))),\n",
        "  `Odds Ratio` = round(main_odds_ratio, 2),\n",
        "  `CI Lower` = round(main_conf_intervals[, \"2.5 %\"], 2),\n",
        "  `CI Upper` = round(main_conf_intervals[, \"97.5 %\"], 2)\n",
        ")\n",
        "\n",
        "# Modify Effect labels for Main Effects\n",
        "main_effects_df$Effect <- gsub(\"StrategyStrat\", \"Strategy \", main_effects_df$Effect)\n",
        "main_effects_df$Effect <- gsub(\"AssistantSiri\", \"Siri\", main_effects_df$Effect)\n",
        "\n",
        "# Add \"Strategy 1\" with a coefficient of 0 to main effects\n",
        "main_effects_df <- rbind(main_effects_df, data.frame(Effect = \"Strategy 1\", Coefficient = 0, `Std. Error` = NA, `Z Value` = NA, `P Value` = NA, `Odds Ratio` = NA, `CI Lower` = NA, `CI Upper` = NA))\n",
        "\n",
        "# Order main effects dataframe by Coefficient in descending order\n",
        "main_effects_df <- main_effects_df[order(-main_effects_df$Coefficient), ]\n",
        "\n",
        "# Print the modified main effects dataframe\n",
        "main_effects_df\n",
        "\n",
        "# Extract interaction effects coefficients and related information\n",
        "interaction_effects <- coefficients_df[grepl(\":\", coefficients_df$term), ]\n",
        "\n",
        "# Extract interaction effects Odds Ratios and Confidence Intervals\n",
        "interaction_odds_ratio <- exp(coef(o)[grepl(\":\", names(coef(o)))])\n",
        "interaction_conf_intervals <- exp(confint.default(o)[grepl(\":\", names(coef(o))), ])\n",
        "\n",
        "# Create a dataframe for interaction effects\n",
        "interaction_effects_df <- data.frame(\n",
        "  Effect = interaction_effects$term,\n",
        "  Coefficient = round(interaction_effects$estimate, 2),\n",
        "  `Std. Error` = round(interaction_effects$std.error, 2),\n",
        "  `Z Value` = round(interaction_effects$statistic, 2),\n",
        "  `P Value` = ifelse(interaction_effects$p.value < 0.001, \"<0.001***\", ifelse(interaction_effects$p.value < 0.01, \"<0.01**\", ifelse(interaction_effects$p.value < 0.05, \"<0.05*\", round(interaction_effects$p.value, 2)))),\n",
        "  `Odds Ratio` = round(interaction_odds_ratio, 2),\n",
        "  `CI Lower` = round(interaction_conf_intervals[, \"2.5 %\"], 2),\n",
        "  `CI Upper` = round(interaction_conf_intervals[, \"97.5 %\"], 2)\n",
        ")\n",
        "\n",
        "# Modify Effect labels for Interaction Effects\n",
        "interaction_effects_df$Effect <- gsub(\":AssistantSiri\", \" - Siri\", interaction_effects_df$Effect)\n",
        "interaction_effects_df$Effect <- gsub(\"StrategyStrat\", \"Strategy \", interaction_effects_df$Effect)\n",
        "interaction_effects_df$Effect <- gsub(\"AssistantSiri\", \"Siri\", interaction_effects_df$Effect)\n",
        "\n",
        "# Add \"Strategy 1 - Siri\" with a coefficient of 0 to interaction effects\n",
        "interaction_effects_df <- rbind(interaction_effects_df, data.frame(Effect = \"Strategy 1 - Siri\", Coefficient = 0, `Std. Error` = NA, `Z Value` = NA, `P Value` = NA, `Odds Ratio` = NA, `CI Lower` = NA, `CI Upper` = NA))\n",
        "\n",
        "# Order interaction effects dataframe by Coefficient in descending order\n",
        "interaction_effects_df <- interaction_effects_df[order(-interaction_effects_df$Coefficient), ]\n",
        "\n",
        "# Print the modified interaction effects dataframe\n",
        "interaction_effects_df\n",
        "\n",
        "# Create a workbook\n",
        "wb <- createWorkbook()\n",
        "\n",
        "# Add main_effects_df to the workbook\n",
        "addWorksheet(wb, \"Main Effects\")\n",
        "writeData(wb, \"Main Effects\", main_effects_df)\n",
        "\n",
        "# Add interaction_effects_df to the workbook\n",
        "addWorksheet(wb, \"Interaction Effects\")\n",
        "writeData(wb, \"Interaction Effects\", interaction_effects_df)\n",
        "\n",
        "# Save the workbook to Excel file\n",
        "saveWorkbook(wb, file = excel, overwrite = TRUE)\n",
        "\n",
        "# Confirm completion\n",
        "cat(\"Dataframes written to 'excel' successfully!\\n\")"
      ],
      "metadata": {
        "colab": {
          "base_uri": "https://localhost:8080/",
          "height": 572
        },
        "outputId": "5d2a23f1-4e18-4bb7-e050-3c3fd582857b",
        "id": "k0SJ4VGS4-zs"
      },
      "execution_count": null,
      "outputs": [
        {
          "output_type": "display_data",
          "data": {
            "text/html": [
              "<table class=\"dataframe\">\n",
              "<caption>A data.frame: 11 × 8</caption>\n",
              "<thead>\n",
              "\t<tr><th></th><th scope=col>Effect</th><th scope=col>Coefficient</th><th scope=col>Std..Error</th><th scope=col>Z.Value</th><th scope=col>P.Value</th><th scope=col>Odds.Ratio</th><th scope=col>CI.Lower</th><th scope=col>CI.Upper</th></tr>\n",
              "\t<tr><th></th><th scope=col>&lt;chr&gt;</th><th scope=col>&lt;dbl&gt;</th><th scope=col>&lt;dbl&gt;</th><th scope=col>&lt;dbl&gt;</th><th scope=col>&lt;chr&gt;</th><th scope=col>&lt;dbl&gt;</th><th scope=col>&lt;dbl&gt;</th><th scope=col>&lt;dbl&gt;</th></tr>\n",
              "</thead>\n",
              "<tbody>\n",
              "\t<tr><th scope=row>StrategyStrat5</th><td>Strategy 5 </td><td> 2.12</td><td>0.27</td><td> 7.79</td><td>&lt;0.001***</td><td>8.31</td><td>4.88</td><td>14.15</td></tr>\n",
              "\t<tr><th scope=row>StrategyStrat3</th><td>Strategy 3 </td><td> 1.10</td><td>0.29</td><td> 3.86</td><td>&lt;0.001***</td><td>3.01</td><td>1.72</td><td> 5.26</td></tr>\n",
              "\t<tr><th scope=row>StrategyStrat7</th><td>Strategy 7 </td><td> 0.77</td><td>0.25</td><td> 3.04</td><td><span style=white-space:pre-wrap>&lt;0.01**  </span></td><td>2.15</td><td>1.31</td><td> 3.52</td></tr>\n",
              "\t<tr><th scope=row>AssistantSiri</th><td><span style=white-space:pre-wrap>Siri       </span></td><td> 0.43</td><td>0.12</td><td> 3.70</td><td>&lt;0.001***</td><td>1.53</td><td>1.22</td><td> 1.92</td></tr>\n",
              "\t<tr><th scope=row>StrategyStrat4</th><td>Strategy 4 </td><td> 0.21</td><td>0.25</td><td> 0.84</td><td>0.4      </td><td>1.23</td><td>0.76</td><td> 2.02</td></tr>\n",
              "\t<tr><th scope=row>StrategyStrat8</th><td>Strategy 8 </td><td> 0.09</td><td>0.25</td><td> 0.37</td><td>0.71     </td><td>1.10</td><td>0.68</td><td> 1.78</td></tr>\n",
              "\t<tr><th scope=row>1</th><td>Strategy 1 </td><td> 0.00</td><td>  NA</td><td>   NA</td><td>NA       </td><td>  NA</td><td>  NA</td><td>   NA</td></tr>\n",
              "\t<tr><th scope=row>StrategyStrat2</th><td>Strategy 2 </td><td>-0.10</td><td>0.26</td><td>-0.38</td><td>0.71     </td><td>0.91</td><td>0.55</td><td> 1.50</td></tr>\n",
              "\t<tr><th scope=row>StrategyStrat10</th><td>Strategy 10</td><td>-0.41</td><td>0.26</td><td>-1.59</td><td>0.11     </td><td>0.67</td><td>0.40</td><td> 1.10</td></tr>\n",
              "\t<tr><th scope=row>StrategyStrat9</th><td>Strategy 9 </td><td>-0.99</td><td>0.26</td><td>-3.84</td><td>&lt;0.001***</td><td>0.37</td><td>0.22</td><td> 0.62</td></tr>\n",
              "\t<tr><th scope=row>StrategyStrat6</th><td>Strategy 6 </td><td>-1.61</td><td>0.26</td><td>-6.12</td><td>&lt;0.001***</td><td>0.20</td><td>0.12</td><td> 0.33</td></tr>\n",
              "</tbody>\n",
              "</table>\n"
            ],
            "text/markdown": "\nA data.frame: 11 × 8\n\n| <!--/--> | Effect &lt;chr&gt; | Coefficient &lt;dbl&gt; | Std..Error &lt;dbl&gt; | Z.Value &lt;dbl&gt; | P.Value &lt;chr&gt; | Odds.Ratio &lt;dbl&gt; | CI.Lower &lt;dbl&gt; | CI.Upper &lt;dbl&gt; |\n|---|---|---|---|---|---|---|---|---|\n| StrategyStrat5 | Strategy 5  |  2.12 | 0.27 |  7.79 | &lt;0.001*** | 8.31 | 4.88 | 14.15 |\n| StrategyStrat3 | Strategy 3  |  1.10 | 0.29 |  3.86 | &lt;0.001*** | 3.01 | 1.72 |  5.26 |\n| StrategyStrat7 | Strategy 7  |  0.77 | 0.25 |  3.04 | &lt;0.01**   | 2.15 | 1.31 |  3.52 |\n| AssistantSiri | Siri        |  0.43 | 0.12 |  3.70 | &lt;0.001*** | 1.53 | 1.22 |  1.92 |\n| StrategyStrat4 | Strategy 4  |  0.21 | 0.25 |  0.84 | 0.4       | 1.23 | 0.76 |  2.02 |\n| StrategyStrat8 | Strategy 8  |  0.09 | 0.25 |  0.37 | 0.71      | 1.10 | 0.68 |  1.78 |\n| 1 | Strategy 1  |  0.00 |   NA |    NA | NA        |   NA |   NA |    NA |\n| StrategyStrat2 | Strategy 2  | -0.10 | 0.26 | -0.38 | 0.71      | 0.91 | 0.55 |  1.50 |\n| StrategyStrat10 | Strategy 10 | -0.41 | 0.26 | -1.59 | 0.11      | 0.67 | 0.40 |  1.10 |\n| StrategyStrat9 | Strategy 9  | -0.99 | 0.26 | -3.84 | &lt;0.001*** | 0.37 | 0.22 |  0.62 |\n| StrategyStrat6 | Strategy 6  | -1.61 | 0.26 | -6.12 | &lt;0.001*** | 0.20 | 0.12 |  0.33 |\n\n",
            "text/latex": "A data.frame: 11 × 8\n\\begin{tabular}{r|llllllll}\n  & Effect & Coefficient & Std..Error & Z.Value & P.Value & Odds.Ratio & CI.Lower & CI.Upper\\\\\n  & <chr> & <dbl> & <dbl> & <dbl> & <chr> & <dbl> & <dbl> & <dbl>\\\\\n\\hline\n\tStrategyStrat5 & Strategy 5  &  2.12 & 0.27 &  7.79 & <0.001*** & 8.31 & 4.88 & 14.15\\\\\n\tStrategyStrat3 & Strategy 3  &  1.10 & 0.29 &  3.86 & <0.001*** & 3.01 & 1.72 &  5.26\\\\\n\tStrategyStrat7 & Strategy 7  &  0.77 & 0.25 &  3.04 & <0.01**   & 2.15 & 1.31 &  3.52\\\\\n\tAssistantSiri & Siri        &  0.43 & 0.12 &  3.70 & <0.001*** & 1.53 & 1.22 &  1.92\\\\\n\tStrategyStrat4 & Strategy 4  &  0.21 & 0.25 &  0.84 & 0.4       & 1.23 & 0.76 &  2.02\\\\\n\tStrategyStrat8 & Strategy 8  &  0.09 & 0.25 &  0.37 & 0.71      & 1.10 & 0.68 &  1.78\\\\\n\t1 & Strategy 1  &  0.00 &   NA &    NA & NA        &   NA &   NA &    NA\\\\\n\tStrategyStrat2 & Strategy 2  & -0.10 & 0.26 & -0.38 & 0.71      & 0.91 & 0.55 &  1.50\\\\\n\tStrategyStrat10 & Strategy 10 & -0.41 & 0.26 & -1.59 & 0.11      & 0.67 & 0.40 &  1.10\\\\\n\tStrategyStrat9 & Strategy 9  & -0.99 & 0.26 & -3.84 & <0.001*** & 0.37 & 0.22 &  0.62\\\\\n\tStrategyStrat6 & Strategy 6  & -1.61 & 0.26 & -6.12 & <0.001*** & 0.20 & 0.12 &  0.33\\\\\n\\end{tabular}\n",
            "text/plain": [
              "                Effect      Coefficient Std..Error Z.Value P.Value   Odds.Ratio\n",
              "StrategyStrat5  Strategy 5   2.12       0.27        7.79   <0.001*** 8.31      \n",
              "StrategyStrat3  Strategy 3   1.10       0.29        3.86   <0.001*** 3.01      \n",
              "StrategyStrat7  Strategy 7   0.77       0.25        3.04   <0.01**   2.15      \n",
              "AssistantSiri   Siri         0.43       0.12        3.70   <0.001*** 1.53      \n",
              "StrategyStrat4  Strategy 4   0.21       0.25        0.84   0.4       1.23      \n",
              "StrategyStrat8  Strategy 8   0.09       0.25        0.37   0.71      1.10      \n",
              "1               Strategy 1   0.00         NA          NA   NA          NA      \n",
              "StrategyStrat2  Strategy 2  -0.10       0.26       -0.38   0.71      0.91      \n",
              "StrategyStrat10 Strategy 10 -0.41       0.26       -1.59   0.11      0.67      \n",
              "StrategyStrat9  Strategy 9  -0.99       0.26       -3.84   <0.001*** 0.37      \n",
              "StrategyStrat6  Strategy 6  -1.61       0.26       -6.12   <0.001*** 0.20      \n",
              "                CI.Lower CI.Upper\n",
              "StrategyStrat5  4.88     14.15   \n",
              "StrategyStrat3  1.72      5.26   \n",
              "StrategyStrat7  1.31      3.52   \n",
              "AssistantSiri   1.22      1.92   \n",
              "StrategyStrat4  0.76      2.02   \n",
              "StrategyStrat8  0.68      1.78   \n",
              "1                 NA        NA   \n",
              "StrategyStrat2  0.55      1.50   \n",
              "StrategyStrat10 0.40      1.10   \n",
              "StrategyStrat9  0.22      0.62   \n",
              "StrategyStrat6  0.12      0.33   "
            ]
          },
          "metadata": {}
        },
        {
          "output_type": "display_data",
          "data": {
            "text/html": [
              "<table class=\"dataframe\">\n",
              "<caption>A data.frame: 1 × 8</caption>\n",
              "<thead>\n",
              "\t<tr><th></th><th scope=col>Effect</th><th scope=col>Coefficient</th><th scope=col>Std..Error</th><th scope=col>Z.Value</th><th scope=col>P.Value</th><th scope=col>Odds.Ratio</th><th scope=col>CI.Lower</th><th scope=col>CI.Upper</th></tr>\n",
              "\t<tr><th></th><th scope=col>&lt;chr&gt;</th><th scope=col>&lt;dbl&gt;</th><th scope=col>&lt;lgl&gt;</th><th scope=col>&lt;lgl&gt;</th><th scope=col>&lt;lgl&gt;</th><th scope=col>&lt;lgl&gt;</th><th scope=col>&lt;lgl&gt;</th><th scope=col>&lt;lgl&gt;</th></tr>\n",
              "</thead>\n",
              "<tbody>\n",
              "\t<tr><th scope=row>1</th><td>Strategy 1 - Siri</td><td>0</td><td>NA</td><td>NA</td><td>NA</td><td>NA</td><td>NA</td><td>NA</td></tr>\n",
              "</tbody>\n",
              "</table>\n"
            ],
            "text/markdown": "\nA data.frame: 1 × 8\n\n| <!--/--> | Effect &lt;chr&gt; | Coefficient &lt;dbl&gt; | Std..Error &lt;lgl&gt; | Z.Value &lt;lgl&gt; | P.Value &lt;lgl&gt; | Odds.Ratio &lt;lgl&gt; | CI.Lower &lt;lgl&gt; | CI.Upper &lt;lgl&gt; |\n|---|---|---|---|---|---|---|---|---|\n| 1 | Strategy 1 - Siri | 0 | NA | NA | NA | NA | NA | NA |\n\n",
            "text/latex": "A data.frame: 1 × 8\n\\begin{tabular}{r|llllllll}\n  & Effect & Coefficient & Std..Error & Z.Value & P.Value & Odds.Ratio & CI.Lower & CI.Upper\\\\\n  & <chr> & <dbl> & <lgl> & <lgl> & <lgl> & <lgl> & <lgl> & <lgl>\\\\\n\\hline\n\t1 & Strategy 1 - Siri & 0 & NA & NA & NA & NA & NA & NA\\\\\n\\end{tabular}\n",
            "text/plain": [
              "  Effect            Coefficient Std..Error Z.Value P.Value Odds.Ratio CI.Lower\n",
              "1 Strategy 1 - Siri 0           NA         NA      NA      NA         NA      \n",
              "  CI.Upper\n",
              "1 NA      "
            ]
          },
          "metadata": {}
        },
        {
          "output_type": "stream",
          "name": "stdout",
          "text": [
            "Dataframes written to 'excel' successfully!\n"
          ]
        }
      ]
    },
    {
      "cell_type": "markdown",
      "source": [
        "### 2.2 Pairwise Comparisons for Strategies"
      ],
      "metadata": {
        "id": "E2_NxHPI4-zs"
      }
    },
    {
      "cell_type": "code",
      "source": [
        "library(emmeans)\n",
        "\n",
        "# Calculate Estimated Marginal Means for Strategy variable\n",
        "emm_strategy <- emmeans(o, pairwise ~ Strategy)\n",
        "\n",
        "# Extract the results\n",
        "results <- summary(emm_strategy, adjust = \"holm\")\n",
        "\n",
        "# Convert the contrasts table to a dataframe\n",
        "df_contrasts <- as.data.frame(results$contrasts)\n",
        "\n",
        "# Create a function to format P values\n",
        "format_pvalue <- function(p_value) {\n",
        "  if (p_value < 0.001) {\n",
        "    return(\"<0.001***\")\n",
        "  } else if (p_value < 0.01) {\n",
        "    return(\"<0.01**\")\n",
        "  } else if (p_value < 0.05) {\n",
        "    return(\"<0.05*\")\n",
        "  } else {\n",
        "    return(paste0(\"\", round(p_value, 4)))\n",
        "  }\n",
        "}\n",
        "\n",
        "# Create dataframe for pairwise comparisons\n",
        "df_pairwise <- data.frame(\n",
        "  Effect = df_contrasts$contrast,\n",
        "  Coefficient = round(df_contrasts$estimate, 2),\n",
        "  `Std. Error` = round(df_contrasts$SE, 2),\n",
        "  `Z Value` = round(df_contrasts$z.ratio, 2),\n",
        "  `P Value` = sapply(df_contrasts$p.value, format_pvalue),\n",
        "  Odds_Ratio = round(exp(df_contrasts$estimate), 2),\n",
        "  CI_Lower = round(exp(df_contrasts$estimate - 1.96 * df_contrasts$SE), 2),\n",
        "  CI_Upper = round(exp(df_contrasts$estimate + 1.96 * df_contrasts$SE), 2)\n",
        ")\n",
        "\n",
        "# Print the new pairwise dataframe\n",
        "print(df_pairwise)\n",
        "\n",
        "# Load the existing workbook\n",
        "wb <- loadWorkbook(excel)\n",
        "\n",
        "# Add a new sheet to the existing workbook\n",
        "addWorksheet(wb, \"Pairwise_Comparisons\")\n",
        "\n",
        "# Write the dataframe to the new sheet in the existing workbook\n",
        "writeData(wb, sheet = \"Pairwise_Comparisons\", x = df_pairwise)\n",
        "\n",
        "# Save the workbook with the new sheet, overwriting the existing file\n",
        "saveWorkbook(wb, excel, overwrite = TRUE)"
      ],
      "metadata": {
        "colab": {
          "base_uri": "https://localhost:8080/"
        },
        "outputId": "01dbfc8a-1c6a-4a2b-fdee-fef376bb40f7",
        "id": "IyUXr0qI4-zs"
      },
      "execution_count": null,
      "outputs": [
        {
          "output_type": "stream",
          "name": "stdout",
          "text": [
            "             Effect Coefficient Std..Error Z.Value   P.Value Odds_Ratio\n",
            "1  Strat1 - Strat10        0.41       0.26    1.59    0.9997       1.50\n",
            "2   Strat1 - Strat2        0.10       0.26    0.38         1       1.10\n",
            "3   Strat1 - Strat3       -1.10       0.29   -3.86   <0.01**       0.33\n",
            "4   Strat1 - Strat4       -0.21       0.25   -0.84         1       0.81\n",
            "5   Strat1 - Strat5       -2.12       0.27   -7.79 <0.001***       0.12\n",
            "6   Strat1 - Strat6        1.61       0.26    6.12 <0.001***       5.01\n",
            "7   Strat1 - Strat7       -0.77       0.25   -3.04    <0.05*       0.46\n",
            "8   Strat1 - Strat8       -0.09       0.25   -0.37         1       0.91\n",
            "9   Strat1 - Strat9        0.99       0.26    3.84   <0.01**       2.69\n",
            "10 Strat10 - Strat2       -0.31       0.25   -1.23         1       0.73\n",
            "11 Strat10 - Strat3       -1.51       0.28   -5.31 <0.001***       0.22\n",
            "12 Strat10 - Strat4       -0.62       0.25   -2.49    0.1779       0.54\n",
            "13 Strat10 - Strat5       -2.52       0.27   -9.29 <0.001***       0.08\n",
            "14 Strat10 - Strat6        1.20       0.26    4.65 <0.001***       3.33\n",
            "15 Strat10 - Strat7       -1.17       0.25   -4.69 <0.001***       0.31\n",
            "16 Strat10 - Strat8       -0.50       0.24   -2.04    0.4129       0.61\n",
            "17 Strat10 - Strat9        0.58       0.25    2.30    0.2574       1.79\n",
            "18  Strat2 - Strat3       -1.20       0.28   -4.23 <0.001***       0.30\n",
            "19  Strat2 - Strat4       -0.31       0.25   -1.24         1       0.74\n",
            "20  Strat2 - Strat5       -2.21       0.27   -8.19 <0.001***       0.11\n",
            "21  Strat2 - Strat6        1.51       0.26    5.82 <0.001***       4.55\n",
            "22  Strat2 - Strat7       -0.86       0.25   -3.45   <0.01**       0.42\n",
            "23  Strat2 - Strat8       -0.19       0.24   -0.77         1       0.83\n",
            "24  Strat2 - Strat9        0.89       0.25    3.51   <0.01**       2.45\n",
            "25  Strat3 - Strat4        0.89       0.28    3.21    <0.05*       2.44\n",
            "26  Strat3 - Strat5       -1.02       0.29   -3.49   <0.01**       0.36\n",
            "27  Strat3 - Strat6        2.71       0.29    9.22 <0.001***      15.07\n",
            "28  Strat3 - Strat7        0.34       0.28    1.21         1       1.40\n",
            "29  Strat3 - Strat8        1.01       0.27    3.68   <0.01**       2.75\n",
            "30  Strat3 - Strat9        2.09       0.29    7.27 <0.001***       8.10\n",
            "31  Strat4 - Strat5       -1.91       0.26   -7.21 <0.001***       0.15\n",
            "32  Strat4 - Strat6        1.82       0.26    7.09 <0.001***       6.18\n",
            "33  Strat4 - Strat7       -0.56       0.24   -2.28    0.2574       0.57\n",
            "34  Strat4 - Strat8        0.12       0.24    0.50         1       1.13\n",
            "35  Strat4 - Strat9        1.20       0.25    4.79 <0.001***       3.32\n",
            "36  Strat5 - Strat6        3.73       0.28   13.17 <0.001***      41.59\n",
            "37  Strat5 - Strat7        1.35       0.26    5.16 <0.001***       3.86\n",
            "38  Strat5 - Strat8        2.03       0.26    7.76 <0.001***       7.59\n",
            "39  Strat5 - Strat9        3.11       0.28   11.26 <0.001***      22.36\n",
            "40  Strat6 - Strat7       -2.38       0.26   -9.10 <0.001***       0.09\n",
            "41  Strat6 - Strat8       -1.70       0.25   -6.72 <0.001***       0.18\n",
            "42  Strat6 - Strat9       -0.62       0.26   -2.40    0.2122       0.54\n",
            "43  Strat7 - Strat8        0.68       0.24    2.82    0.0727       1.96\n",
            "44  Strat7 - Strat9        1.76       0.25    6.92 <0.001***       5.79\n",
            "45  Strat8 - Strat9        1.08       0.25    4.38 <0.001***       2.95\n",
            "   CI_Lower CI_Upper\n",
            "1      0.91     2.48\n",
            "2      0.67     1.82\n",
            "3      0.19     0.58\n",
            "4      0.50     1.32\n",
            "5      0.07     0.21\n",
            "6      2.99     8.39\n",
            "7      0.28     0.76\n",
            "8      0.56     1.48\n",
            "9      1.62     4.46\n",
            "10     0.45     1.20\n",
            "11     0.13     0.39\n",
            "12     0.33     0.88\n",
            "13     0.05     0.14\n",
            "14     2.01     5.54\n",
            "15     0.19     0.51\n",
            "16     0.38     0.98\n",
            "17     1.09     2.95\n",
            "18     0.17     0.53\n",
            "19     0.45     1.20\n",
            "20     0.06     0.19\n",
            "21     2.73     7.57\n",
            "22     0.26     0.69\n",
            "23     0.51     1.34\n",
            "24     1.48     4.03\n",
            "25     1.41     4.21\n",
            "26     0.20     0.64\n",
            "27     8.47    26.82\n",
            "28     0.81     2.41\n",
            "29     1.60     4.71\n",
            "30     4.61    14.23\n",
            "31     0.09     0.25\n",
            "32     3.73    10.22\n",
            "33     0.36     0.92\n",
            "34     0.71     1.80\n",
            "35     2.03     5.42\n",
            "36    23.88    72.45\n",
            "37     2.31     6.45\n",
            "38     4.55    12.66\n",
            "39    13.02    38.40\n",
            "40     0.06     0.15\n",
            "41     0.11     0.30\n",
            "42     0.32     0.89\n",
            "43     1.23     3.14\n",
            "44     3.52     9.52\n",
            "45     1.82     4.78\n"
          ]
        }
      ]
    },
    {
      "cell_type": "markdown",
      "source": [
        "### 2.3 Create Heatmap for Strategies"
      ],
      "metadata": {
        "id": "h-VHOD1X4-zs"
      }
    },
    {
      "cell_type": "code",
      "source": [
        "# Load necessary libraries\n",
        "library(ggplot2)\n",
        "library(scales)\n",
        "\n",
        "# Convert x and y to factors with the desired order\n",
        "df_contrasts <- transform(df_contrasts,\n",
        "                          x = as.numeric(gsub(\"Strat\", \"\", sapply(strsplit(as.character(contrast), \" - \"), \"[[\", 1))),\n",
        "                          y = as.numeric(gsub(\"Strat\", \"\", sapply(strsplit(as.character(contrast), \" - \"), \"[[\", 2))))\n",
        "\n",
        "# Reordering columns\n",
        "df_contrasts <- df_contrasts[, c(\"x\", \"y\", \"p.value\")]\n",
        "\n",
        "# Create mirrored data\n",
        "df_mirrored <- rbind(df_contrasts, transform(df_contrasts, x = y, y = x))\n",
        "\n",
        "# Create function to format p-values\n",
        "# Create function to format p-values\n",
        "format_pvalue <- function(pvalue) {\n",
        "  if (is.numeric(pvalue)) {\n",
        "    ifelse(pvalue < 0.001, \"<0.001\",\n",
        "           ifelse(pvalue < 0.01, \"<0.01\",\n",
        "                  ifelse(pvalue < 0.05, \"<0.05\", sprintf(\"%.2f\", pvalue))))\n",
        "  } else {\n",
        "    pvalue\n",
        "  }\n",
        "}\n",
        "\n",
        "# Set font sizes\n",
        "font_size_text <- 3  # Adjust font size for values in the heatmap\n",
        "font_size_axes <- 12  # Adjust font size for axes labels\n",
        "\n",
        "# Create a custom color palette\n",
        "my_colors <- c(\"#EA4235\", \"#48E56D\")\n",
        "\n",
        "# Create heatmap with borders and a distinct color palette\n",
        "plot <- ggplot(df_mirrored, aes(x = x, y = y, fill = p.value < 0.05)) +\n",
        "  geom_tile(color = \"black\", size = 1) +  # Add borders around cells\n",
        "  geom_text(aes(label = format_pvalue(p.value)), size = font_size_text, vjust = 0.5, hjust = 0.5, color = \"black\", family = \"Times New Roman\") +  # Center text\n",
        "  scale_fill_manual(values = c(\"#EA4235\", \"#48E56D\"), labels = c(\"p > 0.05\", \"p < 0.05\"), name = \"p-value\") +  # Assign colors and labels\n",
        "  labs(x = \"Strategy\",\n",
        "       y = \"Strategy\",\n",
        "       fill = NULL,\n",
        "       title = \" \",) +\n",
        "  theme_minimal() +\n",
        "  theme(axis.text.x = element_text(angle = 0, hjust = 1, size = font_size_axes, family = \"Times New Roman\"),  # Adjust font size for x axis labels\n",
        "        axis.text.y = element_text(size = font_size_axes, family = \"Times New Roman\"),  # Adjust font size for y axis labels\n",
        "        axis.title.x = element_text(size = font_size_axes, family = \"Times New Roman\"),  # Adjust font size for x axis title\n",
        "        axis.title.y = element_text(size = font_size_axes, family = \"Times New Roman\"),  # Adjust font size for y axis title\n",
        "        legend.title = element_text(family = \"Times New Roman\", hjust = 0.5),  # Set legend title font and center it\n",
        "        legend.title.align = 0.5,  # Center the legend title\n",
        "        legend.text = element_text(size = font_size_axes, family = \"Times New Roman\", margin = margin(0, 10, 0, 0)),  # Adjust legend text size and margin\n",
        "        panel.grid = element_blank(),  # Remove grid lines\n",
        "        panel.border = element_rect(color = \"black\", fill = NA),  # Add border around plot\n",
        "        axis.line = element_line(color = \"black\"),\n",
        "        plot.title = element_text(hjust = 0.5, family = \"Times New Roman\"),\n",
        "        plot.caption = element_text(hjust = 0.5, family = \"Times New Roman\")) +  # Center the title\n",
        "  scale_x_continuous(breaks = seq(min(df_mirrored$x), max(df_mirrored$x), by = 1)) +\n",
        "  scale_y_continuous(breaks = seq(min(df_mirrored$y), max(df_mirrored$y), by = 1))\n",
        "\n",
        "# Save the plot as a scalable vector graphic (SVG) with higher resolution\n",
        "plot\n",
        "ggsave(\"HeatmapSpanishA.svg\", plot, width = 8, height = 6, dpi = 300)"
      ],
      "metadata": {
        "colab": {
          "base_uri": "https://localhost:8080/",
          "height": 437
        },
        "outputId": "123db0ba-d236-4826-b962-b923acd1c8b9",
        "id": "tukPagIw4-zt"
      },
      "execution_count": null,
      "outputs": [
        {
          "output_type": "display_data",
          "data": {
            "text/plain": [
              "plot without title"
            ],
            "image/png": "[encoded data removed]"
          },
          "metadata": {
            "image/png": {
              "width": 420,
              "height": 420
            }
          }
        }
      ]
    },
    {
      "cell_type": "markdown",
      "source": [
        "## Spanish B\n"
      ],
      "metadata": {
        "id": "Z5TAbG7q5h1B"
      }
    },
    {
      "cell_type": "markdown",
      "source": [
        "### 2.0 Load Data"
      ],
      "metadata": {
        "id": "ZldYGWh85h1J"
      }
    },
    {
      "cell_type": "code",
      "source": [
        "#This is the data that shows Language, Task, Strategy, and Likert Scores (acceptability judgements) for all tasks\n",
        "# data <- read.csv(\"https://raw.githubusercontent.com/MatthewCGalbraith/FrontiersData/main/ajfullAB.csv\")\n",
        "\n",
        "#This is the data that shows Language, Task, Strategy, and Likert Scores (acceptability judgements) for all Task A and Task B for English ONLY\n",
        "# data <- read.csv(\"https://raw.githubusercontent.com/MatthewCGalbraith/FrontiersData/main/ajfullABEnglish.csv\")\n",
        "\n",
        "#This is the data that shows Language, Task, Strategy, and Likert Scores (acceptability judgements) for all Task A and Task B for Spanish ONLY\n",
        "# data <- read.csv(\"https://raw.githubusercontent.com/MatthewCGalbraith/FrontiersData/main/ajfullABSpanish.csv\")\n",
        "\n",
        "#This is the data that shows Language, Task, Strategy, and Likert Scores (acceptability judgements) for Task A for English ONLY\n",
        "# data <- read.csv(\"https://raw.githubusercontent.com/MatthewCGalbraith/FrontiersData/main/ajEnglishA.csv\")\n",
        "\n",
        "#This is the data that shows Language, Task, Strategy, and Likert Scores (acceptability judgements) for Task B for English ONLY\n",
        "# data <- read.csv(\"https://raw.githubusercontent.com/MatthewCGalbraith/FrontiersData/main/ajEnglishB.csv\")\n",
        "\n",
        "#This is the data that shows Language, Task, Strategy, and Likert Scores (acceptability judgements) for Task A for Spanish ONLY\n",
        "# data <- read.csv(\"https://raw.githubusercontent.com/MatthewCGalbraith/FrontiersData/main/ajSpanishA.csv\")\n",
        "\n",
        "#This is the data that shows Language, Task, Strategy, and Likert Scores (acceptability judgements) for Task B for Spanish ONLY\n",
        "data <- read.csv(\"https://raw.githubusercontent.com/MatthewCGalbraith/FrontiersData/main/ajSpanishB.csv\")"
      ],
      "metadata": {
        "id": "oG5BfI8P5h1J"
      },
      "execution_count": null,
      "outputs": []
    },
    {
      "cell_type": "code",
      "source": [
        "# Set excel path for the data to be written\n",
        "excel <- \"ajSpanishB.xlsx\""
      ],
      "metadata": {
        "id": "GUazhc1u5h1J"
      },
      "execution_count": null,
      "outputs": []
    },
    {
      "cell_type": "markdown",
      "source": [
        "### 2.1 Fit Ordinal Model"
      ],
      "metadata": {
        "id": "Yt-ikjgQ5h1J"
      }
    },
    {
      "cell_type": "code",
      "source": [
        "# library(ordinal)\n",
        "\n",
        "# # Convert Likert to factor\n",
        "# data$Likert <- factor(data$Likert)\n",
        "\n",
        "# # Fit the Ordinal Regression Model\n",
        "# o <- clm(Likert ~ Strategy,\n",
        "#          data = data)\n",
        "# # Check summary of model\n",
        "# summary(o)"
      ],
      "metadata": {
        "id": "HvRJrdAI5h1J"
      },
      "execution_count": null,
      "outputs": []
    },
    {
      "cell_type": "code",
      "source": [
        "library(ordinal)\n",
        "library(broom)\n",
        "library(writexl)\n",
        "\n",
        "# Convert Likert to factor\n",
        "data$Likert <- factor(data$Likert)\n",
        "\n",
        "# Fit the Ordinal Regression Model\n",
        "o <- clm(Likert ~ Strategy + Assistant, data = data)\n",
        "\n",
        "# Extract coefficients and related information\n",
        "coefficients_df <- tidy(o)\n",
        "\n",
        "# Extract Odds Ratios and Confidence Intervals\n",
        "odds_ratio <- exp(coef(o))\n",
        "conf_intervals <- exp(confint.default(o))\n",
        "\n",
        "# Create a dataframe\n",
        "effect <- rownames(coefficients_df)\n",
        "coefficient <- coefficients_df$estimate\n",
        "std_error <- coefficients_df$std.error\n",
        "z_value <- coefficients_df$statistic\n",
        "p_value <- coefficients_df$p.value\n",
        "odds_ratio_val <- odds_ratio\n",
        "ci_lower <- conf_intervals[, \"2.5 %\"]\n",
        "ci_upper <- conf_intervals[, \"97.5 %\"]\n",
        "\n",
        "# Combine into a dataframe\n",
        "result_df <- data.frame(\n",
        "  Effect = effect,\n",
        "  Coefficient = round(coefficient, 2),\n",
        "  `Std. Error` = round(std_error, 2),\n",
        "  `Z Value` = round(z_value, 2),\n",
        "  `P Value` = ifelse(p_value < 0.001, \"<0.001***\", ifelse(p_value < 0.01, \"<0.01**\", ifelse(p_value < 0.05, \"<0.05*\", round(p_value, 2)))),\n",
        "  `Odds Ratio` = round(odds_ratio_val, 2),\n",
        "  `CI Lower` = round(ci_lower, 2),\n",
        "  `CI Upper` = round(ci_upper, 2)\n",
        ")\n",
        "\n",
        "# Extract main effects coefficients and related information\n",
        "main_effects <- coefficients_df[grepl(\"Strategy|Assistant\", coefficients_df$term) & !grepl(\":\", coefficients_df$term), ]\n",
        "\n",
        "# Extract main effects Odds Ratios and Confidence Intervals\n",
        "main_odds_ratio <- exp(coef(o)[grepl(\"Strategy|Assistant\", names(coef(o))) & !grepl(\":\", names(coef(o)))])\n",
        "main_conf_intervals <- exp(confint.default(o)[grepl(\"Strategy|Assistant\", names(coef(o))) & !grepl(\":\", names(coef(o))), ])\n",
        "\n",
        "# Create a dataframe for main effects\n",
        "main_effects_df <- data.frame(\n",
        "  Effect = main_effects$term,\n",
        "  Coefficient = round(main_effects$estimate, 2),\n",
        "  `Std. Error` = round(main_effects$std.error, 2),\n",
        "  `Z Value` = round(main_effects$statistic, 2),\n",
        "  `P Value` = ifelse(main_effects$p.value < 0.001, \"<0.001***\", ifelse(main_effects$p.value < 0.01, \"<0.01**\", ifelse(main_effects$p.value < 0.05, \"<0.05*\", round(main_effects$p.value, 2)))),\n",
        "  `Odds Ratio` = round(main_odds_ratio, 2),\n",
        "  `CI Lower` = round(main_conf_intervals[, \"2.5 %\"], 2),\n",
        "  `CI Upper` = round(main_conf_intervals[, \"97.5 %\"], 2)\n",
        ")\n",
        "\n",
        "# Modify Effect labels for Main Effects\n",
        "main_effects_df$Effect <- gsub(\"StrategyStrat\", \"Strategy \", main_effects_df$Effect)\n",
        "main_effects_df$Effect <- gsub(\"AssistantSiri\", \"Siri\", main_effects_df$Effect)\n",
        "\n",
        "# Add \"Strategy 1\" with a coefficient of 0 to main effects\n",
        "main_effects_df <- rbind(main_effects_df, data.frame(Effect = \"Strategy 1\", Coefficient = 0, `Std. Error` = NA, `Z Value` = NA, `P Value` = NA, `Odds Ratio` = NA, `CI Lower` = NA, `CI Upper` = NA))\n",
        "\n",
        "# Order main effects dataframe by Coefficient in descending order\n",
        "main_effects_df <- main_effects_df[order(-main_effects_df$Coefficient), ]\n",
        "\n",
        "# Print the modified main effects dataframe\n",
        "main_effects_df\n",
        "\n",
        "# Extract interaction effects coefficients and related information\n",
        "interaction_effects <- coefficients_df[grepl(\":\", coefficients_df$term), ]\n",
        "\n",
        "# Extract interaction effects Odds Ratios and Confidence Intervals\n",
        "interaction_odds_ratio <- exp(coef(o)[grepl(\":\", names(coef(o)))])\n",
        "interaction_conf_intervals <- exp(confint.default(o)[grepl(\":\", names(coef(o))), ])\n",
        "\n",
        "# Create a dataframe for interaction effects\n",
        "interaction_effects_df <- data.frame(\n",
        "  Effect = interaction_effects$term,\n",
        "  Coefficient = round(interaction_effects$estimate, 2),\n",
        "  `Std. Error` = round(interaction_effects$std.error, 2),\n",
        "  `Z Value` = round(interaction_effects$statistic, 2),\n",
        "  `P Value` = ifelse(interaction_effects$p.value < 0.001, \"<0.001***\", ifelse(interaction_effects$p.value < 0.01, \"<0.01**\", ifelse(interaction_effects$p.value < 0.05, \"<0.05*\", round(interaction_effects$p.value, 2)))),\n",
        "  `Odds Ratio` = round(interaction_odds_ratio, 2),\n",
        "  `CI Lower` = round(interaction_conf_intervals[, \"2.5 %\"], 2),\n",
        "  `CI Upper` = round(interaction_conf_intervals[, \"97.5 %\"], 2)\n",
        ")\n",
        "\n",
        "# Modify Effect labels for Interaction Effects\n",
        "interaction_effects_df$Effect <- gsub(\":AssistantSiri\", \" - Siri\", interaction_effects_df$Effect)\n",
        "interaction_effects_df$Effect <- gsub(\"StrategyStrat\", \"Strategy \", interaction_effects_df$Effect)\n",
        "interaction_effects_df$Effect <- gsub(\"AssistantSiri\", \"Siri\", interaction_effects_df$Effect)\n",
        "\n",
        "# Add \"Strategy 1 - Siri\" with a coefficient of 0 to interaction effects\n",
        "interaction_effects_df <- rbind(interaction_effects_df, data.frame(Effect = \"Strategy 1 - Siri\", Coefficient = 0, `Std. Error` = NA, `Z Value` = NA, `P Value` = NA, `Odds Ratio` = NA, `CI Lower` = NA, `CI Upper` = NA))\n",
        "\n",
        "# Order interaction effects dataframe by Coefficient in descending order\n",
        "interaction_effects_df <- interaction_effects_df[order(-interaction_effects_df$Coefficient), ]\n",
        "\n",
        "# Print the modified interaction effects dataframe\n",
        "interaction_effects_df\n",
        "\n",
        "# Create a workbook\n",
        "wb <- createWorkbook()\n",
        "\n",
        "# Add main_effects_df to the workbook\n",
        "addWorksheet(wb, \"Main Effects\")\n",
        "writeData(wb, \"Main Effects\", main_effects_df)\n",
        "\n",
        "# Add interaction_effects_df to the workbook\n",
        "addWorksheet(wb, \"Interaction Effects\")\n",
        "writeData(wb, \"Interaction Effects\", interaction_effects_df)\n",
        "\n",
        "# Save the workbook to Excel file\n",
        "saveWorkbook(wb, file = excel, overwrite = TRUE)\n",
        "\n",
        "# Confirm completion\n",
        "cat(\"Dataframes written to 'excel' successfully!\\n\")"
      ],
      "metadata": {
        "colab": {
          "base_uri": "https://localhost:8080/",
          "height": 572
        },
        "outputId": "19832f26-ae26-4ab1-b450-843605642dd8",
        "id": "m1uznsyo5h1J"
      },
      "execution_count": null,
      "outputs": [
        {
          "output_type": "display_data",
          "data": {
            "text/html": [
              "<table class=\"dataframe\">\n",
              "<caption>A data.frame: 11 × 8</caption>\n",
              "<thead>\n",
              "\t<tr><th></th><th scope=col>Effect</th><th scope=col>Coefficient</th><th scope=col>Std..Error</th><th scope=col>Z.Value</th><th scope=col>P.Value</th><th scope=col>Odds.Ratio</th><th scope=col>CI.Lower</th><th scope=col>CI.Upper</th></tr>\n",
              "\t<tr><th></th><th scope=col>&lt;chr&gt;</th><th scope=col>&lt;dbl&gt;</th><th scope=col>&lt;dbl&gt;</th><th scope=col>&lt;dbl&gt;</th><th scope=col>&lt;chr&gt;</th><th scope=col>&lt;dbl&gt;</th><th scope=col>&lt;dbl&gt;</th><th scope=col>&lt;dbl&gt;</th></tr>\n",
              "</thead>\n",
              "<tbody>\n",
              "\t<tr><th scope=row>StrategyStrat5</th><td>Strategy 5 </td><td> 2.24</td><td>0.32</td><td> 7.06</td><td>&lt;0.001***</td><td>9.36</td><td>5.03</td><td>17.41</td></tr>\n",
              "\t<tr><th scope=row>StrategyStrat3</th><td>Strategy 3 </td><td> 1.67</td><td>0.28</td><td> 5.88</td><td>&lt;0.001***</td><td>5.34</td><td>3.06</td><td> 9.33</td></tr>\n",
              "\t<tr><th scope=row>AssistantSiri</th><td><span style=white-space:pre-wrap>Siri       </span></td><td> 0.45</td><td>0.12</td><td> 3.72</td><td>&lt;0.001***</td><td>1.56</td><td>1.23</td><td> 1.97</td></tr>\n",
              "\t<tr><th scope=row>StrategyStrat8</th><td>Strategy 8 </td><td> 0.11</td><td>0.25</td><td> 0.42</td><td>0.67     </td><td>1.11</td><td>0.68</td><td> 1.80</td></tr>\n",
              "\t<tr><th scope=row>1</th><td>Strategy 1 </td><td> 0.00</td><td>  NA</td><td>   NA</td><td>NA       </td><td>  NA</td><td>  NA</td><td>   NA</td></tr>\n",
              "\t<tr><th scope=row>StrategyStrat4</th><td>Strategy 4 </td><td>-0.63</td><td>0.26</td><td>-2.44</td><td><span style=white-space:pre-wrap>&lt;0.05*   </span></td><td>0.53</td><td>0.32</td><td> 0.88</td></tr>\n",
              "\t<tr><th scope=row>StrategyStrat2</th><td>Strategy 2 </td><td>-0.92</td><td>0.26</td><td>-3.55</td><td>&lt;0.001***</td><td>0.40</td><td>0.24</td><td> 0.66</td></tr>\n",
              "\t<tr><th scope=row>StrategyStrat7</th><td>Strategy 7 </td><td>-1.65</td><td>0.26</td><td>-6.25</td><td>&lt;0.001***</td><td>0.19</td><td>0.11</td><td> 0.32</td></tr>\n",
              "\t<tr><th scope=row>StrategyStrat10</th><td>Strategy 10</td><td>-1.72</td><td>0.26</td><td>-6.69</td><td>&lt;0.001***</td><td>0.18</td><td>0.11</td><td> 0.30</td></tr>\n",
              "\t<tr><th scope=row>StrategyStrat9</th><td>Strategy 9 </td><td>-1.75</td><td>0.25</td><td>-6.89</td><td>&lt;0.001***</td><td>0.17</td><td>0.11</td><td> 0.29</td></tr>\n",
              "\t<tr><th scope=row>StrategyStrat6</th><td>Strategy 6 </td><td>-2.22</td><td>0.26</td><td>-8.62</td><td>&lt;0.001***</td><td>0.11</td><td>0.07</td><td> 0.18</td></tr>\n",
              "</tbody>\n",
              "</table>\n"
            ],
            "text/markdown": "\nA data.frame: 11 × 8\n\n| <!--/--> | Effect &lt;chr&gt; | Coefficient &lt;dbl&gt; | Std..Error &lt;dbl&gt; | Z.Value &lt;dbl&gt; | P.Value &lt;chr&gt; | Odds.Ratio &lt;dbl&gt; | CI.Lower &lt;dbl&gt; | CI.Upper &lt;dbl&gt; |\n|---|---|---|---|---|---|---|---|---|\n| StrategyStrat5 | Strategy 5  |  2.24 | 0.32 |  7.06 | &lt;0.001*** | 9.36 | 5.03 | 17.41 |\n| StrategyStrat3 | Strategy 3  |  1.67 | 0.28 |  5.88 | &lt;0.001*** | 5.34 | 3.06 |  9.33 |\n| AssistantSiri | Siri        |  0.45 | 0.12 |  3.72 | &lt;0.001*** | 1.56 | 1.23 |  1.97 |\n| StrategyStrat8 | Strategy 8  |  0.11 | 0.25 |  0.42 | 0.67      | 1.11 | 0.68 |  1.80 |\n| 1 | Strategy 1  |  0.00 |   NA |    NA | NA        |   NA |   NA |    NA |\n| StrategyStrat4 | Strategy 4  | -0.63 | 0.26 | -2.44 | &lt;0.05*    | 0.53 | 0.32 |  0.88 |\n| StrategyStrat2 | Strategy 2  | -0.92 | 0.26 | -3.55 | &lt;0.001*** | 0.40 | 0.24 |  0.66 |\n| StrategyStrat7 | Strategy 7  | -1.65 | 0.26 | -6.25 | &lt;0.001*** | 0.19 | 0.11 |  0.32 |\n| StrategyStrat10 | Strategy 10 | -1.72 | 0.26 | -6.69 | &lt;0.001*** | 0.18 | 0.11 |  0.30 |\n| StrategyStrat9 | Strategy 9  | -1.75 | 0.25 | -6.89 | &lt;0.001*** | 0.17 | 0.11 |  0.29 |\n| StrategyStrat6 | Strategy 6  | -2.22 | 0.26 | -8.62 | &lt;0.001*** | 0.11 | 0.07 |  0.18 |\n\n",
            "text/latex": "A data.frame: 11 × 8\n\\begin{tabular}{r|llllllll}\n  & Effect & Coefficient & Std..Error & Z.Value & P.Value & Odds.Ratio & CI.Lower & CI.Upper\\\\\n  & <chr> & <dbl> & <dbl> & <dbl> & <chr> & <dbl> & <dbl> & <dbl>\\\\\n\\hline\n\tStrategyStrat5 & Strategy 5  &  2.24 & 0.32 &  7.06 & <0.001*** & 9.36 & 5.03 & 17.41\\\\\n\tStrategyStrat3 & Strategy 3  &  1.67 & 0.28 &  5.88 & <0.001*** & 5.34 & 3.06 &  9.33\\\\\n\tAssistantSiri & Siri        &  0.45 & 0.12 &  3.72 & <0.001*** & 1.56 & 1.23 &  1.97\\\\\n\tStrategyStrat8 & Strategy 8  &  0.11 & 0.25 &  0.42 & 0.67      & 1.11 & 0.68 &  1.80\\\\\n\t1 & Strategy 1  &  0.00 &   NA &    NA & NA        &   NA &   NA &    NA\\\\\n\tStrategyStrat4 & Strategy 4  & -0.63 & 0.26 & -2.44 & <0.05*    & 0.53 & 0.32 &  0.88\\\\\n\tStrategyStrat2 & Strategy 2  & -0.92 & 0.26 & -3.55 & <0.001*** & 0.40 & 0.24 &  0.66\\\\\n\tStrategyStrat7 & Strategy 7  & -1.65 & 0.26 & -6.25 & <0.001*** & 0.19 & 0.11 &  0.32\\\\\n\tStrategyStrat10 & Strategy 10 & -1.72 & 0.26 & -6.69 & <0.001*** & 0.18 & 0.11 &  0.30\\\\\n\tStrategyStrat9 & Strategy 9  & -1.75 & 0.25 & -6.89 & <0.001*** & 0.17 & 0.11 &  0.29\\\\\n\tStrategyStrat6 & Strategy 6  & -2.22 & 0.26 & -8.62 & <0.001*** & 0.11 & 0.07 &  0.18\\\\\n\\end{tabular}\n",
            "text/plain": [
              "                Effect      Coefficient Std..Error Z.Value P.Value   Odds.Ratio\n",
              "StrategyStrat5  Strategy 5   2.24       0.32        7.06   <0.001*** 9.36      \n",
              "StrategyStrat3  Strategy 3   1.67       0.28        5.88   <0.001*** 5.34      \n",
              "AssistantSiri   Siri         0.45       0.12        3.72   <0.001*** 1.56      \n",
              "StrategyStrat8  Strategy 8   0.11       0.25        0.42   0.67      1.11      \n",
              "1               Strategy 1   0.00         NA          NA   NA          NA      \n",
              "StrategyStrat4  Strategy 4  -0.63       0.26       -2.44   <0.05*    0.53      \n",
              "StrategyStrat2  Strategy 2  -0.92       0.26       -3.55   <0.001*** 0.40      \n",
              "StrategyStrat7  Strategy 7  -1.65       0.26       -6.25   <0.001*** 0.19      \n",
              "StrategyStrat10 Strategy 10 -1.72       0.26       -6.69   <0.001*** 0.18      \n",
              "StrategyStrat9  Strategy 9  -1.75       0.25       -6.89   <0.001*** 0.17      \n",
              "StrategyStrat6  Strategy 6  -2.22       0.26       -8.62   <0.001*** 0.11      \n",
              "                CI.Lower CI.Upper\n",
              "StrategyStrat5  5.03     17.41   \n",
              "StrategyStrat3  3.06      9.33   \n",
              "AssistantSiri   1.23      1.97   \n",
              "StrategyStrat8  0.68      1.80   \n",
              "1                 NA        NA   \n",
              "StrategyStrat4  0.32      0.88   \n",
              "StrategyStrat2  0.24      0.66   \n",
              "StrategyStrat7  0.11      0.32   \n",
              "StrategyStrat10 0.11      0.30   \n",
              "StrategyStrat9  0.11      0.29   \n",
              "StrategyStrat6  0.07      0.18   "
            ]
          },
          "metadata": {}
        },
        {
          "output_type": "display_data",
          "data": {
            "text/html": [
              "<table class=\"dataframe\">\n",
              "<caption>A data.frame: 1 × 8</caption>\n",
              "<thead>\n",
              "\t<tr><th></th><th scope=col>Effect</th><th scope=col>Coefficient</th><th scope=col>Std..Error</th><th scope=col>Z.Value</th><th scope=col>P.Value</th><th scope=col>Odds.Ratio</th><th scope=col>CI.Lower</th><th scope=col>CI.Upper</th></tr>\n",
              "\t<tr><th></th><th scope=col>&lt;chr&gt;</th><th scope=col>&lt;dbl&gt;</th><th scope=col>&lt;lgl&gt;</th><th scope=col>&lt;lgl&gt;</th><th scope=col>&lt;lgl&gt;</th><th scope=col>&lt;lgl&gt;</th><th scope=col>&lt;lgl&gt;</th><th scope=col>&lt;lgl&gt;</th></tr>\n",
              "</thead>\n",
              "<tbody>\n",
              "\t<tr><th scope=row>1</th><td>Strategy 1 - Siri</td><td>0</td><td>NA</td><td>NA</td><td>NA</td><td>NA</td><td>NA</td><td>NA</td></tr>\n",
              "</tbody>\n",
              "</table>\n"
            ],
            "text/markdown": "\nA data.frame: 1 × 8\n\n| <!--/--> | Effect &lt;chr&gt; | Coefficient &lt;dbl&gt; | Std..Error &lt;lgl&gt; | Z.Value &lt;lgl&gt; | P.Value &lt;lgl&gt; | Odds.Ratio &lt;lgl&gt; | CI.Lower &lt;lgl&gt; | CI.Upper &lt;lgl&gt; |\n|---|---|---|---|---|---|---|---|---|\n| 1 | Strategy 1 - Siri | 0 | NA | NA | NA | NA | NA | NA |\n\n",
            "text/latex": "A data.frame: 1 × 8\n\\begin{tabular}{r|llllllll}\n  & Effect & Coefficient & Std..Error & Z.Value & P.Value & Odds.Ratio & CI.Lower & CI.Upper\\\\\n  & <chr> & <dbl> & <lgl> & <lgl> & <lgl> & <lgl> & <lgl> & <lgl>\\\\\n\\hline\n\t1 & Strategy 1 - Siri & 0 & NA & NA & NA & NA & NA & NA\\\\\n\\end{tabular}\n",
            "text/plain": [
              "  Effect            Coefficient Std..Error Z.Value P.Value Odds.Ratio CI.Lower\n",
              "1 Strategy 1 - Siri 0           NA         NA      NA      NA         NA      \n",
              "  CI.Upper\n",
              "1 NA      "
            ]
          },
          "metadata": {}
        },
        {
          "output_type": "stream",
          "name": "stdout",
          "text": [
            "Dataframes written to 'excel' successfully!\n"
          ]
        }
      ]
    },
    {
      "cell_type": "markdown",
      "source": [
        "### 2.2 Pairwise Comparisons for Strategies"
      ],
      "metadata": {
        "id": "b50B6DEJ5h1K"
      }
    },
    {
      "cell_type": "code",
      "source": [
        "library(emmeans)\n",
        "\n",
        "# Calculate Estimated Marginal Means for Strategy variable\n",
        "emm_strategy <- emmeans(o, pairwise ~ Strategy)\n",
        "\n",
        "# Extract the results\n",
        "results <- summary(emm_strategy, adjust = \"holm\")\n",
        "\n",
        "# Convert the contrasts table to a dataframe\n",
        "df_contrasts <- as.data.frame(results$contrasts)\n",
        "\n",
        "# Create a function to format P values\n",
        "format_pvalue <- function(p_value) {\n",
        "  if (p_value < 0.001) {\n",
        "    return(\"<0.001***\")\n",
        "  } else if (p_value < 0.01) {\n",
        "    return(\"<0.01**\")\n",
        "  } else if (p_value < 0.05) {\n",
        "    return(\"<0.05*\")\n",
        "  } else {\n",
        "    return(paste0(\"\", round(p_value, 4)))\n",
        "  }\n",
        "}\n",
        "\n",
        "# Create dataframe for pairwise comparisons\n",
        "df_pairwise <- data.frame(\n",
        "  Effect = df_contrasts$contrast,\n",
        "  Coefficient = round(df_contrasts$estimate, 2),\n",
        "  `Std. Error` = round(df_contrasts$SE, 2),\n",
        "  `Z Value` = round(df_contrasts$z.ratio, 2),\n",
        "  `P Value` = sapply(df_contrasts$p.value, format_pvalue),\n",
        "  Odds_Ratio = round(exp(df_contrasts$estimate), 2),\n",
        "  CI_Lower = round(exp(df_contrasts$estimate - 1.96 * df_contrasts$SE), 2),\n",
        "  CI_Upper = round(exp(df_contrasts$estimate + 1.96 * df_contrasts$SE), 2)\n",
        ")\n",
        "\n",
        "# Print the new pairwise dataframe\n",
        "print(df_pairwise)\n",
        "\n",
        "# Load the existing workbook\n",
        "wb <- loadWorkbook(excel)\n",
        "\n",
        "# Add a new sheet to the existing workbook\n",
        "addWorksheet(wb, \"Pairwise_Comparisons\")\n",
        "\n",
        "# Write the dataframe to the new sheet in the existing workbook\n",
        "writeData(wb, sheet = \"Pairwise_Comparisons\", x = df_pairwise)\n",
        "\n",
        "# Save the workbook with the new sheet, overwriting the existing file\n",
        "saveWorkbook(wb, excel, overwrite = TRUE)"
      ],
      "metadata": {
        "colab": {
          "base_uri": "https://localhost:8080/"
        },
        "outputId": "304f9fa4-1be9-436e-856f-8954a93f5159",
        "id": "vpyV_Tds5h1K"
      },
      "execution_count": null,
      "outputs": [
        {
          "output_type": "stream",
          "name": "stdout",
          "text": [
            "             Effect Coefficient Std..Error Z.Value   P.Value Odds_Ratio\n",
            "1  Strat1 - Strat10        1.72       0.26    6.69 <0.001***       5.61\n",
            "2   Strat1 - Strat2        0.92       0.26    3.55   <0.01**       2.51\n",
            "3   Strat1 - Strat3       -1.67       0.28   -5.88 <0.001***       0.19\n",
            "4   Strat1 - Strat4        0.63       0.26    2.44    0.1457       1.87\n",
            "5   Strat1 - Strat5       -2.24       0.32   -7.06 <0.001***       0.11\n",
            "6   Strat1 - Strat6        2.22       0.26    8.62 <0.001***       9.24\n",
            "7   Strat1 - Strat7        1.65       0.26    6.25 <0.001***       5.21\n",
            "8   Strat1 - Strat8       -0.11       0.25   -0.42         1       0.90\n",
            "9   Strat1 - Strat9        1.75       0.25    6.89 <0.001***       5.76\n",
            "10 Strat10 - Strat2       -0.80       0.26   -3.09    <0.05*       0.45\n",
            "11 Strat10 - Strat3       -3.40       0.30  -11.44 <0.001***       0.03\n",
            "12 Strat10 - Strat4       -1.10       0.26   -4.22 <0.001***       0.33\n",
            "13 Strat10 - Strat5       -3.96       0.33  -12.06 <0.001***       0.02\n",
            "14 Strat10 - Strat6        0.50       0.25    1.99    0.3771       1.65\n",
            "15 Strat10 - Strat7       -0.07       0.26   -0.28         1       0.93\n",
            "16 Strat10 - Strat8       -1.83       0.26   -7.13 <0.001***       0.16\n",
            "17 Strat10 - Strat9        0.03       0.25    0.11         1       1.03\n",
            "18  Strat2 - Strat3       -2.60       0.30   -8.77 <0.001***       0.07\n",
            "19  Strat2 - Strat4       -0.29       0.26   -1.12         1       0.75\n",
            "20  Strat2 - Strat5       -3.16       0.33   -9.65 <0.001***       0.04\n",
            "21  Strat2 - Strat6        1.30       0.26    5.03 <0.001***       3.68\n",
            "22  Strat2 - Strat7        0.73       0.27    2.73    0.0692       2.07\n",
            "23  Strat2 - Strat8       -1.03       0.26   -3.98   <0.01**       0.36\n",
            "24  Strat2 - Strat9        0.83       0.26    3.23    <0.05*       2.30\n",
            "25  Strat3 - Strat4        2.30       0.29    7.84 <0.001***       9.99\n",
            "26  Strat3 - Strat5       -0.56       0.34   -1.65    0.5981       0.57\n",
            "27  Strat3 - Strat6        3.90       0.30   13.09 <0.001***      49.35\n",
            "28  Strat3 - Strat7        3.33       0.30   11.01 <0.001***      27.80\n",
            "29  Strat3 - Strat8        1.57       0.28    5.56 <0.001***       4.81\n",
            "30  Strat3 - Strat9        3.43       0.29   11.65 <0.001***      30.77\n",
            "31  Strat4 - Strat5       -2.86       0.32   -8.81 <0.001***       0.06\n",
            "32  Strat4 - Strat6        1.60       0.26    6.16 <0.001***       4.94\n",
            "33  Strat4 - Strat7        1.02       0.27    3.84   <0.01**       2.78\n",
            "34  Strat4 - Strat8       -0.73       0.25   -2.87    <0.05*       0.48\n",
            "35  Strat4 - Strat9        1.12       0.26    4.38 <0.001***       3.08\n",
            "36  Strat5 - Strat6        4.46       0.33   13.55 <0.001***      86.49\n",
            "37  Strat5 - Strat7        3.89       0.33   11.68 <0.001***      48.73\n",
            "38  Strat5 - Strat8        2.13       0.31    6.77 <0.001***       8.42\n",
            "39  Strat5 - Strat9        3.99       0.33   12.24 <0.001***      53.93\n",
            "40  Strat6 - Strat7       -0.57       0.26   -2.22    0.2384       0.56\n",
            "41  Strat6 - Strat8       -2.33       0.26   -9.06 <0.001***       0.10\n",
            "42  Strat6 - Strat9       -0.47       0.25   -1.90    0.4025       0.62\n",
            "43  Strat7 - Strat8       -1.76       0.26   -6.68 <0.001***       0.17\n",
            "44  Strat7 - Strat9        0.10       0.26    0.39         1       1.11\n",
            "45  Strat8 - Strat9        1.86       0.25    7.33 <0.001***       6.40\n",
            "   CI_Lower CI_Upper\n",
            "1      3.38     9.29\n",
            "2      1.51     4.17\n",
            "3      0.11     0.33\n",
            "4      1.13     3.09\n",
            "5      0.06     0.20\n",
            "6      5.58    15.32\n",
            "7      3.10     8.74\n",
            "8      0.55     1.46\n",
            "9      3.50     9.49\n",
            "10     0.27     0.75\n",
            "11     0.02     0.06\n",
            "12     0.20     0.56\n",
            "13     0.01     0.04\n",
            "14     1.01     2.70\n",
            "15     0.56     1.55\n",
            "16     0.10     0.27\n",
            "17     0.63     1.68\n",
            "18     0.04     0.13\n",
            "19     0.45     1.25\n",
            "20     0.02     0.08\n",
            "21     2.21     6.12\n",
            "22     1.23     3.50\n",
            "23     0.22     0.59\n",
            "24     1.39     3.80\n",
            "25     5.62    17.76\n",
            "26     0.29     1.11\n",
            "27    27.52    88.49\n",
            "28    15.38    50.25\n",
            "29     2.76     8.36\n",
            "30    17.29    54.78\n",
            "31     0.03     0.11\n",
            "32     2.97     8.21\n",
            "33     1.65     4.69\n",
            "34     0.29     0.79\n",
            "35     1.86     5.10\n",
            "36    45.36   164.90\n",
            "37    25.38    93.55\n",
            "38     4.55    15.61\n",
            "39    28.48   102.13\n",
            "40     0.34     0.94\n",
            "41     0.06     0.16\n",
            "42     0.38     1.02\n",
            "43     0.10     0.29\n",
            "44     0.67     1.84\n",
            "45     3.90    10.52\n"
          ]
        }
      ]
    },
    {
      "cell_type": "markdown",
      "source": [
        "### 2.3 Create Heatmap for Strategies"
      ],
      "metadata": {
        "id": "v41-bnVS5h1K"
      }
    },
    {
      "cell_type": "code",
      "source": [
        "# Load necessary libraries\n",
        "library(ggplot2)\n",
        "library(scales)\n",
        "\n",
        "# Convert x and y to factors with the desired order\n",
        "df_contrasts <- transform(df_contrasts,\n",
        "                          x = as.numeric(gsub(\"Strat\", \"\", sapply(strsplit(as.character(contrast), \" - \"), \"[[\", 1))),\n",
        "                          y = as.numeric(gsub(\"Strat\", \"\", sapply(strsplit(as.character(contrast), \" - \"), \"[[\", 2))))\n",
        "\n",
        "# Reordering columns\n",
        "df_contrasts <- df_contrasts[, c(\"x\", \"y\", \"p.value\")]\n",
        "\n",
        "# Create mirrored data\n",
        "df_mirrored <- rbind(df_contrasts, transform(df_contrasts, x = y, y = x))\n",
        "\n",
        "# Create function to format p-values\n",
        "# Create function to format p-values\n",
        "format_pvalue <- function(pvalue) {\n",
        "  if (is.numeric(pvalue)) {\n",
        "    ifelse(pvalue < 0.001, \"<0.001\",\n",
        "           ifelse(pvalue < 0.01, \"<0.01\",\n",
        "                  ifelse(pvalue < 0.05, \"<0.05\", sprintf(\"%.2f\", pvalue))))\n",
        "  } else {\n",
        "    pvalue\n",
        "  }\n",
        "}\n",
        "\n",
        "# Set font sizes\n",
        "font_size_text <- 3  # Adjust font size for values in the heatmap\n",
        "font_size_axes <- 12  # Adjust font size for axes labels\n",
        "\n",
        "# Create a custom color palette\n",
        "my_colors <- c(\"#EA4235\", \"#48E56D\")\n",
        "\n",
        "# Create heatmap with borders and a distinct color palette\n",
        "plot <- ggplot(df_mirrored, aes(x = x, y = y, fill = p.value < 0.05)) +\n",
        "  geom_tile(color = \"black\", size = 1) +  # Add borders around cells\n",
        "  geom_text(aes(label = format_pvalue(p.value)), size = font_size_text, vjust = 0.5, hjust = 0.5, color = \"black\", family = \"Times New Roman\") +  # Center text\n",
        "  scale_fill_manual(values = c(\"#EA4235\", \"#48E56D\"), labels = c(\"p > 0.05\", \"p < 0.05\"), name = \"p-value\") +  # Assign colors and labels\n",
        "  labs(x = \"Strategy\",\n",
        "       y = \"Strategy\",\n",
        "       fill = NULL,\n",
        "       title = \" \",) +\n",
        "  theme_minimal() +\n",
        "  theme(axis.text.x = element_text(angle = 0, hjust = 1, size = font_size_axes, family = \"Times New Roman\"),  # Adjust font size for x axis labels\n",
        "        axis.text.y = element_text(size = font_size_axes, family = \"Times New Roman\"),  # Adjust font size for y axis labels\n",
        "        axis.title.x = element_text(size = font_size_axes, family = \"Times New Roman\"),  # Adjust font size for x axis title\n",
        "        axis.title.y = element_text(size = font_size_axes, family = \"Times New Roman\"),  # Adjust font size for y axis title\n",
        "        legend.title = element_text(family = \"Times New Roman\", hjust = 0.5),  # Set legend title font and center it\n",
        "        legend.title.align = 0.5,  # Center the legend title\n",
        "        legend.text = element_text(size = font_size_axes, family = \"Times New Roman\", margin = margin(0, 10, 0, 0)),  # Adjust legend text size and margin\n",
        "        panel.grid = element_blank(),  # Remove grid lines\n",
        "        panel.border = element_rect(color = \"black\", fill = NA),  # Add border around plot\n",
        "        axis.line = element_line(color = \"black\"),\n",
        "        plot.title = element_text(hjust = 0.5, family = \"Times New Roman\"),\n",
        "        plot.caption = element_text(hjust = 0.5, family = \"Times New Roman\")) +  # Center the title\n",
        "  scale_x_continuous(breaks = seq(min(df_mirrored$x), max(df_mirrored$x), by = 1)) +\n",
        "  scale_y_continuous(breaks = seq(min(df_mirrored$y), max(df_mirrored$y), by = 1))\n",
        "\n",
        "# Save the plot as a scalable vector graphic (SVG) with higher resolution\n",
        "plot\n",
        "ggsave(\"HeatmapSpanishB.svg\", plot, width = 8, height = 6, dpi = 300)"
      ],
      "metadata": {
        "colab": {
          "base_uri": "https://localhost:8080/",
          "height": 437
        },
        "outputId": "d03dc252-bd9a-4cae-8b29-99706457178c",
        "id": "7p2pmC-w5h1L"
      },
      "execution_count": null,
      "outputs": [
        {
          "output_type": "display_data",
          "data": {
            "text/plain": [
              "plot without title"
            ],
            "image/png": "[encoded data removed]"
          },
          "metadata": {
            "image/png": {
              "width": 420,
              "height": 420
            }
          }
        }
      ]
    }
  ]
}